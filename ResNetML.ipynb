{
  "nbformat": 4,
  "nbformat_minor": 0,
  "metadata": {
    "colab": {
      "name": "ResNetML.ipynb",
      "version": "0.3.2",
      "provenance": [],
      "collapsed_sections": []
    },
    "kernelspec": {
      "name": "python3",
      "display_name": "Python 3"
    },
    "accelerator": "GPU"
  },
  "cells": [
    {
      "metadata": {
        "id": "nTmJT6_1OhI3",
        "colab_type": "code",
        "outputId": "f734cfb0-e666-4d53-f7a0-e5031499fde4",
        "colab": {
          "base_uri": "https://localhost:8080/",
          "height": 34
        }
      },
      "cell_type": "code",
      "source": [
        "from google.colab import drive\n",
        "drive.mount('/content/gdrive')"
      ],
      "execution_count": 1,
      "outputs": [
        {
          "output_type": "stream",
          "text": [
            "Drive already mounted at /content/gdrive; to attempt to forcibly remount, call drive.mount(\"/content/gdrive\", force_remount=True).\n"
          ],
          "name": "stdout"
        }
      ]
    },
    {
      "metadata": {
        "id": "aR15R9qcOiGp",
        "colab_type": "code",
        "outputId": "2f9a789b-47b3-44aa-b0ad-6ab66ac5c024",
        "colab": {
          "base_uri": "https://localhost:8080/",
          "height": 34
        }
      },
      "cell_type": "code",
      "source": [
        "cd /content/gdrive/My Drive/Colab-Notebooks/Areal"
      ],
      "execution_count": 2,
      "outputs": [
        {
          "output_type": "stream",
          "text": [
            "/content/gdrive/My Drive/Colab-Notebooks/Areal\n"
          ],
          "name": "stdout"
        }
      ]
    },
    {
      "metadata": {
        "id": "Vh5W0cOAOoVW",
        "colab_type": "code",
        "outputId": "0ecc72ee-3ad6-4987-999f-f48ca5fad27b",
        "colab": {
          "base_uri": "https://localhost:8080/",
          "height": 258
        }
      },
      "cell_type": "code",
      "source": [
        "!pip install torch\n",
        "!pip install torchvision\n",
        "!pip install tqdm"
      ],
      "execution_count": 3,
      "outputs": [
        {
          "output_type": "stream",
          "text": [
            "Requirement already satisfied: torch in /usr/local/lib/python3.6/dist-packages (1.0.0)\n",
            "Requirement already satisfied: torchvision in /usr/local/lib/python3.6/dist-packages (0.2.1)\n",
            "Requirement already satisfied: six in /usr/local/lib/python3.6/dist-packages (from torchvision) (1.11.0)\n",
            "Requirement already satisfied: numpy in /usr/local/lib/python3.6/dist-packages (from torchvision) (1.14.6)\n",
            "Requirement already satisfied: torch in /usr/local/lib/python3.6/dist-packages (from torchvision) (1.0.0)\n",
            "Collecting pillow>=4.1.1 (from torchvision)\n",
            "  Using cached https://files.pythonhosted.org/packages/85/5e/e91792f198bbc5a0d7d3055ad552bc4062942d27eaf75c3e2783cf64eae5/Pillow-5.4.1-cp36-cp36m-manylinux1_x86_64.whl\n",
            "Installing collected packages: pillow\n",
            "  Found existing installation: Pillow 4.0.0\n",
            "    Uninstalling Pillow-4.0.0:\n",
            "      Successfully uninstalled Pillow-4.0.0\n",
            "Successfully installed pillow-5.4.1\n",
            "Requirement already satisfied: tqdm in /usr/local/lib/python3.6/dist-packages (4.28.1)\n"
          ],
          "name": "stdout"
        }
      ]
    },
    {
      "metadata": {
        "id": "GkcbxGXdOsTv",
        "colab_type": "code",
        "outputId": "ef6e0021-9e68-4fb0-9daa-aee467250163",
        "colab": {
          "base_uri": "https://localhost:8080/",
          "height": 326
        }
      },
      "cell_type": "code",
      "source": [
        "!pip install Pillow==4.0.0\n",
        "!pip install PIL\n",
        "!pip install image\n",
        "from PIL import Image"
      ],
      "execution_count": 4,
      "outputs": [
        {
          "output_type": "stream",
          "text": [
            "Collecting Pillow==4.0.0\n",
            "  Using cached https://files.pythonhosted.org/packages/37/e8/b3fbf87b0188d22246678f8cd61e23e31caa1769ebc06f1664e2e5fe8a17/Pillow-4.0.0-cp36-cp36m-manylinux1_x86_64.whl\n",
            "Requirement already satisfied: olefile in /usr/local/lib/python3.6/dist-packages (from Pillow==4.0.0) (0.46)\n",
            "\u001b[31mtorchvision 0.2.1 has requirement pillow>=4.1.1, but you'll have pillow 4.0.0 which is incompatible.\u001b[0m\n",
            "Installing collected packages: Pillow\n",
            "  Found existing installation: Pillow 5.4.1\n",
            "    Uninstalling Pillow-5.4.1:\n",
            "      Successfully uninstalled Pillow-5.4.1\n",
            "Successfully installed Pillow-4.0.0\n",
            "Collecting PIL\n",
            "\u001b[31m  Could not find a version that satisfies the requirement PIL (from versions: )\u001b[0m\n",
            "\u001b[31mNo matching distribution found for PIL\u001b[0m\n",
            "Requirement already satisfied: image in /usr/local/lib/python3.6/dist-packages (1.5.27)\n",
            "Requirement already satisfied: pillow in /usr/local/lib/python3.6/dist-packages (from image) (4.0.0)\n",
            "Requirement already satisfied: django in /usr/local/lib/python3.6/dist-packages (from image) (2.1.5)\n",
            "Requirement already satisfied: olefile in /usr/local/lib/python3.6/dist-packages (from pillow->image) (0.46)\n",
            "Requirement already satisfied: pytz in /usr/local/lib/python3.6/dist-packages (from django->image) (2018.9)\n"
          ],
          "name": "stdout"
        }
      ]
    },
    {
      "metadata": {
        "id": "FxK3XObiOeBF",
        "colab_type": "code",
        "colab": {}
      },
      "cell_type": "code",
      "source": [
        "import torch\n",
        "import torch.nn as nn\n",
        "import torch.optim as optim\n",
        "from torch.optim import lr_scheduler\n",
        "import numpy as np\n",
        "import time\n",
        "import os\n",
        "import argparse\n",
        "import torchvision\n",
        "from torch.autograd import Variable \n",
        "from torchvision import transforms\n",
        "from tqdm import tqdm"
      ],
      "execution_count": 0,
      "outputs": []
    },
    {
      "metadata": {
        "id": "UL6KDLV7OeBd",
        "colab_type": "code",
        "colab": {}
      },
      "cell_type": "code",
      "source": [
        "# problem_dir = 'ingestion_program/'  \n",
        "# from sys import path; path.append(problem_dir)\n",
        "# data_dir = '128x128_autoML'\n",
        "# data_name = 'Areal'\n",
        "# from ingestion_program.data_io import read_as_df\n",
        "# data = read_as_df(data_dir  + '/' + data_name)"
      ],
      "execution_count": 0,
      "outputs": []
    },
    {
      "metadata": {
        "id": "Ja8KryWlOeBu",
        "colab_type": "code",
        "colab": {}
      },
      "cell_type": "code",
      "source": [
        "# from data_manager import DataManager\n",
        "# D = DataManager(data_name, data_dir, replace_missing=False, verbose=True)\n",
        "# print(D)"
      ],
      "execution_count": 0,
      "outputs": []
    },
    {
      "metadata": {
        "id": "orGScT5PaN_L",
        "colab_type": "code",
        "colab": {}
      },
      "cell_type": "code",
      "source": [
        "# import os\n",
        "# path_train = 'RES13/train/'\n",
        "# path_val = 'RES13/val/'\n",
        "# os.makedirs(path_train)\n",
        "# os.makedirs(path_val)\n",
        "# for x in range(13):\n",
        "#     if not os.path.exists(path_train+str(x)):\n",
        "#         os.makedirs(path_train+'class_'+str(x))\n",
        "#     if not os.path.exists(path_val+str(x)):\n",
        "#         os.makedirs(path_val+'class_'+str(x))"
      ],
      "execution_count": 0,
      "outputs": []
    },
    {
      "metadata": {
        "id": "512WMq6GbYJE",
        "colab_type": "code",
        "colab": {}
      },
      "cell_type": "code",
      "source": [
        "# import scipy.misc\n",
        "# import cv2"
      ],
      "execution_count": 0,
      "outputs": []
    },
    {
      "metadata": {
        "id": "9ypSBkFXa47m",
        "colab_type": "code",
        "colab": {}
      },
      "cell_type": "code",
      "source": [
        "# X_train = D.data['X_train']\n",
        "# Y_train = D.data['Y_train']\n",
        "# for i in range(Y_train.shape[0]):\n",
        "#     img = cv2.resize(X_train[i].reshape([128,128,3]), (256,256))\n",
        "#     if img.shape[2]==3:\n",
        "#         scipy.misc.imsave(path_train+'class_'+str(Y_train[i][0])+'/class_'+str(Y_train[i][0])+'_'+str(i)+'.jpg', img)\n",
        "#     else:\n",
        "#         print (i)"
      ],
      "execution_count": 0,
      "outputs": []
    },
    {
      "metadata": {
        "id": "FzeaXgJreXhp",
        "colab_type": "code",
        "colab": {}
      },
      "cell_type": "code",
      "source": [
        "# X_valid = D.data['X_valid']\n",
        "# Y_valid = D.data['Y_valid']\n",
        "# for j in range(Y_valid.shape[0]):\n",
        "#     img = cv2.resize(X_valid[j].reshape([128,128,3]), (256,256))\n",
        "#     scipy.misc.imsave(path_val+'class_'+str(Y_valid[j][0])+'/class_'+str(Y_valid[j][0])+'_'+str(j)+'.jpg', img)\n",
        "# print(j)"
      ],
      "execution_count": 0,
      "outputs": []
    },
    {
      "metadata": {
        "id": "hQHpQ1A2OeB8",
        "colab_type": "code",
        "colab": {}
      },
      "cell_type": "code",
      "source": [
        "## Load the model \n",
        "# inception = torchvision.models.inception_v3(pretrained='imagenet')"
      ],
      "execution_count": 0,
      "outputs": []
    },
    {
      "metadata": {
        "id": "dqD4EJhUOeB_",
        "colab_type": "code",
        "colab": {}
      },
      "cell_type": "code",
      "source": [
        "resnet = torchvision.models.resnet50(pretrained='imagenet')"
      ],
      "execution_count": 0,
      "outputs": []
    },
    {
      "metadata": {
        "id": "zCThoRcVOeCD",
        "colab_type": "code",
        "colab": {}
      },
      "cell_type": "code",
      "source": [
        "model_conv = resnet\n",
        "freeze_layers = 1\n",
        "n_class = 13"
      ],
      "execution_count": 0,
      "outputs": []
    },
    {
      "metadata": {
        "id": "S_Qt8GlXOeCK",
        "colab_type": "code",
        "colab": {}
      },
      "cell_type": "code",
      "source": [
        "## Lets freeze the first few layers. This is done in two stages \n",
        "# Stage-1 Freezing all the layers \n",
        "freeze_layers = 1\n",
        "if freeze_layers:\n",
        "    for i, param in model_conv.named_parameters():\n",
        "        param.requires_grad = False\n",
        "\n",
        "# Since imagenet as 1000 classes , We need to change our last layer according to the number of classes we have,\n",
        "num_ftrs = model_conv.fc.in_features\n",
        "model_conv.fc = nn.Linear(num_ftrs, n_class)\n",
        "\n",
        "# Stage-2 , Freeze all the layers till \"Conv2d_4a_3*3\"\n",
        "ct = []\n",
        "for name, child in model_conv.named_children():\n",
        "    #if \"Conv2d_4a_3x3\" in ct:\n",
        "        for params in child.parameters():\n",
        "            params.requires_grad = True\n",
        "#     ct.append(name)\n",
        "    \n",
        "# To view which layers are freeze and which layers are not freezed:\n",
        "# for name, child in model_conv.named_childeren():\n",
        "#     for name_2, params in child.named_parameters():\n",
        "#         print(name_2, params.requires_grad)"
      ],
      "execution_count": 0,
      "outputs": []
    },
    {
      "metadata": {
        "id": "ynl_WzLSOeCO",
        "colab_type": "code",
        "colab": {}
      },
      "cell_type": "code",
      "source": [
        "def train_model(model, dataloaders, dataset_sizes, criterion, optimizer, scheduler, use_gpu, num_epochs=25, mixup = False, alpha = 0.1):\n",
        "    if use_gpu:\n",
        "        model.cuda()\n",
        "        criterion.cuda()\n",
        "    \n",
        "    print(\"MIXUP\".format(mixup))\n",
        "    since = time.time()\n",
        "    \n",
        "    # graphs\n",
        "    loss_values_train = []\n",
        "    loss_values_valid = []\n",
        "    acc_values_train = []\n",
        "    acc_values_valid = []\n",
        "\n",
        "    best_model_wts = model.state_dict()\n",
        "    best_acc = 0.0\n",
        "\n",
        "    for epoch in range(num_epochs):\n",
        "        print('Epoch {}/{}'.format(epoch, num_epochs - 1))\n",
        "        print('-' * 10)\n",
        "\n",
        "        # Each epoch has a training and validation phase\n",
        "        for phase in ['train', 'val']:\n",
        "            if phase == 'train':\n",
        "                scheduler.step()\n",
        "                model.train(True)  # Set model to training mode\n",
        "            else:\n",
        "                model.train(False)  # Set model to evaluate mode\n",
        "\n",
        "            running_loss = 0.0\n",
        "            running_corrects = 0\n",
        "\n",
        "            # Iterate over data.\n",
        "            print(phase)\n",
        "            for data in tqdm(dataloaders[phase]):\n",
        "                # get the inputs\n",
        "                inputs, labels = data\n",
        "                \n",
        "                #augementation using mixup\n",
        "                if phase == 'train' and mixup:\n",
        "                    inputs = mixup_batch(inputs, alpha)\n",
        "                    \n",
        "                if use_gpu:\n",
        "                    inputs, labels = inputs.cuda(), labels.cuda()\n",
        "                \n",
        "                # zero the parameter gradients\n",
        "                optimizer.zero_grad()\n",
        "\n",
        "                # forward\n",
        "                outputs = model(inputs)\n",
        "                if type(outputs) == tuple:\n",
        "                    outputs, _ = outputs\n",
        "                _, preds = torch.max(outputs, 1)\n",
        "                loss = criterion(outputs, labels)\n",
        "\n",
        "                # backward + optimize only if in training phase\n",
        "                if phase == 'train':\n",
        "                    loss.backward()\n",
        "                    optimizer.step()\n",
        "\n",
        "                # statistics\n",
        "                running_loss += loss.item()\n",
        "                running_corrects += int(torch.sum(preds == labels))\n",
        "\n",
        "            epoch_loss = running_loss / dataset_sizes[phase]\n",
        "            epoch_acc = running_corrects / dataset_sizes[phase]\n",
        "            \n",
        "            if phase == 'train':\n",
        "                loss_values_train.append(epoch_loss)\n",
        "                acc_values_train.append(epoch_acc)\n",
        "            else:\n",
        "                loss_values_valid.append(epoch_loss)\n",
        "                acc_values_valid.append(epoch_acc)\n",
        "\n",
        "            print('{} Loss: {:.4f} Acc: {:.4f}'.format(phase, epoch_loss, epoch_acc))\n",
        "\n",
        "            # deep copy the model\n",
        "            if phase == 'val' and epoch_acc > best_acc:\n",
        "                best_acc = epoch_acc\n",
        "                best_model_wts = model.state_dict()\n",
        "\n",
        "        print()\n",
        "\n",
        "    time_elapsed = time.time() - since\n",
        "    print('Training complete in {:.0f}m {:.0f}s'.format(\n",
        "        time_elapsed // 60, time_elapsed % 60))\n",
        "    print('Best val Acc: {:4f}'.format(best_acc))\n",
        "\n",
        "    # load best model weights\n",
        "    model.load_state_dict(best_model_wts)\n",
        "    return model, ((loss_values_train, acc_values_train), (loss_values_valid, acc_values_valid))"
      ],
      "execution_count": 0,
      "outputs": []
    },
    {
      "metadata": {
        "id": "_5SarxA-OeCQ",
        "colab_type": "code",
        "outputId": "7670afe5-afc7-498a-be78-b096ecb4afe1",
        "colab": {
          "base_uri": "https://localhost:8080/",
          "height": 122
        }
      },
      "cell_type": "code",
      "source": [
        "## Loading the dataloaders -- Make sure that the data is saved in following way\n",
        "\"\"\"\n",
        "data/\n",
        "  - train/\n",
        "      - class_1 folder/\n",
        "          - img1.png\n",
        "          - img2.png\n",
        "      - class_2 folder/\n",
        "      .....\n",
        "      - class_n folder/\n",
        "  - val/\n",
        "      - class_1 folder/\n",
        "      - class_2 folder/\n",
        "      ......\n",
        "      - class_n folder/\n",
        "\"\"\"\n",
        "\n",
        "data_dir = \"RES13\"\n",
        "input_shape = 224\n",
        "batch_size = 64\n",
        "mean = [0.5, 0.5, 0.5]\n",
        "std = [0.5, 0.5, 0.5]\n",
        "scale = 360\n",
        "input_shape = 224\n",
        "use_parallel = False\n",
        "use_gpu = True\n",
        "epochs = 8\n",
        "\n",
        "data_transforms = transforms.Compose([\n",
        "        transforms.Resize(scale),\n",
        "        transforms.RandomResizedCrop(input_shape),\n",
        "        transforms.RandomHorizontalFlip(),\n",
        "        transforms.RandomVerticalFlip(),\n",
        "        transforms.RandomRotation(degrees=90),\n",
        "        transforms.ToTensor(),\n",
        "        transforms.Normalize(mean, std)])\n",
        "\n",
        "\n",
        "image_datasets = {x: torchvision.datasets.ImageFolder(os.path.join(data_dir, x),\n",
        "                                      data_transforms) for x in ['train', 'val']}\n",
        "dataloaders = {x: torch.utils.data.DataLoader(image_datasets[x], batch_size=batch_size,\n",
        "                                         shuffle=True, num_workers=4) for x in ['train', 'val']}\n",
        "dataset_sizes = {x: len(image_datasets[x]) for x in ['train', 'val']}\n",
        "class_names = image_datasets['train'].classes\n",
        "\n",
        "print (class_names)\n",
        "print (dataset_sizes)\n",
        "\n",
        "if use_parallel:\n",
        "    print(\"[Using all the available GPUs]\")\n",
        "    model_conv = nn.DataParallel(model_conv, device_ids=[0, 1])\n",
        "\n",
        "print(\"[Using CrossEntropyLoss...]\")\n",
        "criterion = nn.CrossEntropyLoss()\n",
        "\n",
        "print(\"[Using small learning rate with momentum...]\")\n",
        "optimizer_conv = optim.SGD(list(filter(lambda p: p.requires_grad, model_conv.parameters())), lr=0.001, momentum=0.9)\n",
        "\n",
        "print(\"[Creating Learning rate scheduler...]\")\n",
        "exp_lr_scheduler = lr_scheduler.StepLR(optimizer_conv, step_size=7, gamma=0.1)"
      ],
      "execution_count": 17,
      "outputs": [
        {
          "output_type": "stream",
          "text": [
            "['class_0', 'class_1', 'class_10', 'class_11', 'class_12', 'class_2', 'class_3', 'class_4', 'class_5', 'class_6', 'class_7', 'class_8', 'class_9']\n",
            "{'train': 5200, 'val': 1950}\n",
            "[Using CrossEntropyLoss...]\n",
            "[Using small learning rate with momentum...]\n",
            "[Creating Learning rate scheduler...]\n"
          ],
          "name": "stdout"
        }
      ]
    },
    {
      "metadata": {
        "id": "S46UJZSifJwd",
        "colab_type": "code",
        "outputId": "49eacdea-13b9-44e9-d122-29787dd81fcb",
        "colab": {
          "base_uri": "https://localhost:8080/",
          "height": 1309
        }
      },
      "cell_type": "code",
      "source": [
        "print(\"[Training the model begun ....]\")\n",
        "# train_model function\n",
        "model_ft, t = train_model(model_conv, dataloaders, dataset_sizes, criterion, optimizer_conv, exp_lr_scheduler, use_gpu,\n",
        "                     num_epochs=epochs)"
      ],
      "execution_count": 18,
      "outputs": [
        {
          "output_type": "stream",
          "text": [
            "[Training the model begun ....]\n"
          ],
          "name": "stdout"
        },
        {
          "output_type": "stream",
          "text": [
            "\r  0%|          | 0/82 [00:00<?, ?it/s]"
          ],
          "name": "stderr"
        },
        {
          "output_type": "stream",
          "text": [
            "MIXUP\n",
            "Epoch 0/7\n",
            "----------\n",
            "train\n"
          ],
          "name": "stdout"
        },
        {
          "output_type": "stream",
          "text": [
            "100%|██████████| 82/82 [02:05<00:00,  1.20s/it]\n",
            "  0%|          | 0/31 [00:00<?, ?it/s]"
          ],
          "name": "stderr"
        },
        {
          "output_type": "stream",
          "text": [
            "train Loss: 0.0266 Acc: 0.5273\n",
            "val\n"
          ],
          "name": "stdout"
        },
        {
          "output_type": "stream",
          "text": [
            "100%|██████████| 31/31 [00:19<00:00,  2.33it/s]\n",
            "  0%|          | 0/82 [00:00<?, ?it/s]"
          ],
          "name": "stderr"
        },
        {
          "output_type": "stream",
          "text": [
            "val Loss: 0.0144 Acc: 0.7287\n",
            "\n",
            "Epoch 1/7\n",
            "----------\n",
            "train\n"
          ],
          "name": "stdout"
        },
        {
          "output_type": "stream",
          "text": [
            "100%|██████████| 82/82 [02:05<00:00,  1.20s/it]\n",
            "  0%|          | 0/31 [00:00<?, ?it/s]"
          ],
          "name": "stderr"
        },
        {
          "output_type": "stream",
          "text": [
            "train Loss: 0.0112 Acc: 0.7831\n",
            "val\n"
          ],
          "name": "stdout"
        },
        {
          "output_type": "stream",
          "text": [
            "100%|██████████| 31/31 [00:19<00:00,  2.32it/s]\n",
            "  0%|          | 0/82 [00:00<?, ?it/s]"
          ],
          "name": "stderr"
        },
        {
          "output_type": "stream",
          "text": [
            "val Loss: 0.0087 Acc: 0.8241\n",
            "\n",
            "Epoch 2/7\n",
            "----------\n",
            "train\n"
          ],
          "name": "stdout"
        },
        {
          "output_type": "stream",
          "text": [
            "100%|██████████| 82/82 [02:05<00:00,  1.18s/it]\n",
            "  0%|          | 0/31 [00:00<?, ?it/s]"
          ],
          "name": "stderr"
        },
        {
          "output_type": "stream",
          "text": [
            "train Loss: 0.0081 Acc: 0.8356\n",
            "val\n"
          ],
          "name": "stdout"
        },
        {
          "output_type": "stream",
          "text": [
            "100%|██████████| 31/31 [00:19<00:00,  2.35it/s]\n",
            "  0%|          | 0/82 [00:00<?, ?it/s]"
          ],
          "name": "stderr"
        },
        {
          "output_type": "stream",
          "text": [
            "val Loss: 0.0071 Acc: 0.8590\n",
            "\n",
            "Epoch 3/7\n",
            "----------\n",
            "train\n"
          ],
          "name": "stdout"
        },
        {
          "output_type": "stream",
          "text": [
            "100%|██████████| 82/82 [02:04<00:00,  1.19s/it]\n",
            "  0%|          | 0/31 [00:00<?, ?it/s]"
          ],
          "name": "stderr"
        },
        {
          "output_type": "stream",
          "text": [
            "train Loss: 0.0070 Acc: 0.8579\n",
            "val\n"
          ],
          "name": "stdout"
        },
        {
          "output_type": "stream",
          "text": [
            "100%|██████████| 31/31 [00:19<00:00,  2.34it/s]\n",
            "  0%|          | 0/82 [00:00<?, ?it/s]"
          ],
          "name": "stderr"
        },
        {
          "output_type": "stream",
          "text": [
            "val Loss: 0.0059 Acc: 0.8774\n",
            "\n",
            "Epoch 4/7\n",
            "----------\n",
            "train\n"
          ],
          "name": "stdout"
        },
        {
          "output_type": "stream",
          "text": [
            "100%|██████████| 82/82 [02:04<00:00,  1.21s/it]\n",
            "  0%|          | 0/31 [00:00<?, ?it/s]"
          ],
          "name": "stderr"
        },
        {
          "output_type": "stream",
          "text": [
            "train Loss: 0.0062 Acc: 0.8717\n",
            "val\n"
          ],
          "name": "stdout"
        },
        {
          "output_type": "stream",
          "text": [
            "100%|██████████| 31/31 [00:19<00:00,  2.35it/s]\n",
            "  0%|          | 0/82 [00:00<?, ?it/s]"
          ],
          "name": "stderr"
        },
        {
          "output_type": "stream",
          "text": [
            "val Loss: 0.0059 Acc: 0.8841\n",
            "\n",
            "Epoch 5/7\n",
            "----------\n",
            "train\n"
          ],
          "name": "stdout"
        },
        {
          "output_type": "stream",
          "text": [
            "100%|██████████| 82/82 [02:04<00:00,  1.19s/it]\n",
            "  0%|          | 0/31 [00:00<?, ?it/s]"
          ],
          "name": "stderr"
        },
        {
          "output_type": "stream",
          "text": [
            "train Loss: 0.0055 Acc: 0.8871\n",
            "val\n"
          ],
          "name": "stdout"
        },
        {
          "output_type": "stream",
          "text": [
            "100%|██████████| 31/31 [00:19<00:00,  2.33it/s]\n",
            "  0%|          | 0/82 [00:00<?, ?it/s]"
          ],
          "name": "stderr"
        },
        {
          "output_type": "stream",
          "text": [
            "val Loss: 0.0054 Acc: 0.8944\n",
            "\n",
            "Epoch 6/7\n",
            "----------\n",
            "train\n"
          ],
          "name": "stdout"
        },
        {
          "output_type": "stream",
          "text": [
            "100%|██████████| 82/82 [02:04<00:00,  1.19s/it]\n",
            "  0%|          | 0/31 [00:00<?, ?it/s]"
          ],
          "name": "stderr"
        },
        {
          "output_type": "stream",
          "text": [
            "train Loss: 0.0050 Acc: 0.8983\n",
            "val\n"
          ],
          "name": "stdout"
        },
        {
          "output_type": "stream",
          "text": [
            "100%|██████████| 31/31 [00:19<00:00,  2.32it/s]\n",
            "  0%|          | 0/82 [00:00<?, ?it/s]"
          ],
          "name": "stderr"
        },
        {
          "output_type": "stream",
          "text": [
            "val Loss: 0.0052 Acc: 0.8974\n",
            "\n",
            "Epoch 7/7\n",
            "----------\n",
            "train\n"
          ],
          "name": "stdout"
        },
        {
          "output_type": "stream",
          "text": [
            "100%|██████████| 82/82 [02:04<00:00,  1.19s/it]\n",
            "  0%|          | 0/31 [00:00<?, ?it/s]"
          ],
          "name": "stderr"
        },
        {
          "output_type": "stream",
          "text": [
            "train Loss: 0.0046 Acc: 0.9083\n",
            "val\n"
          ],
          "name": "stdout"
        },
        {
          "output_type": "stream",
          "text": [
            "100%|██████████| 31/31 [00:19<00:00,  2.35it/s]"
          ],
          "name": "stderr"
        },
        {
          "output_type": "stream",
          "text": [
            "val Loss: 0.0045 Acc: 0.9097\n",
            "\n",
            "Training complete in 19m 15s\n",
            "Best val Acc: 0.909744\n"
          ],
          "name": "stdout"
        },
        {
          "output_type": "stream",
          "text": [
            "\n"
          ],
          "name": "stderr"
        }
      ]
    },
    {
      "metadata": {
        "id": "HGKOJomDlpXx",
        "colab_type": "code",
        "colab": {
          "base_uri": "https://localhost:8080/",
          "height": 735
        },
        "outputId": "625cf538-5f53-444f-b2cf-a152b2b58c2c"
      },
      "cell_type": "code",
      "source": [
        "import matplotlib.pyplot as plt\n",
        "#Loss\n",
        "x = range(8)\n",
        "plt.figure()\n",
        "plt.plot(x, t[0][0], \"b\", label=\"train\")\n",
        "plt.plot(x, t[1][0], \"r\", label=\"valid\")\n",
        "plt.title(\"Loss values\")\n",
        "plt.xlabel(\"Epoch\")\n",
        "plt.ylabel(\"Epoch loss\")\n",
        "plt.legend()\n",
        "plt.savefig(\"Loss.png\")\n",
        "plt.show()\n",
        "#Accu\n",
        "x = range(8)\n",
        "plt.figure()\n",
        "plt.plot(x, t[0][1], \"b\", label=\"train\")\n",
        "plt.plot(x, t[1][1], \"r\", label=\"valid\")\n",
        "plt.title(\"Accuracy values\")\n",
        "plt.xlabel(\"Epoch\")\n",
        "plt.ylabel(\"Epoch accuracy\")\n",
        "plt.legend()\n",
        "plt.savefig(\"Accu.png\")\n",
        "plt.show()"
      ],
      "execution_count": 20,
      "outputs": [
        {
          "output_type": "display_data",
          "data": {
            "image/png": "[encoded data removed]",
            "text/plain": [
              "<matplotlib.figure.Figure at 0x7f0cc596ad30>"
            ]
          },
          "metadata": {
            "tags": []
          }
        },
        {
          "output_type": "display_data",
          "data": {
            "image/png": "[encoded data removed]",
            "text/plain": [
              "<matplotlib.figure.Figure at 0x7f0cc62cb470>"
            ]
          },
          "metadata": {
            "tags": []
          }
        }
      ]
    },
    {
      "metadata": {
        "id": "4dCjXRd7OeC1",
        "colab_type": "code",
        "colab": {}
      },
      "cell_type": "code",
      "source": [
        "# tensor_data = torch.from_numpy(np.asarray(X_t).reshape([5200,1 ,3 , 256, 256]))\n",
        "# tensor_data = tensor_data.float()\n",
        "# tensor_target = torch.from_numpy(Y_train)\n",
        "# train = torch.utils.data.TensorDataset(tensor_data, tensor_target)\n",
        "\n",
        "# tensor_data = torch.from_numpy(np.asarray(X_v).reshape([1950,1, 3 , 256, 256]))\n",
        "# tensor_data = tensor_data.float()\n",
        "# tensor_target = torch.from_numpy(Y_valid)\n",
        "# valid = torch.utils.data.TensorDataset(tensor_data, tensor_target)\n",
        "\n",
        "# dataloaders = {'train': torch.utils.data.DataLoader(train, batch_size=batch_size,\n",
        "#                                          shuffle=True, num_workers=4),\n",
        "#                'valid': torch.utils.data.DataLoader(valid, batch_size=batch_size,\n",
        "#                                          shuffle=True, num_workers=4)}\n",
        "\n",
        "# dataset_sizes = {'train':5200,'val':1950}\n",
        "# dataloaders = {'train':train,'val':valid}\n",
        "# if use_parallel:\n",
        "#     print(\"[Using all the available GPUs]\")\n",
        "#     model_conv = nn.DataParallel(model_conv, device_ids=[0, 1])d"
      ],
      "execution_count": 0,
      "outputs": []
    },
    {
      "metadata": {
        "id": "QzMa_2gmlNBs",
        "colab_type": "code",
        "colab": {
          "base_uri": "https://localhost:8080/",
          "height": 697
        },
        "outputId": "aa43f64b-e745-4825-ab52-8a19520e7032"
      },
      "cell_type": "code",
      "source": [
        "print(\"[Training the model begun ....]\")\n",
        "# train_model function is here: https://github.com/Prakashvanapalli/pytorch_classifiers/blob/master/tars/tars_training.py\n",
        "model_ft, t1 = train_model(model_conv, dataloaders, dataset_sizes, criterion, optimizer_conv, exp_lr_scheduler, use_gpu,\n",
        "                     num_epochs=4)"
      ],
      "execution_count": 21,
      "outputs": [
        {
          "output_type": "stream",
          "text": [
            "\r  0%|          | 0/82 [00:00<?, ?it/s]"
          ],
          "name": "stderr"
        },
        {
          "output_type": "stream",
          "text": [
            "[Training the model begun ....]\n",
            "MIXUP\n",
            "Epoch 0/3\n",
            "----------\n",
            "train\n"
          ],
          "name": "stdout"
        },
        {
          "output_type": "stream",
          "text": [
            "100%|██████████| 82/82 [02:05<00:00,  1.22s/it]\n",
            "  0%|          | 0/31 [00:00<?, ?it/s]"
          ],
          "name": "stderr"
        },
        {
          "output_type": "stream",
          "text": [
            "train Loss: 0.0045 Acc: 0.9069\n",
            "val\n"
          ],
          "name": "stdout"
        },
        {
          "output_type": "stream",
          "text": [
            "100%|██████████| 31/31 [00:19<00:00,  2.32it/s]\n",
            "  0%|          | 0/82 [00:00<?, ?it/s]"
          ],
          "name": "stderr"
        },
        {
          "output_type": "stream",
          "text": [
            "val Loss: 0.0048 Acc: 0.9026\n",
            "\n",
            "Epoch 1/3\n",
            "----------\n",
            "train\n"
          ],
          "name": "stdout"
        },
        {
          "output_type": "stream",
          "text": [
            "100%|██████████| 82/82 [02:04<00:00,  1.19s/it]\n",
            "  0%|          | 0/31 [00:00<?, ?it/s]"
          ],
          "name": "stderr"
        },
        {
          "output_type": "stream",
          "text": [
            "train Loss: 0.0045 Acc: 0.9025\n",
            "val\n"
          ],
          "name": "stdout"
        },
        {
          "output_type": "stream",
          "text": [
            "100%|██████████| 31/31 [00:19<00:00,  2.30it/s]\n",
            "  0%|          | 0/82 [00:00<?, ?it/s]"
          ],
          "name": "stderr"
        },
        {
          "output_type": "stream",
          "text": [
            "val Loss: 0.0044 Acc: 0.9082\n",
            "\n",
            "Epoch 2/3\n",
            "----------\n",
            "train\n"
          ],
          "name": "stdout"
        },
        {
          "output_type": "stream",
          "text": [
            "100%|██████████| 82/82 [02:04<00:00,  1.20s/it]\n",
            "  0%|          | 0/31 [00:00<?, ?it/s]"
          ],
          "name": "stderr"
        },
        {
          "output_type": "stream",
          "text": [
            "train Loss: 0.0045 Acc: 0.9044\n",
            "val\n"
          ],
          "name": "stdout"
        },
        {
          "output_type": "stream",
          "text": [
            "100%|██████████| 31/31 [00:19<00:00,  2.33it/s]\n",
            "  0%|          | 0/82 [00:00<?, ?it/s]"
          ],
          "name": "stderr"
        },
        {
          "output_type": "stream",
          "text": [
            "val Loss: 0.0043 Acc: 0.9097\n",
            "\n",
            "Epoch 3/3\n",
            "----------\n",
            "train\n"
          ],
          "name": "stdout"
        },
        {
          "output_type": "stream",
          "text": [
            "100%|██████████| 82/82 [02:04<00:00,  1.19s/it]\n",
            "  0%|          | 0/31 [00:00<?, ?it/s]"
          ],
          "name": "stderr"
        },
        {
          "output_type": "stream",
          "text": [
            "train Loss: 0.0045 Acc: 0.9065\n",
            "val\n"
          ],
          "name": "stdout"
        },
        {
          "output_type": "stream",
          "text": [
            "100%|██████████| 31/31 [00:19<00:00,  2.32it/s]"
          ],
          "name": "stderr"
        },
        {
          "output_type": "stream",
          "text": [
            "val Loss: 0.0042 Acc: 0.9200\n",
            "\n",
            "Training complete in 9m 38s\n",
            "Best val Acc: 0.920000\n"
          ],
          "name": "stdout"
        },
        {
          "output_type": "stream",
          "text": [
            "\n"
          ],
          "name": "stderr"
        }
      ]
    },
    {
      "metadata": {
        "id": "mLaHubwllhvm",
        "colab_type": "code",
        "colab": {
          "base_uri": "https://localhost:8080/",
          "height": 735
        },
        "outputId": "aecee84e-64d5-4f89-bd45-97a2dd14343e"
      },
      "cell_type": "code",
      "source": [
        "x = range(12)\n",
        "plt.figure()\n",
        "plt.plot(x, t[0][0]+t1[0][0], \"b\", label=\"train\")\n",
        "plt.plot(x, t[1][0]+t1[1][0], \"r\", label=\"valid\")\n",
        "plt.title(\"Loss values\")\n",
        "plt.xlabel(\"Epoch\")\n",
        "plt.ylabel(\"Epoch loss\")\n",
        "plt.legend()\n",
        "plt.savefig('Loss.png')\n",
        "plt.show()\n",
        "\n",
        "x = range(12)\n",
        "plt.figure()\n",
        "plt.plot(x, t[0][1]+t1[0][1], \"b\", label=\"train\")\n",
        "plt.plot(x, t[1][1]+t1[1][1], \"r\", label=\"valid\")\n",
        "plt.title(\"Accuracy values\")\n",
        "plt.xlabel(\"Epoch\")\n",
        "plt.ylabel(\"Epoch accuracy\")\n",
        "plt.legend()\n",
        "plt.savefig('Acc.png')\n",
        "plt.show()"
      ],
      "execution_count": 24,
      "outputs": [
        {
          "output_type": "display_data",
          "data": {
            "image/png": "[encoded data removed]",
            "text/plain": [
              "<matplotlib.figure.Figure at 0x7f0cc5706a58>"
            ]
          },
          "metadata": {
            "tags": []
          }
        },
        {
          "output_type": "display_data",
          "data": {
            "image/png": "[encoded data removed]",
            "text/plain": [
              "<matplotlib.figure.Figure at 0x7f0cc5737a20>"
            ]
          },
          "metadata": {
            "tags": []
          }
        }
      ]
    }
  ]
}
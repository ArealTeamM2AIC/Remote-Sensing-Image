{
  "nbformat": 4,
  "nbformat_minor": 0,
  "metadata": {
    "colab": {
      "name": "README_copy.ipynb",
      "version": "0.3.2",
      "provenance": [],
      "collapsed_sections": [
        "uzYVRW-pebBx",
        "nLwegGHpebCD",
        "8m-Hi8JhebCH",
        "G4gd75GJebCS",
        "G55ag9i2ebCY",
        "ZFCyBWdiebCd"
      ]
    },
    "kernelspec": {
      "name": "python3",
      "display_name": "Python 3"
    },
    "accelerator": "GPU"
  },
  "cells": [
    {
      "metadata": {
        "id": "KLbwC58Pea9x",
        "colab_type": "text"
      },
      "cell_type": "markdown",
      "source": [
        "# Areal Project"
      ]
    },
    {
      "metadata": {
        "id": "ROoxoX7yea9z",
        "colab_type": "text"
      },
      "cell_type": "markdown",
      "source": [
        "<div>\n",
        "<img src=\"logo.jpg\" width=150 ALIGN=\"left\" border=\"20\">\n",
        "<h1> Starting Kit for preprocessed data</h1>\n",
        "<br>This code was tested with <br>\n",
        "Python 3.6.7 <br>\n",
        "Created by Areal Team <br><br>\n",
        "ALL INFORMATION, SOFTWARE, DOCUMENTATION, AND DATA ARE PROVIDED \"AS-IS\". The CDS, CHALEARN, AND/OR OTHER ORGANIZERS OR CODE AUTHORS DISCLAIM ANY EXPRESSED OR IMPLIED WARRANTIES, INCLUDING, BUT NOT LIMITED TO, THE IMPLIED WARRANTIES OF MERCHANTABILITY AND FITNESS FOR ANY PARTICULAR PURPOSE, AND THE WARRANTY OF NON-INFRIGEMENT OF ANY THIRD PARTY'S INTELLECTUAL PROPERTY RIGHTS. IN NO EVENT SHALL AUTHORS AND ORGANIZERS BE LIABLE FOR ANY SPECIAL, \n",
        "INDIRECT OR CONSEQUENTIAL DAMAGES OR ANY DAMAGES WHATSOEVER ARISING OUT OF OR IN CONNECTION WITH THE USE OR PERFORMANCE OF SOFTWARE, DOCUMENTS, MATERIALS, PUBLICATIONS, OR INFORMATION MADE AVAILABLE FOR THE CHALLENGE. \n",
        "</div>"
      ]
    },
    {
      "metadata": {
        "id": "VFQHbZudea90",
        "colab_type": "text"
      },
      "cell_type": "markdown",
      "source": [
        "<div>\n",
        "    <h2>Introduction </h2>\n",
        "     <br>\n",
        "Aerial imagery has been a primary source of geographic data for quite a long time. With technology progress, aerial imagery became really practical for remote sensing : the science of obtaining information about an object, area or phenomenon.\n",
        "Nowadays, there are many uses of image recognition spanning from robotics/drone vision to autonomous driving vehicules or face detection.\n",
        "<br>\n",
        "In this challenge, we will use pre-processed data, coming from landscape images. The goal is to learn to differentiate common and uncommon landscapes such as a beach, a lake or a meadow.\n",
        "    Data comes from part of the data set (NWPU-RESISC45) originally used in <a href=\"https://arxiv.org/pdf/1703.00121.pdf?fbclid=IwAR16qo-EX_Z05ZpxvWG8F-oBU0SlnY-3BPCWBVVOGPyJcVy7BBqCKjnsvJo\">Remote Sensing Image Scene Classification</a>. This data set contains 45 categories while we only kept 13 out of them.\n",
        "\n",
        "References and credits: \n",
        "Yuliya Tarabalka, Guillaume Charpiat, Nicolas Girard for the data sets presentation.<br>\n",
        "Gong Cheng, Junwei Han, and Xiaoqiang Lu, for the original article on the chosen data set.\n",
        "</div>"
      ]
    },
    {
      "metadata": {
        "id": "7-jXVGNdea91",
        "colab_type": "text"
      },
      "cell_type": "markdown",
      "source": [
        "### Requirements \n",
        "\n",
        "Our code uses multiple libraries, so the next cell will install python's required dependencies. In case you don't want to, or are running in the competition's docker, you can comment it."
      ]
    },
    {
      "metadata": {
        "id": "hfe3RO43fJNr",
        "colab_type": "code",
        "outputId": "f513b2db-abf3-469a-c012-5498481fb611",
        "colab": {
          "base_uri": "https://localhost:8080/",
          "height": 122
        }
      },
      "cell_type": "code",
      "source": [
        "from google.colab import drive\n",
        "drive.mount('/content/drive/')"
      ],
      "execution_count": 0,
      "outputs": [
        {
          "output_type": "stream",
          "text": [
            "Go to this URL in a browser: https://accounts.google.com/o/oauth2/auth?client_id=947318989803-6bn6qk8qdgf4n4g3pfee6491hc0brc4i.apps.googleusercontent.com&redirect_uri=urn%3Aietf%3Awg%3Aoauth%3A2.0%3Aoob&scope=email%20https%3A%2F%2Fwww.googleapis.com%2Fauth%2Fdocs.test%20https%3A%2F%2Fwww.googleapis.com%2Fauth%2Fdrive%20https%3A%2F%2Fwww.googleapis.com%2Fauth%2Fdrive.photos.readonly%20https%3A%2F%2Fwww.googleapis.com%2Fauth%2Fpeopleapi.readonly&response_type=code\n",
            "\n",
            "Enter your authorization code:\n",
            "··········\n",
            "Mounted at /content/drive/\n"
          ],
          "name": "stdout"
        }
      ]
    },
    {
      "metadata": {
        "id": "aSIEwWInfSM5",
        "colab_type": "code",
        "colab": {}
      },
      "cell_type": "code",
      "source": [
        "import os\n",
        "os.chdir(\"/content/drive/My Drive/Projects/starting_kit\")"
      ],
      "execution_count": 0,
      "outputs": []
    },
    {
      "metadata": {
        "id": "LJX9iIvaea93",
        "colab_type": "code",
        "outputId": "8e3e3f7e-2364-4915-dd90-9ca0ea2506d0",
        "colab": {
          "base_uri": "https://localhost:8080/",
          "height": 34
        }
      },
      "cell_type": "code",
      "source": [
        "!pip install --user -r requirements.txt"
      ],
      "execution_count": 0,
      "outputs": [
        {
          "output_type": "stream",
          "text": [
            "\u001b[31mCould not open requirements file: [Errno 2] No such file or directory: 'requirements.txt'\u001b[0m\n"
          ],
          "name": "stdout"
        }
      ]
    },
    {
      "metadata": {
        "id": "CFf0PNE3ea-D",
        "colab_type": "code",
        "colab": {}
      },
      "cell_type": "code",
      "source": [
        "import numpy as np\n",
        "import random\n",
        "import re"
      ],
      "execution_count": 0,
      "outputs": []
    },
    {
      "metadata": {
        "id": "ua_gb6Zgf-0M",
        "colab_type": "code",
        "colab": {}
      },
      "cell_type": "code",
      "source": [
        "import matplotlib as mpl\n",
        "mpl.rcParams['axes.grid'] = False"
      ],
      "execution_count": 0,
      "outputs": []
    },
    {
      "metadata": {
        "id": "X6fB8ZQ8ea-G",
        "colab_type": "code",
        "colab": {}
      },
      "cell_type": "code",
      "source": [
        "model_dir = \"sample_code_submission/\"\n",
        "result_dir = 'sample_result_submission/' \n",
        "problem_dir = 'ingestion_program/'  \n",
        "score_dir = 'scoring_program/'"
      ],
      "execution_count": 0,
      "outputs": []
    },
    {
      "metadata": {
        "id": "_WgjkcRBea-J",
        "colab_type": "code",
        "colab": {}
      },
      "cell_type": "code",
      "source": [
        "from sys import path; path.append(model_dir); path.append(problem_dir); path.append(score_dir);"
      ],
      "execution_count": 0,
      "outputs": []
    },
    {
      "metadata": {
        "id": "jcpZlg2dea-O",
        "colab_type": "text"
      },
      "cell_type": "markdown",
      "source": [
        "<div>\n",
        "    <h1> Step 1: Exploratory data analysis </h1>\n",
        "<p>\n",
        "We provide sample_data with the starting kit, but to prepare your submission, you must fetch the public_data from the challenge website and point to it.\n",
        "</div>"
      ]
    },
    {
      "metadata": {
        "id": "053sJXbaea-O",
        "colab_type": "text"
      },
      "cell_type": "markdown",
      "source": [
        "<div>\n",
        "<img src=\"CNN.png\" width=800 align=\"center\" border=\"20\">\n",
        "We used a special Convolutional Neural Network (CNN) already trained to recognize images in order to create the new data. To create it, we just kept the last form of the data, just before classification. <br>\n",
        "This new form is highly similar to weights we can see in a classic neural network.\n",
        "</div>"
      ]
    },
    {
      "metadata": {
        "id": "g7KsOv6_ea-R",
        "colab_type": "code",
        "colab": {}
      },
      "cell_type": "code",
      "source": [
        "data_dir = 'sample_data'\n",
        "data_name = 'Areal'"
      ],
      "execution_count": 0,
      "outputs": []
    },
    {
      "metadata": {
        "id": "XTLhdOtKea-U",
        "colab_type": "code",
        "outputId": "14911d43-74bf-438c-dd9e-4a56b3bfb884",
        "colab": {
          "base_uri": "https://localhost:8080/",
          "height": 323
        }
      },
      "cell_type": "code",
      "source": [
        "from ingestion_program.data_io import read_as_df\n",
        "data = read_as_df(data_dir  + '/' + data_name)"
      ],
      "execution_count": 0,
      "outputs": [
        {
          "output_type": "stream",
          "text": [
            "Reading sample_data/Areal_train from AutoML format\n",
            "Number of examples = 300\n",
            "Number of features = 4096\n",
            "        Class\n",
            "0       beach\n",
            "1   chaparral\n",
            "2       cloud\n",
            "3      desert\n",
            "4      forest\n",
            "5      island\n",
            "6        lake\n",
            "7      meadow\n",
            "8    mountain\n",
            "9       river\n",
            "10    sea_ice\n",
            "11   snowberg\n",
            "12    wetland\n",
            "Number of classes = 13\n"
          ],
          "name": "stdout"
        }
      ]
    },
    {
      "metadata": {
        "scrolled": true,
        "id": "QCJ7QtmBea-g",
        "colab_type": "code",
        "outputId": "874e348b-2409-403c-fe80-173a54aaf6cc",
        "colab": {
          "base_uri": "https://localhost:8080/",
          "height": 253
        }
      },
      "cell_type": "code",
      "source": [
        "data.head()"
      ],
      "execution_count": 0,
      "outputs": [
        {
          "output_type": "execute_result",
          "data": {
            "text/html": [
              "<div>\n",
              "<style scoped>\n",
              "    .dataframe tbody tr th:only-of-type {\n",
              "        vertical-align: middle;\n",
              "    }\n",
              "\n",
              "    .dataframe tbody tr th {\n",
              "        vertical-align: top;\n",
              "    }\n",
              "\n",
              "    .dataframe thead th {\n",
              "        text-align: right;\n",
              "    }\n",
              "</style>\n",
              "<table border=\"1\" class=\"dataframe\">\n",
              "  <thead>\n",
              "    <tr style=\"text-align: right;\">\n",
              "      <th></th>\n",
              "      <th>feature_1</th>\n",
              "      <th>feature_2</th>\n",
              "      <th>feature_3</th>\n",
              "      <th>feature_4</th>\n",
              "      <th>feature_5</th>\n",
              "      <th>feature_6</th>\n",
              "      <th>feature_7</th>\n",
              "      <th>feature_8</th>\n",
              "      <th>feature_9</th>\n",
              "      <th>feature_10</th>\n",
              "      <th>...</th>\n",
              "      <th>feature_4088</th>\n",
              "      <th>feature_4089</th>\n",
              "      <th>feature_4090</th>\n",
              "      <th>feature_4091</th>\n",
              "      <th>feature_4092</th>\n",
              "      <th>feature_4093</th>\n",
              "      <th>feature_4094</th>\n",
              "      <th>feature_4095</th>\n",
              "      <th>feature_4096</th>\n",
              "      <th>target</th>\n",
              "    </tr>\n",
              "  </thead>\n",
              "  <tbody>\n",
              "    <tr>\n",
              "      <th>0</th>\n",
              "      <td>0.0</td>\n",
              "      <td>0.0</td>\n",
              "      <td>0.0</td>\n",
              "      <td>0.000000</td>\n",
              "      <td>0.086625</td>\n",
              "      <td>0.0</td>\n",
              "      <td>0.000000</td>\n",
              "      <td>0.000000</td>\n",
              "      <td>0.0</td>\n",
              "      <td>0.0</td>\n",
              "      <td>...</td>\n",
              "      <td>0.000000</td>\n",
              "      <td>0.000000</td>\n",
              "      <td>0.0</td>\n",
              "      <td>2.014147</td>\n",
              "      <td>0.0</td>\n",
              "      <td>0.955390</td>\n",
              "      <td>0.0</td>\n",
              "      <td>0.0</td>\n",
              "      <td>0.000000</td>\n",
              "      <td>forest</td>\n",
              "    </tr>\n",
              "    <tr>\n",
              "      <th>1</th>\n",
              "      <td>0.0</td>\n",
              "      <td>0.0</td>\n",
              "      <td>0.0</td>\n",
              "      <td>0.000000</td>\n",
              "      <td>0.000000</td>\n",
              "      <td>0.0</td>\n",
              "      <td>0.000000</td>\n",
              "      <td>0.000000</td>\n",
              "      <td>0.0</td>\n",
              "      <td>0.0</td>\n",
              "      <td>...</td>\n",
              "      <td>0.000000</td>\n",
              "      <td>0.312153</td>\n",
              "      <td>0.0</td>\n",
              "      <td>0.000000</td>\n",
              "      <td>0.0</td>\n",
              "      <td>2.953564</td>\n",
              "      <td>0.0</td>\n",
              "      <td>0.0</td>\n",
              "      <td>1.072329</td>\n",
              "      <td>chaparral</td>\n",
              "    </tr>\n",
              "    <tr>\n",
              "      <th>2</th>\n",
              "      <td>0.0</td>\n",
              "      <td>0.0</td>\n",
              "      <td>0.0</td>\n",
              "      <td>2.515129</td>\n",
              "      <td>0.095439</td>\n",
              "      <td>0.0</td>\n",
              "      <td>0.045738</td>\n",
              "      <td>0.148969</td>\n",
              "      <td>0.0</td>\n",
              "      <td>0.0</td>\n",
              "      <td>...</td>\n",
              "      <td>0.000000</td>\n",
              "      <td>0.000000</td>\n",
              "      <td>0.0</td>\n",
              "      <td>0.000000</td>\n",
              "      <td>0.0</td>\n",
              "      <td>0.000000</td>\n",
              "      <td>0.0</td>\n",
              "      <td>0.0</td>\n",
              "      <td>0.000000</td>\n",
              "      <td>chaparral</td>\n",
              "    </tr>\n",
              "    <tr>\n",
              "      <th>3</th>\n",
              "      <td>0.0</td>\n",
              "      <td>0.0</td>\n",
              "      <td>0.0</td>\n",
              "      <td>0.000000</td>\n",
              "      <td>1.188573</td>\n",
              "      <td>0.0</td>\n",
              "      <td>0.000000</td>\n",
              "      <td>0.000000</td>\n",
              "      <td>0.0</td>\n",
              "      <td>0.0</td>\n",
              "      <td>...</td>\n",
              "      <td>2.228957</td>\n",
              "      <td>1.464646</td>\n",
              "      <td>0.0</td>\n",
              "      <td>0.000000</td>\n",
              "      <td>0.0</td>\n",
              "      <td>1.624980</td>\n",
              "      <td>0.0</td>\n",
              "      <td>0.0</td>\n",
              "      <td>0.000000</td>\n",
              "      <td>beach</td>\n",
              "    </tr>\n",
              "    <tr>\n",
              "      <th>4</th>\n",
              "      <td>0.0</td>\n",
              "      <td>0.0</td>\n",
              "      <td>0.0</td>\n",
              "      <td>0.000000</td>\n",
              "      <td>0.000000</td>\n",
              "      <td>0.0</td>\n",
              "      <td>0.000000</td>\n",
              "      <td>0.000000</td>\n",
              "      <td>0.0</td>\n",
              "      <td>0.0</td>\n",
              "      <td>...</td>\n",
              "      <td>0.000000</td>\n",
              "      <td>2.063259</td>\n",
              "      <td>0.0</td>\n",
              "      <td>0.000000</td>\n",
              "      <td>0.0</td>\n",
              "      <td>1.344442</td>\n",
              "      <td>0.0</td>\n",
              "      <td>0.0</td>\n",
              "      <td>0.552447</td>\n",
              "      <td>river</td>\n",
              "    </tr>\n",
              "  </tbody>\n",
              "</table>\n",
              "<p>5 rows × 4097 columns</p>\n",
              "</div>"
            ],
            "text/plain": [
              "   feature_1  feature_2  feature_3  feature_4  feature_5  feature_6  \\\n",
              "0        0.0        0.0        0.0   0.000000   0.086625        0.0   \n",
              "1        0.0        0.0        0.0   0.000000   0.000000        0.0   \n",
              "2        0.0        0.0        0.0   2.515129   0.095439        0.0   \n",
              "3        0.0        0.0        0.0   0.000000   1.188573        0.0   \n",
              "4        0.0        0.0        0.0   0.000000   0.000000        0.0   \n",
              "\n",
              "   feature_7  feature_8  feature_9  feature_10    ...      feature_4088  \\\n",
              "0   0.000000   0.000000        0.0         0.0    ...          0.000000   \n",
              "1   0.000000   0.000000        0.0         0.0    ...          0.000000   \n",
              "2   0.045738   0.148969        0.0         0.0    ...          0.000000   \n",
              "3   0.000000   0.000000        0.0         0.0    ...          2.228957   \n",
              "4   0.000000   0.000000        0.0         0.0    ...          0.000000   \n",
              "\n",
              "   feature_4089  feature_4090  feature_4091  feature_4092  feature_4093  \\\n",
              "0      0.000000           0.0      2.014147           0.0      0.955390   \n",
              "1      0.312153           0.0      0.000000           0.0      2.953564   \n",
              "2      0.000000           0.0      0.000000           0.0      0.000000   \n",
              "3      1.464646           0.0      0.000000           0.0      1.624980   \n",
              "4      2.063259           0.0      0.000000           0.0      1.344442   \n",
              "\n",
              "   feature_4094  feature_4095  feature_4096     target  \n",
              "0           0.0           0.0      0.000000     forest  \n",
              "1           0.0           0.0      1.072329  chaparral  \n",
              "2           0.0           0.0      0.000000  chaparral  \n",
              "3           0.0           0.0      0.000000      beach  \n",
              "4           0.0           0.0      0.552447      river  \n",
              "\n",
              "[5 rows x 4097 columns]"
            ]
          },
          "metadata": {
            "tags": []
          },
          "execution_count": 9
        }
      ]
    },
    {
      "metadata": {
        "id": "v0mQZM7Kea-l",
        "colab_type": "code",
        "outputId": "6d22ed6b-cd71-4421-cdac-2a350f5d4e51",
        "colab": {
          "base_uri": "https://localhost:8080/",
          "height": 346
        }
      },
      "cell_type": "code",
      "source": [
        "data.describe()"
      ],
      "execution_count": 0,
      "outputs": [
        {
          "output_type": "execute_result",
          "data": {
            "text/html": [
              "<div>\n",
              "<style scoped>\n",
              "    .dataframe tbody tr th:only-of-type {\n",
              "        vertical-align: middle;\n",
              "    }\n",
              "\n",
              "    .dataframe tbody tr th {\n",
              "        vertical-align: top;\n",
              "    }\n",
              "\n",
              "    .dataframe thead th {\n",
              "        text-align: right;\n",
              "    }\n",
              "</style>\n",
              "<table border=\"1\" class=\"dataframe\">\n",
              "  <thead>\n",
              "    <tr style=\"text-align: right;\">\n",
              "      <th></th>\n",
              "      <th>feature_1</th>\n",
              "      <th>feature_2</th>\n",
              "      <th>feature_3</th>\n",
              "      <th>feature_4</th>\n",
              "      <th>feature_5</th>\n",
              "      <th>feature_6</th>\n",
              "      <th>feature_7</th>\n",
              "      <th>feature_8</th>\n",
              "      <th>feature_9</th>\n",
              "      <th>feature_10</th>\n",
              "      <th>...</th>\n",
              "      <th>feature_4087</th>\n",
              "      <th>feature_4088</th>\n",
              "      <th>feature_4089</th>\n",
              "      <th>feature_4090</th>\n",
              "      <th>feature_4091</th>\n",
              "      <th>feature_4092</th>\n",
              "      <th>feature_4093</th>\n",
              "      <th>feature_4094</th>\n",
              "      <th>feature_4095</th>\n",
              "      <th>feature_4096</th>\n",
              "    </tr>\n",
              "  </thead>\n",
              "  <tbody>\n",
              "    <tr>\n",
              "      <th>count</th>\n",
              "      <td>300.000000</td>\n",
              "      <td>300.000000</td>\n",
              "      <td>300.000000</td>\n",
              "      <td>300.000000</td>\n",
              "      <td>300.000000</td>\n",
              "      <td>300.000000</td>\n",
              "      <td>300.000000</td>\n",
              "      <td>300.000000</td>\n",
              "      <td>300.000000</td>\n",
              "      <td>300.000000</td>\n",
              "      <td>...</td>\n",
              "      <td>300.000000</td>\n",
              "      <td>300.000000</td>\n",
              "      <td>300.000000</td>\n",
              "      <td>300.000000</td>\n",
              "      <td>300.000000</td>\n",
              "      <td>300.000000</td>\n",
              "      <td>300.000000</td>\n",
              "      <td>300.0</td>\n",
              "      <td>300.000000</td>\n",
              "      <td>300.000000</td>\n",
              "    </tr>\n",
              "    <tr>\n",
              "      <th>mean</th>\n",
              "      <td>0.006075</td>\n",
              "      <td>0.000996</td>\n",
              "      <td>0.035626</td>\n",
              "      <td>0.198109</td>\n",
              "      <td>0.306302</td>\n",
              "      <td>0.145392</td>\n",
              "      <td>0.029904</td>\n",
              "      <td>0.015574</td>\n",
              "      <td>0.017993</td>\n",
              "      <td>0.288413</td>\n",
              "      <td>...</td>\n",
              "      <td>0.004769</td>\n",
              "      <td>0.609520</td>\n",
              "      <td>0.597160</td>\n",
              "      <td>0.323590</td>\n",
              "      <td>0.020528</td>\n",
              "      <td>0.031902</td>\n",
              "      <td>1.481293</td>\n",
              "      <td>0.0</td>\n",
              "      <td>0.004534</td>\n",
              "      <td>1.239524</td>\n",
              "    </tr>\n",
              "    <tr>\n",
              "      <th>std</th>\n",
              "      <td>0.105224</td>\n",
              "      <td>0.014681</td>\n",
              "      <td>0.236130</td>\n",
              "      <td>0.668374</td>\n",
              "      <td>0.436969</td>\n",
              "      <td>0.522102</td>\n",
              "      <td>0.198194</td>\n",
              "      <td>0.179693</td>\n",
              "      <td>0.155665</td>\n",
              "      <td>0.591321</td>\n",
              "      <td>...</td>\n",
              "      <td>0.082608</td>\n",
              "      <td>1.323339</td>\n",
              "      <td>0.917379</td>\n",
              "      <td>1.019010</td>\n",
              "      <td>0.174347</td>\n",
              "      <td>0.250427</td>\n",
              "      <td>1.776533</td>\n",
              "      <td>0.0</td>\n",
              "      <td>0.078524</td>\n",
              "      <td>1.317253</td>\n",
              "    </tr>\n",
              "    <tr>\n",
              "      <th>min</th>\n",
              "      <td>0.000000</td>\n",
              "      <td>0.000000</td>\n",
              "      <td>0.000000</td>\n",
              "      <td>0.000000</td>\n",
              "      <td>0.000000</td>\n",
              "      <td>0.000000</td>\n",
              "      <td>0.000000</td>\n",
              "      <td>0.000000</td>\n",
              "      <td>0.000000</td>\n",
              "      <td>0.000000</td>\n",
              "      <td>...</td>\n",
              "      <td>0.000000</td>\n",
              "      <td>0.000000</td>\n",
              "      <td>0.000000</td>\n",
              "      <td>0.000000</td>\n",
              "      <td>0.000000</td>\n",
              "      <td>0.000000</td>\n",
              "      <td>0.000000</td>\n",
              "      <td>0.0</td>\n",
              "      <td>0.000000</td>\n",
              "      <td>0.000000</td>\n",
              "    </tr>\n",
              "    <tr>\n",
              "      <th>25%</th>\n",
              "      <td>0.000000</td>\n",
              "      <td>0.000000</td>\n",
              "      <td>0.000000</td>\n",
              "      <td>0.000000</td>\n",
              "      <td>0.000000</td>\n",
              "      <td>0.000000</td>\n",
              "      <td>0.000000</td>\n",
              "      <td>0.000000</td>\n",
              "      <td>0.000000</td>\n",
              "      <td>0.000000</td>\n",
              "      <td>...</td>\n",
              "      <td>0.000000</td>\n",
              "      <td>0.000000</td>\n",
              "      <td>0.000000</td>\n",
              "      <td>0.000000</td>\n",
              "      <td>0.000000</td>\n",
              "      <td>0.000000</td>\n",
              "      <td>0.000000</td>\n",
              "      <td>0.0</td>\n",
              "      <td>0.000000</td>\n",
              "      <td>0.000000</td>\n",
              "    </tr>\n",
              "    <tr>\n",
              "      <th>50%</th>\n",
              "      <td>0.000000</td>\n",
              "      <td>0.000000</td>\n",
              "      <td>0.000000</td>\n",
              "      <td>0.000000</td>\n",
              "      <td>0.063618</td>\n",
              "      <td>0.000000</td>\n",
              "      <td>0.000000</td>\n",
              "      <td>0.000000</td>\n",
              "      <td>0.000000</td>\n",
              "      <td>0.000000</td>\n",
              "      <td>...</td>\n",
              "      <td>0.000000</td>\n",
              "      <td>0.000000</td>\n",
              "      <td>0.000000</td>\n",
              "      <td>0.000000</td>\n",
              "      <td>0.000000</td>\n",
              "      <td>0.000000</td>\n",
              "      <td>0.872153</td>\n",
              "      <td>0.0</td>\n",
              "      <td>0.000000</td>\n",
              "      <td>0.898127</td>\n",
              "    </tr>\n",
              "    <tr>\n",
              "      <th>75%</th>\n",
              "      <td>0.000000</td>\n",
              "      <td>0.000000</td>\n",
              "      <td>0.000000</td>\n",
              "      <td>0.000000</td>\n",
              "      <td>0.523254</td>\n",
              "      <td>0.000000</td>\n",
              "      <td>0.000000</td>\n",
              "      <td>0.000000</td>\n",
              "      <td>0.000000</td>\n",
              "      <td>0.366293</td>\n",
              "      <td>...</td>\n",
              "      <td>0.000000</td>\n",
              "      <td>0.559731</td>\n",
              "      <td>0.934315</td>\n",
              "      <td>0.000000</td>\n",
              "      <td>0.000000</td>\n",
              "      <td>0.000000</td>\n",
              "      <td>2.437103</td>\n",
              "      <td>0.0</td>\n",
              "      <td>0.000000</td>\n",
              "      <td>2.187367</td>\n",
              "    </tr>\n",
              "    <tr>\n",
              "      <th>max</th>\n",
              "      <td>1.822537</td>\n",
              "      <td>0.249662</td>\n",
              "      <td>2.510623</td>\n",
              "      <td>4.527941</td>\n",
              "      <td>2.389151</td>\n",
              "      <td>3.870526</td>\n",
              "      <td>1.803066</td>\n",
              "      <td>2.875917</td>\n",
              "      <td>2.048211</td>\n",
              "      <td>4.265208</td>\n",
              "      <td>...</td>\n",
              "      <td>1.430818</td>\n",
              "      <td>9.752917</td>\n",
              "      <td>4.911635</td>\n",
              "      <td>7.399162</td>\n",
              "      <td>2.014147</td>\n",
              "      <td>3.326735</td>\n",
              "      <td>9.211884</td>\n",
              "      <td>0.0</td>\n",
              "      <td>1.360076</td>\n",
              "      <td>5.854851</td>\n",
              "    </tr>\n",
              "  </tbody>\n",
              "</table>\n",
              "<p>8 rows × 4096 columns</p>\n",
              "</div>"
            ],
            "text/plain": [
              "        feature_1   feature_2   feature_3   feature_4   feature_5   feature_6  \\\n",
              "count  300.000000  300.000000  300.000000  300.000000  300.000000  300.000000   \n",
              "mean     0.006075    0.000996    0.035626    0.198109    0.306302    0.145392   \n",
              "std      0.105224    0.014681    0.236130    0.668374    0.436969    0.522102   \n",
              "min      0.000000    0.000000    0.000000    0.000000    0.000000    0.000000   \n",
              "25%      0.000000    0.000000    0.000000    0.000000    0.000000    0.000000   \n",
              "50%      0.000000    0.000000    0.000000    0.000000    0.063618    0.000000   \n",
              "75%      0.000000    0.000000    0.000000    0.000000    0.523254    0.000000   \n",
              "max      1.822537    0.249662    2.510623    4.527941    2.389151    3.870526   \n",
              "\n",
              "        feature_7   feature_8   feature_9  feature_10      ...       \\\n",
              "count  300.000000  300.000000  300.000000  300.000000      ...        \n",
              "mean     0.029904    0.015574    0.017993    0.288413      ...        \n",
              "std      0.198194    0.179693    0.155665    0.591321      ...        \n",
              "min      0.000000    0.000000    0.000000    0.000000      ...        \n",
              "25%      0.000000    0.000000    0.000000    0.000000      ...        \n",
              "50%      0.000000    0.000000    0.000000    0.000000      ...        \n",
              "75%      0.000000    0.000000    0.000000    0.366293      ...        \n",
              "max      1.803066    2.875917    2.048211    4.265208      ...        \n",
              "\n",
              "       feature_4087  feature_4088  feature_4089  feature_4090  feature_4091  \\\n",
              "count    300.000000    300.000000    300.000000    300.000000    300.000000   \n",
              "mean       0.004769      0.609520      0.597160      0.323590      0.020528   \n",
              "std        0.082608      1.323339      0.917379      1.019010      0.174347   \n",
              "min        0.000000      0.000000      0.000000      0.000000      0.000000   \n",
              "25%        0.000000      0.000000      0.000000      0.000000      0.000000   \n",
              "50%        0.000000      0.000000      0.000000      0.000000      0.000000   \n",
              "75%        0.000000      0.559731      0.934315      0.000000      0.000000   \n",
              "max        1.430818      9.752917      4.911635      7.399162      2.014147   \n",
              "\n",
              "       feature_4092  feature_4093  feature_4094  feature_4095  feature_4096  \n",
              "count    300.000000    300.000000         300.0    300.000000    300.000000  \n",
              "mean       0.031902      1.481293           0.0      0.004534      1.239524  \n",
              "std        0.250427      1.776533           0.0      0.078524      1.317253  \n",
              "min        0.000000      0.000000           0.0      0.000000      0.000000  \n",
              "25%        0.000000      0.000000           0.0      0.000000      0.000000  \n",
              "50%        0.000000      0.872153           0.0      0.000000      0.898127  \n",
              "75%        0.000000      2.437103           0.0      0.000000      2.187367  \n",
              "max        3.326735      9.211884           0.0      1.360076      5.854851  \n",
              "\n",
              "[8 rows x 4096 columns]"
            ]
          },
          "metadata": {
            "tags": []
          },
          "execution_count": 10
        }
      ]
    },
    {
      "metadata": {
        "scrolled": true,
        "id": "gLiSSDBXea-s",
        "colab_type": "code",
        "outputId": "5e8ca73f-9d59-4741-cb73-d3ae04bbeac1",
        "colab": {
          "base_uri": "https://localhost:8080/",
          "height": 1105
        }
      },
      "cell_type": "code",
      "source": [
        "print(data.iloc[:, -1:])\n",
        "X = data.iloc[:, :-1]\n",
        "y = data.iloc[:, -1:]"
      ],
      "execution_count": 0,
      "outputs": [
        {
          "output_type": "stream",
          "text": [
            "        target\n",
            "0       forest\n",
            "1    chaparral\n",
            "2    chaparral\n",
            "3        beach\n",
            "4        river\n",
            "5        beach\n",
            "6    chaparral\n",
            "7        cloud\n",
            "8       forest\n",
            "9    chaparral\n",
            "10      island\n",
            "11     sea_ice\n",
            "12      meadow\n",
            "13       river\n",
            "14      forest\n",
            "15      desert\n",
            "16       cloud\n",
            "17       river\n",
            "18      island\n",
            "19      meadow\n",
            "20       river\n",
            "21       beach\n",
            "22       beach\n",
            "23       beach\n",
            "24    mountain\n",
            "25       river\n",
            "26     wetland\n",
            "27       cloud\n",
            "28       cloud\n",
            "29        lake\n",
            "..         ...\n",
            "270    wetland\n",
            "271  chaparral\n",
            "272     meadow\n",
            "273   mountain\n",
            "274    wetland\n",
            "275   mountain\n",
            "276    sea_ice\n",
            "277  chaparral\n",
            "278   snowberg\n",
            "279    sea_ice\n",
            "280      cloud\n",
            "281    wetland\n",
            "282   mountain\n",
            "283     desert\n",
            "284      river\n",
            "285     island\n",
            "286    sea_ice\n",
            "287      cloud\n",
            "288     forest\n",
            "289   snowberg\n",
            "290   mountain\n",
            "291      river\n",
            "292    sea_ice\n",
            "293      cloud\n",
            "294   snowberg\n",
            "295      cloud\n",
            "296      cloud\n",
            "297     island\n",
            "298       lake\n",
            "299     forest\n",
            "\n",
            "[300 rows x 1 columns]\n"
          ],
          "name": "stdout"
        }
      ]
    },
    {
      "metadata": {
        "id": "NJ1mlkBhea-0",
        "colab_type": "text"
      },
      "cell_type": "markdown",
      "source": [
        "### Visualization of values\n",
        "\n",
        "Most values are in the range (0, 5), with many really close to 0, and more than half are zero."
      ]
    },
    {
      "metadata": {
        "id": "HQ69YM4Vea-3",
        "colab_type": "code",
        "outputId": "a7229929-7306-41b5-dbb3-c2cc7c3a274d",
        "colab": {
          "base_uri": "https://localhost:8080/",
          "height": 51
        }
      },
      "cell_type": "code",
      "source": [
        "number_0 = (data.iloc[:,:-1] == 0).sum().sum()\n",
        "total_number = (data.iloc[:,:-1] == 0).sum().sum() + (data.iloc[:,:-1] != 0).sum().sum()\n",
        "print(\"Proportion of zeros : {:.2%}\".format(number_0 / total_number))\n",
        "print(\"Proportion of values inferior to 5 : {:.2%}\".format((data.iloc[:,:-1] < 5).sum().sum() / total_number))"
      ],
      "execution_count": 0,
      "outputs": [
        {
          "output_type": "stream",
          "text": [
            "Proportion of zeros : 86.19%\n",
            "Proportion of values inferior to 5 : 99.26%\n"
          ],
          "name": "stdout"
        }
      ]
    },
    {
      "metadata": {
        "id": "OxOTkYObea-9",
        "colab_type": "code",
        "outputId": "693549a0-460b-44ec-e046-3a40df5d602d",
        "colab": {
          "base_uri": "https://localhost:8080/",
          "height": 883
        }
      },
      "cell_type": "code",
      "source": [
        "import matplotlib.pyplot as plt\n",
        "%matplotlib inline\n",
        "\n",
        "plt.figure(figsize=(30,15))\n",
        "# Plot values of first 10 features\n",
        "data_plot=data.iloc[:,:10]\n",
        "data_plot.boxplot()\n",
        "plt.show()"
      ],
      "execution_count": 0,
      "outputs": [
        {
          "output_type": "display_data",
          "data": {
            "image/png": "[encoded data removed]",
            "text/plain": [
              "<matplotlib.figure.Figure at 0x7f1dd95ef4e0>"
            ]
          },
          "metadata": {
            "tags": []
          }
        }
      ]
    },
    {
      "metadata": {
        "id": "MyfqMcKHea_B",
        "colab_type": "code",
        "outputId": "40b2676c-0d44-4acf-c8a1-4aea96fb2d92",
        "colab": {
          "base_uri": "https://localhost:8080/",
          "height": 554
        }
      },
      "cell_type": "code",
      "source": [
        "import seaborn as sns\n",
        "# distribution of exemples by class\n",
        "sns.set(font_scale=1)\n",
        "plt.figure(figsize=(15,8))\n",
        "ax = sns.countplot(x='target', data=data)\n",
        "\n",
        "plt.title('Examples in each class', fontsize=19)\n",
        "plt.ylabel('Nunbre of examples', fontsize=14)\n",
        "plt.xlabel('Class name', fontsize=14)\n",
        "\n",
        "# adding the text labels\n",
        "patch_list = ax.patches\n",
        "for pat in patch_list:\n",
        "    height = pat.get_height()\n",
        "    ax.text(pat.get_x() + pat.get_width()/2, height+.2, str(pat.get_height()), ha='center', fontsize=11)\n",
        "\n",
        "plt.show()"
      ],
      "execution_count": 0,
      "outputs": [
        {
          "output_type": "stream",
          "text": [
            "/usr/local/lib/python3.6/dist-packages/seaborn/categorical.py:1428: FutureWarning: remove_na is deprecated and is a private function. Do not use.\n",
            "  stat_data = remove_na(group_data)\n"
          ],
          "name": "stderr"
        },
        {
          "output_type": "display_data",
          "data": {
            "image/png": "[encoded data removed]",
            "text/plain": [
              "<matplotlib.figure.Figure at 0x7f1dada70048>"
            ]
          },
          "metadata": {
            "tags": []
          }
        }
      ]
    },
    {
      "metadata": {
        "id": "bp7fRJfTea_L",
        "colab_type": "code",
        "outputId": "80787506-86ce-4640-8bdd-7c0f5a60d360",
        "colab": {
          "base_uri": "https://localhost:8080/",
          "height": 34
        }
      },
      "cell_type": "code",
      "source": [
        "# Calculate correlation\n",
        "#corr = data.corr()\n",
        "len(data['feature_351'].nonzero()[0])\n",
        "#random_features"
      ],
      "execution_count": 0,
      "outputs": [
        {
          "output_type": "execute_result",
          "data": {
            "text/plain": [
              "32"
            ]
          },
          "metadata": {
            "tags": []
          },
          "execution_count": 16
        }
      ]
    },
    {
      "metadata": {
        "id": "pFiKdEOLea_Q",
        "colab_type": "code",
        "colab": {}
      },
      "cell_type": "code",
      "source": [
        "# select random 20 features, count the number of examples that a feature is not 0\n",
        "random_features = np.random.choice(np.array(X.columns), 20)"
      ],
      "execution_count": 0,
      "outputs": []
    },
    {
      "metadata": {
        "id": "Y65e0IkXea_U",
        "colab_type": "code",
        "colab": {}
      },
      "cell_type": "code",
      "source": [
        "import re\n",
        "non_zero_counts = []\n",
        "features = []\n",
        "for f in random_features:\n",
        "    non_zero_counts.append(len(data[f].nonzero()[0]))\n",
        "    features.append( re.findall(r'\\d+', f)[0] )"
      ],
      "execution_count": 0,
      "outputs": []
    },
    {
      "metadata": {
        "id": "5PVEauyfea_b",
        "colab_type": "code",
        "outputId": "c8a75c70-2765-4049-c0c8-ec0a82e3cacd",
        "colab": {
          "base_uri": "https://localhost:8080/",
          "height": 522
        }
      },
      "cell_type": "code",
      "source": [
        "sns.set(font_scale=1)\n",
        "plt.figure(figsize=(15,8))\n",
        "ax = sns.barplot(features, non_zero_counts, color='darkblue')\n",
        "plt.xticks(rotation=-15)\n",
        "plt.show()"
      ],
      "execution_count": 0,
      "outputs": [
        {
          "output_type": "stream",
          "text": [
            "/usr/local/lib/python3.6/dist-packages/seaborn/categorical.py:1428: FutureWarning: remove_na is deprecated and is a private function. Do not use.\n",
            "  stat_data = remove_na(group_data)\n"
          ],
          "name": "stderr"
        },
        {
          "output_type": "display_data",
          "data": {
            "image/png": "[encoded data removed]",
            "text/plain": [
              "<matplotlib.figure.Figure at 0x7f1db5056dd8>"
            ]
          },
          "metadata": {
            "tags": []
          }
        }
      ]
    },
    {
      "metadata": {
        "id": "zfKYpet0ea_g",
        "colab_type": "code",
        "colab": {}
      },
      "cell_type": "code",
      "source": [
        ""
      ],
      "execution_count": 0,
      "outputs": []
    },
    {
      "metadata": {
        "id": "yDdQX5osea_j",
        "colab_type": "text"
      },
      "cell_type": "markdown",
      "source": [
        "### Visualisation as images\n",
        "\n",
        "Although any human won't be able to make sense of those images, it is by far simpler and faster for computers to correctly recognize those \"images\" and assign them their correct classes."
      ]
    },
    {
      "metadata": {
        "id": "UEbBrWYDea_l",
        "colab_type": "code",
        "outputId": "872df469-1e6e-4e49-8ba4-a950d292fb95",
        "colab": {
          "base_uri": "https://localhost:8080/",
          "height": 534
        }
      },
      "cell_type": "code",
      "source": [
        "import matplotlib.image as mpimg\n",
        "\n",
        "num_toshow = 6\n",
        "fig, _axs = plt.subplots(nrows=2, ncols=3, figsize=(10,10))\n",
        "fig.subplots_adjust(hspace=0.3)\n",
        "axs = _axs.flatten()\n",
        "\n",
        "for i in range(num_toshow):\n",
        "    img = data.iloc[i].values[:-1].reshape(64, 64)\n",
        "    label = data.values[i][-1:]\n",
        "    axs[i].set_title('Example of {}'.format(label))\n",
        "    axs[i].imshow(img.astype(float))\n",
        "\n",
        "plt.show()"
      ],
      "execution_count": 0,
      "outputs": [
        {
          "output_type": "display_data",
          "data": {
            "image/png": "[encoded data removed]",
            "text/plain": [
              "<matplotlib.figure.Figure at 0x7f1db47c69e8>"
            ]
          },
          "metadata": {
            "tags": []
          }
        }
      ]
    },
    {
      "metadata": {
        "id": "AweWTPUwea_t",
        "colab_type": "text"
      },
      "cell_type": "markdown",
      "source": [
        "# Step 2: Building a predictive model"
      ]
    },
    {
      "metadata": {
        "id": "rOlEhN2lea_u",
        "colab_type": "text"
      },
      "cell_type": "markdown",
      "source": [
        "Use DataManager to separate data for train, validation and test"
      ]
    },
    {
      "metadata": {
        "scrolled": false,
        "id": "G2UcyGonea_w",
        "colab_type": "code",
        "outputId": "a023796e-7e5a-413d-95d0-0c6197cdae6a",
        "colab": {
          "base_uri": "https://localhost:8080/",
          "height": 527
        }
      },
      "cell_type": "code",
      "source": [
        "from data_manager import DataManager\n",
        "D = DataManager(data_name, data_dir)\n",
        "print(D)"
      ],
      "execution_count": 0,
      "outputs": [
        {
          "output_type": "stream",
          "text": [
            "Info file found : /content/drive/My Drive/Projects/starting_kit/sample_data/Areal_public.info\n",
            "DataManager : Areal\n",
            "info:\n",
            "\tusage = Sample dataset Areal preprocessed data\n",
            "\tname = areal\n",
            "\ttask = multiclass.classification\n",
            "\ttarget_type = Categorical\n",
            "\tfeat_type = Numerical\n",
            "\tmetric = accuracy\n",
            "\ttime_budget = 12000\n",
            "\tfeat_num = 4096\n",
            "\ttarget_num = 13\n",
            "\tlabel_num = 13\n",
            "\ttrain_num = 300\n",
            "\tvalid_num = 100\n",
            "\ttest_num = 100\n",
            "\thas_categorical = 0\n",
            "\thas_missing = 0\n",
            "\tis_sparse = 0\n",
            "\tformat = dense\n",
            "data:\n",
            "\tX_train = array(300, 4096)\n",
            "\tY_train = array(300, 1)\n",
            "\tX_valid = array(100, 4096)\n",
            "\tY_valid = array(100, 1)\n",
            "\tX_test = array(100, 4096)\n",
            "\tY_test = array(100, 1)\n",
            "feat_type:\tarray(4096,)\n",
            "feat_idx:\tarray(0,)\n",
            "\n"
          ],
          "name": "stdout"
        }
      ]
    },
    {
      "metadata": {
        "id": "yeocnEaEea_2",
        "colab_type": "text"
      },
      "cell_type": "markdown",
      "source": [
        "Get data and labels by calling D.data (DataManager.data)"
      ]
    },
    {
      "metadata": {
        "id": "409R-dlLea_3",
        "colab_type": "code",
        "colab": {}
      },
      "cell_type": "code",
      "source": [
        "X_train = D.data['X_train']\n",
        "Y_train = D.data['Y_train']"
      ],
      "execution_count": 0,
      "outputs": []
    },
    {
      "metadata": {
        "id": "m9q5rNjqea_9",
        "colab_type": "code",
        "outputId": "f081d0cb-42f7-4ba4-f768-3674604ca0c0",
        "colab": {
          "base_uri": "https://localhost:8080/",
          "height": 34
        }
      },
      "cell_type": "code",
      "source": [
        "X_train.shape"
      ],
      "execution_count": 0,
      "outputs": [
        {
          "output_type": "execute_result",
          "data": {
            "text/plain": [
              "(300, 4096)"
            ]
          },
          "metadata": {
            "tags": []
          },
          "execution_count": 23
        }
      ]
    },
    {
      "metadata": {
        "id": "-RzonG4xebAD",
        "colab_type": "code",
        "colab": {}
      },
      "cell_type": "code",
      "source": [
        "def train_and_test(M):\n",
        "    M.fit(X_train, Y_train.reshape(-1))\n",
        "    Y_hat_train = M.predict(D.data['X_train'])\n",
        "    Y_hat_valid = M.predict(D.data['X_valid'])\n",
        "    Y_hat_test = M.predict(D.data['X_test'])\n",
        "    \n",
        "    result_name = result_dir + data_name\n",
        "    from data_io import write\n",
        "    from data_io import mkdir\n",
        "    mkdir(result_dir)\n",
        "\n",
        "    write(result_name + '_train.predict', Y_hat_train)\n",
        "    write(result_name + '_valid.predict', Y_hat_valid)\n",
        "    write(result_name + '_test.predict', Y_hat_test)\n",
        "    !ls $result_name*\n",
        "    \n",
        "    from libscores import get_metric\n",
        "    metric_name, scoring_function = get_metric()\n",
        "    print('Using scoring metric:', metric_name)\n",
        "    \n",
        "    print('Ideal score for the', metric_name, 'metric = %5.4f' % scoring_function(Y_train, Y_train), \"\\n\")\n",
        "\n",
        "    print(\"Scores with BaselineModel\")\n",
        "    print('Training score for the', metric_name, 'metric = %5.4f' % scoring_function(Y_train, Y_hat_train))\n",
        "    print('Validation score for the', metric_name, 'metric = %5.4f' % scoring_function(D.data['Y_valid'], Y_hat_valid))\n",
        "    print('Test score for the', metric_name, 'metric = %5.4f' % scoring_function(D.data['Y_test'], Y_hat_test))"
      ],
      "execution_count": 0,
      "outputs": []
    },
    {
      "metadata": {
        "id": "0C0IbBpWebAK",
        "colab_type": "code",
        "colab": {}
      },
      "cell_type": "code",
      "source": [
        "from model import SimpleDecisionTree"
      ],
      "execution_count": 0,
      "outputs": []
    },
    {
      "metadata": {
        "id": "O4JM3TpEebAf",
        "colab_type": "code",
        "colab": {}
      },
      "cell_type": "code",
      "source": [
        "from sklearn.tree import DecisionTreeClassifier\n",
        "from sklearn.ensemble import RandomForestClassifier\n",
        "from sklearn.ensemble import GradientBoostingClassifier\n",
        "from sklearn.svm import SVC\n",
        "from sklearn.neural_network import MLPClassifier\n",
        "import xgboost as xgb\n",
        "from sklearn.model_selection  import GridSearchCV"
      ],
      "execution_count": 0,
      "outputs": []
    },
    {
      "metadata": {
        "id": "Rw8kBYE3ebAj",
        "colab_type": "code",
        "colab": {}
      },
      "cell_type": "code",
      "source": [
        "#xgbClassifier = xgb.XGBClassifier(n_estimators=300, learning_rate=0.02)\n",
        "#svm = SVC(gamma=0.001, C=10, kernel='rbf')\n",
        "#rf = RandomForestClassifier(n_estimators=500, random_state=0)\n",
        "#mlp = MLPClassifier(hidden_layer_sizes=(100,), max_iter=10, alpha=1e-4,\n",
        "                    #solver='sgd', verbose=10, tol=1e-4, random_state=1,\n",
        "                    #learning_rate_init=.1)"
      ],
      "execution_count": 0,
      "outputs": []
    },
    {
      "metadata": {
        "id": "QMakDdpxljLS",
        "colab_type": "code",
        "colab": {}
      },
      "cell_type": "code",
      "source": [
        ""
      ],
      "execution_count": 0,
      "outputs": []
    },
    {
      "metadata": {
        "id": "oW03o_1NebAs",
        "colab_type": "code",
        "outputId": "ce03a35c-756a-4656-f001-9ead6909bdf7",
        "colab": {
          "base_uri": "https://localhost:8080/",
          "height": 187
        }
      },
      "cell_type": "code",
      "source": [
        "from sklearn.ensemble import RandomForestClassifier\n",
        "parameters = {'n_estimators' : (500, 750, 1000), 'max_depth':(10,20, 25), 'max_features':(100, 250, 500)}\n",
        "rf = RandomForestClassifier(n_estimators=750, max_depth=25, max_features=250)\n",
        "#grid_rf = GridSearchCV(M, parameters, cv=4)\n",
        "train_and_test(rf)"
      ],
      "execution_count": 0,
      "outputs": [
        {
          "output_type": "stream",
          "text": [
            "sample_result_submission/Areal_test.predict\n",
            "sample_result_submission/Areal_train.predict\n",
            "sample_result_submission/Areal_valid.predict\n",
            "Using scoring metric: accuracy\n",
            "Ideal score for the accuracy metric = 1.0000 \n",
            "\n",
            "Scores with BaselineModel\n",
            "Training score for the accuracy metric = 1.0000\n",
            "Validation score for the accuracy metric = 0.6300\n",
            "Test score for the accuracy metric = 0.4900\n"
          ],
          "name": "stdout"
        }
      ]
    },
    {
      "metadata": {
        "id": "L0UqNCsVxwKi",
        "colab_type": "code",
        "outputId": "8351436a-3e0b-45f3-9d48-73f5944da50f",
        "colab": {
          "base_uri": "https://localhost:8080/",
          "height": 187
        }
      },
      "cell_type": "code",
      "source": [
        "from sklearn.neural_network import MLPClassifier\n",
        "parameters = {'hidden_layer_sizes': ((2000,1000,500,100), (1000, 500, 100), (500, 100), ((100))), 'max_iter':(10,50, 100, 200, 500)}\n",
        "Mlp = MLPClassifier(hidden_layer_sizes=(500,100), max_iter=100)\n",
        "#grid_mlp = GridSearchCV(M, parameters, cv=3)\n",
        "train_and_test(Mlp)"
      ],
      "execution_count": 0,
      "outputs": [
        {
          "output_type": "stream",
          "text": [
            "sample_result_submission/Areal_test.predict\n",
            "sample_result_submission/Areal_train.predict\n",
            "sample_result_submission/Areal_valid.predict\n",
            "Using scoring metric: accuracy\n",
            "Ideal score for the accuracy metric = 1.0000 \n",
            "\n",
            "Scores with BaselineModel\n",
            "Training score for the accuracy metric = 1.0000\n",
            "Validation score for the accuracy metric = 0.6300\n",
            "Test score for the accuracy metric = 0.5500\n"
          ],
          "name": "stdout"
        }
      ]
    },
    {
      "metadata": {
        "id": "Q9Emhkmv3_Ue",
        "colab_type": "code",
        "colab": {}
      },
      "cell_type": "code",
      "source": [
        "from lightgbm import LGBMClassifier\n",
        "lgbm = LGBMClassifier( \n",
        "    boosting_type=\"gbdt\",\n",
        "    is_unbalance=True, \n",
        "    random_state=0, \n",
        "    n_estimators=500,\n",
        "    num_leaves=30, \n",
        "    max_depth=8,\n",
        "    feature_fraction=0.5,  \n",
        "    bagging_fraction=0.8, \n",
        "    bagging_freq=15, \n",
        "    learning_rate=0.01,    \n",
        ")"
      ],
      "execution_count": 0,
      "outputs": []
    },
    {
      "metadata": {
        "id": "naluArYrCBpf",
        "colab_type": "code",
        "colab": {}
      },
      "cell_type": "code",
      "source": [
        "#gridParams = {\n",
        "#    'learning_rate': [0.005],\n",
        "#    'n_estimators': [300],\n",
        "#    'num_leaves': [6,8,12,16],\n",
        "#    'boosting_type' : ['gbdt'],\n",
        "#    'objective' : ['binary'],\n",
        "#    'random_state' : [501], # Updated from 'seed'\n",
        "#    'colsample_bytree' : [0.65, 0.66],\n",
        "#    'subsample' : [0.7,0.75],\n",
        "#    'reg_alpha' : [1,1.2],\n",
        "#    'reg_lambda' : [1,1.2,1.4],\n",
        "#    }"
      ],
      "execution_count": 0,
      "outputs": []
    },
    {
      "metadata": {
        "id": "S3Wla4oH2tL1",
        "colab_type": "code",
        "outputId": "df6a4539-1fb0-45b1-926b-1a4336b48cc3",
        "colab": {
          "base_uri": "https://localhost:8080/",
          "height": 187
        }
      },
      "cell_type": "code",
      "source": [
        "#grid_lgbm = GridSearchCV(M, gridParams,\n",
        "#                    verbose=0,\n",
        "#                    cv=3,\n",
        "#                    n_jobs=2)\n",
        "train_and_test(lgbm)"
      ],
      "execution_count": 0,
      "outputs": [
        {
          "output_type": "stream",
          "text": [
            "sample_result_submission/Areal_test.predict\n",
            "sample_result_submission/Areal_train.predict\n",
            "sample_result_submission/Areal_valid.predict\n",
            "Using scoring metric: accuracy\n",
            "Ideal score for the accuracy metric = 1.0000 \n",
            "\n",
            "Scores with BaselineModel\n",
            "Training score for the accuracy metric = 1.0000\n",
            "Validation score for the accuracy metric = 0.5700\n",
            "Test score for the accuracy metric = 0.5300\n"
          ],
          "name": "stdout"
        }
      ]
    },
    {
      "metadata": {
        "id": "0jlA0P0k_aGc",
        "colab_type": "code",
        "colab": {}
      },
      "cell_type": "code",
      "source": [
        "#Mm = LGBMClassifier()"
      ],
      "execution_count": 0,
      "outputs": []
    },
    {
      "metadata": {
        "id": "NVWUKkdNUwMs",
        "colab_type": "code",
        "colab": {}
      },
      "cell_type": "code",
      "source": [
        ""
      ],
      "execution_count": 0,
      "outputs": []
    },
    {
      "metadata": {
        "id": "fxpbTYu3UwXK",
        "colab_type": "code",
        "colab": {}
      },
      "cell_type": "code",
      "source": [
        ""
      ],
      "execution_count": 0,
      "outputs": []
    },
    {
      "metadata": {
        "id": "Cx3X5ZViUwda",
        "colab_type": "code",
        "outputId": "826b21b3-51df-4c41-a865-d8946f8d24c4",
        "colab": {
          "base_uri": "https://localhost:8080/",
          "height": 483
        }
      },
      "cell_type": "code",
      "source": [
        "train_score=[1., 1., 1.]\n",
        "valid_score=[.63, .63, .57]\n",
        "test_score=[.49, .55, .53]\n",
        "algos = ['RandomForest', 'Multi-layerPerceptron', 'LightGradientBoostMachine']\n",
        "import pandas as pd\n",
        "df = pd.DataFrame({'train': train_score, 'valid': valid_score, 'test': test_score}, index=algos)\n",
        "%matplotlib inline\n",
        "plt.rc('figure', figsize=(10,8))\n",
        "ax = df.plot.bar(rot=0)\n",
        "plt.ylabel('mean(score)', fontsize=12)\n",
        "plt.show()"
      ],
      "execution_count": 0,
      "outputs": [
        {
          "output_type": "display_data",
          "data": {
            "image/png": "[encoded data removed]",
            "text/plain": [
              "<matplotlib.figure.Figure at 0x7f1dac05c198>"
            ]
          },
          "metadata": {
            "tags": []
          }
        }
      ]
    },
    {
      "metadata": {
        "id": "o-L9OkSMUwjp",
        "colab_type": "code",
        "colab": {}
      },
      "cell_type": "code",
      "source": [
        ""
      ],
      "execution_count": 0,
      "outputs": []
    },
    {
      "metadata": {
        "id": "tH4vP9zsUwpF",
        "colab_type": "code",
        "colab": {}
      },
      "cell_type": "code",
      "source": [
        ""
      ],
      "execution_count": 0,
      "outputs": []
    },
    {
      "metadata": {
        "id": "ijwxB0cUUwyC",
        "colab_type": "code",
        "colab": {}
      },
      "cell_type": "code",
      "source": [
        ""
      ],
      "execution_count": 0,
      "outputs": []
    },
    {
      "metadata": {
        "id": "B3C8PtzgZIAl",
        "colab_type": "code",
        "colab": {}
      },
      "cell_type": "code",
      "source": [
        ""
      ],
      "execution_count": 0,
      "outputs": []
    },
    {
      "metadata": {
        "id": "A93csLUvZILI",
        "colab_type": "code",
        "colab": {}
      },
      "cell_type": "code",
      "source": [
        ""
      ],
      "execution_count": 0,
      "outputs": []
    },
    {
      "metadata": {
        "id": "-ZAhNxcYc5-V",
        "colab_type": "text"
      },
      "cell_type": "markdown",
      "source": [
        "**select Kbest**"
      ]
    },
    {
      "metadata": {
        "id": "QAOj0NNDc9FQ",
        "colab_type": "code",
        "colab": {}
      },
      "cell_type": "code",
      "source": [
        ""
      ],
      "execution_count": 0,
      "outputs": []
    },
    {
      "metadata": {
        "id": "Up65RSeVc9LK",
        "colab_type": "code",
        "colab": {}
      },
      "cell_type": "code",
      "source": [
        ""
      ],
      "execution_count": 0,
      "outputs": []
    },
    {
      "metadata": {
        "id": "afo3ZfF4c9Pw",
        "colab_type": "code",
        "colab": {}
      },
      "cell_type": "code",
      "source": [
        ""
      ],
      "execution_count": 0,
      "outputs": []
    },
    {
      "metadata": {
        "id": "hxfCBIB6c9TY",
        "colab_type": "code",
        "colab": {}
      },
      "cell_type": "code",
      "source": [
        ""
      ],
      "execution_count": 0,
      "outputs": []
    },
    {
      "metadata": {
        "id": "2w8BdLsYc9WQ",
        "colab_type": "code",
        "colab": {}
      },
      "cell_type": "code",
      "source": [
        ""
      ],
      "execution_count": 0,
      "outputs": []
    },
    {
      "metadata": {
        "id": "sXexAGF98oQM",
        "colab_type": "code",
        "colab": {}
      },
      "cell_type": "code",
      "source": [
        ""
      ],
      "execution_count": 0,
      "outputs": []
    },
    {
      "metadata": {
        "id": "lqaBViqdebAz",
        "colab_type": "code",
        "colab": {}
      },
      "cell_type": "code",
      "source": [
        ""
      ],
      "execution_count": 0,
      "outputs": []
    },
    {
      "metadata": {
        "id": "6ZSrwGpyebA3",
        "colab_type": "code",
        "colab": {}
      },
      "cell_type": "code",
      "source": [
        ""
      ],
      "execution_count": 0,
      "outputs": []
    },
    {
      "metadata": {
        "id": "VaK9bswlebA9",
        "colab_type": "code",
        "colab": {}
      },
      "cell_type": "code",
      "source": [
        ""
      ],
      "execution_count": 0,
      "outputs": []
    },
    {
      "metadata": {
        "id": "-s6TySfnebBA",
        "colab_type": "code",
        "colab": {}
      },
      "cell_type": "code",
      "source": [
        "def train_and_test_reduit(M, train_set, selector):\n",
        "    M.fit(train_set, Y_train.reshape(-1))\n",
        "    X_new_train = selector.transform(D.data['X_train'])\n",
        "    X_new_valid = selector.transform(D.data['X_valid'])\n",
        "    X_new_test = selector.transform(D.data['X_test'])\n",
        "    \n",
        "    \n",
        "    Y_hat_train= M.predict(X_new_train)\n",
        "    Y_hat_valid = M.predict(X_new_valid )\n",
        "    Y_hat_test = M.predict(X_new_test)\n",
        "    \n",
        "    result_name = result_dir + data_name\n",
        "    from data_io import write\n",
        "    from data_io import mkdir\n",
        "    mkdir(result_dir)\n",
        "\n",
        "    write(result_name + '_train.predict', Y_hat_train)\n",
        "    write(result_name + '_valid.predict', Y_hat_valid)\n",
        "    write(result_name + '_test.predict', Y_hat_test)\n",
        "    !ls $result_name*\n",
        "    \n",
        "    from libscores import get_metric\n",
        "    metric_name, scoring_function = get_metric()\n",
        "    print('Using scoring metric:', metric_name)\n",
        "    \n",
        "    print('Ideal score for the', metric_name, 'metric = %5.4f' % scoring_function(Y_train, Y_train), \"\\n\")\n",
        "    \n",
        "    valid_score = scoring_function(D.data['Y_valid'], Y_hat_valid)\n",
        "    test_score = scoring_function(D.data['Y_test'], Y_hat_test)\n",
        "    print(\"Scores with BaselineModel\")\n",
        "    print('Training score for the', metric_name, 'metric = %5.4f' % scoring_function(Y_train, Y_hat_train))\n",
        "    print('Validation score for the', metric_name, 'metric = %5.4f' % valid_score)\n",
        "    print('Test score for the', metric_name, 'metric = %5.4f' % test_score)\n",
        "    return (valid_score, test_score)"
      ],
      "execution_count": 0,
      "outputs": []
    },
    {
      "metadata": {
        "id": "eVZHlX-rgfY8",
        "colab_type": "code",
        "colab": {}
      },
      "cell_type": "code",
      "source": [
        "k_list = range(100, 3001, 200)\n",
        "from sklearn.feature_selection import SelectKBest, chi2\n",
        "score_list = []\n",
        "for ka in k_list:\n",
        "    selector = SelectKBest(chi2, k=ka)\n",
        "    X_new = selector.fit_transform(X_train, Y_train)\n",
        "    score = train_and_test_reduit(Mlp, X_new, selector)\n",
        "    score_list.append(score)"
      ],
      "execution_count": 0,
      "outputs": []
    },
    {
      "metadata": {
        "id": "lZRUK8iNhduT",
        "colab_type": "code",
        "outputId": "b4e7e918-f790-4e0a-89ad-d2b2fcf9936f",
        "colab": {
          "base_uri": "https://localhost:8080/",
          "height": 2621
        }
      },
      "cell_type": "code",
      "source": [
        "from sklearn.feature_selection import SelectKBest, chi2\n",
        "score_list = []\n",
        "for ka in k_list:\n",
        "    selector = SelectKBest(chi2, k=ka)\n",
        "    X_new = selector.fit_transform(X_train, Y_train)\n",
        "    score = train_and_test_reduit(Mlp, X_new, selector)\n",
        "    score_list.append(score)\n",
        "\n",
        "valids, tests = zip(*score_list)\n",
        "%matplotlib inline\n",
        "#import matplotlib.pyplot as plt\n",
        "plt.rc('figure', figsize=(10,8))\n",
        "plt.plot(k_list, valids, label='Valid')\n",
        "plt.plot(k_list, tests, label='Test')\n",
        "plt.xlabel('number of feature')\n",
        "plt.ylabel('accuracy')\n",
        "plt.title('Accuracy over feature number') #fontsize=19)\n",
        "plt.show()"
      ],
      "execution_count": 0,
      "outputs": [
        {
          "output_type": "stream",
          "text": [
            "/usr/local/lib/python3.6/dist-packages/sklearn/neural_network/multilayer_perceptron.py:562: ConvergenceWarning: Stochastic Optimizer: Maximum iterations (100) reached and the optimization hasn't converged yet.\n",
            "  % self.max_iter, ConvergenceWarning)\n"
          ],
          "name": "stderr"
        },
        {
          "output_type": "stream",
          "text": [
            "sample_result_submission/Areal_test.predict\n",
            "sample_result_submission/Areal_train.predict\n",
            "sample_result_submission/Areal_valid.predict\n",
            "Using scoring metric: accuracy\n",
            "Ideal score for the accuracy metric = 1.0000 \n",
            "\n",
            "Scores with BaselineModel\n",
            "Training score for the accuracy metric = 1.0000\n",
            "Validation score for the accuracy metric = 0.5500\n",
            "Test score for the accuracy metric = 0.5300\n",
            "sample_result_submission/Areal_test.predict\n",
            "sample_result_submission/Areal_train.predict\n",
            "sample_result_submission/Areal_valid.predict\n",
            "Using scoring metric: accuracy\n",
            "Ideal score for the accuracy metric = 1.0000 \n",
            "\n",
            "Scores with BaselineModel\n",
            "Training score for the accuracy metric = 1.0000\n",
            "Validation score for the accuracy metric = 0.6100\n",
            "Test score for the accuracy metric = 0.5000\n",
            "sample_result_submission/Areal_test.predict\n",
            "sample_result_submission/Areal_train.predict\n",
            "sample_result_submission/Areal_valid.predict\n",
            "Using scoring metric: accuracy\n",
            "Ideal score for the accuracy metric = 1.0000 \n",
            "\n",
            "Scores with BaselineModel\n",
            "Training score for the accuracy metric = 1.0000\n",
            "Validation score for the accuracy metric = 0.6100\n",
            "Test score for the accuracy metric = 0.5100\n",
            "sample_result_submission/Areal_test.predict\n",
            "sample_result_submission/Areal_train.predict\n",
            "sample_result_submission/Areal_valid.predict\n",
            "Using scoring metric: accuracy\n",
            "Ideal score for the accuracy metric = 1.0000 \n",
            "\n",
            "Scores with BaselineModel\n",
            "Training score for the accuracy metric = 1.0000\n",
            "Validation score for the accuracy metric = 0.6300\n",
            "Test score for the accuracy metric = 0.5100\n",
            "sample_result_submission/Areal_test.predict\n",
            "sample_result_submission/Areal_train.predict\n",
            "sample_result_submission/Areal_valid.predict\n",
            "Using scoring metric: accuracy\n",
            "Ideal score for the accuracy metric = 1.0000 \n",
            "\n",
            "Scores with BaselineModel\n",
            "Training score for the accuracy metric = 1.0000\n",
            "Validation score for the accuracy metric = 0.6400\n",
            "Test score for the accuracy metric = 0.5300\n",
            "sample_result_submission/Areal_test.predict\n",
            "sample_result_submission/Areal_train.predict\n",
            "sample_result_submission/Areal_valid.predict\n",
            "Using scoring metric: accuracy\n",
            "Ideal score for the accuracy metric = 1.0000 \n",
            "\n",
            "Scores with BaselineModel\n",
            "Training score for the accuracy metric = 1.0000\n",
            "Validation score for the accuracy metric = 0.6600\n",
            "Test score for the accuracy metric = 0.4900\n",
            "sample_result_submission/Areal_test.predict\n",
            "sample_result_submission/Areal_train.predict\n",
            "sample_result_submission/Areal_valid.predict\n",
            "Using scoring metric: accuracy\n",
            "Ideal score for the accuracy metric = 1.0000 \n",
            "\n",
            "Scores with BaselineModel\n",
            "Training score for the accuracy metric = 1.0000\n",
            "Validation score for the accuracy metric = 0.6700\n",
            "Test score for the accuracy metric = 0.5700\n",
            "sample_result_submission/Areal_test.predict\n",
            "sample_result_submission/Areal_train.predict\n",
            "sample_result_submission/Areal_valid.predict\n",
            "Using scoring metric: accuracy\n",
            "Ideal score for the accuracy metric = 1.0000 \n",
            "\n",
            "Scores with BaselineModel\n",
            "Training score for the accuracy metric = 1.0000\n",
            "Validation score for the accuracy metric = 0.6600\n",
            "Test score for the accuracy metric = 0.5300\n",
            "sample_result_submission/Areal_test.predict\n",
            "sample_result_submission/Areal_train.predict\n",
            "sample_result_submission/Areal_valid.predict\n",
            "Using scoring metric: accuracy\n",
            "Ideal score for the accuracy metric = 1.0000 \n",
            "\n",
            "Scores with BaselineModel\n",
            "Training score for the accuracy metric = 1.0000\n",
            "Validation score for the accuracy metric = 0.5900\n",
            "Test score for the accuracy metric = 0.5400\n",
            "sample_result_submission/Areal_test.predict\n",
            "sample_result_submission/Areal_train.predict\n",
            "sample_result_submission/Areal_valid.predict\n",
            "Using scoring metric: accuracy\n",
            "Ideal score for the accuracy metric = 1.0000 \n",
            "\n",
            "Scores with BaselineModel\n",
            "Training score for the accuracy metric = 1.0000\n",
            "Validation score for the accuracy metric = 0.5900\n",
            "Test score for the accuracy metric = 0.5300\n",
            "sample_result_submission/Areal_test.predict\n",
            "sample_result_submission/Areal_train.predict\n",
            "sample_result_submission/Areal_valid.predict\n",
            "Using scoring metric: accuracy\n",
            "Ideal score for the accuracy metric = 1.0000 \n",
            "\n",
            "Scores with BaselineModel\n",
            "Training score for the accuracy metric = 1.0000\n",
            "Validation score for the accuracy metric = 0.6200\n",
            "Test score for the accuracy metric = 0.5200\n",
            "sample_result_submission/Areal_test.predict\n",
            "sample_result_submission/Areal_train.predict\n",
            "sample_result_submission/Areal_valid.predict\n",
            "Using scoring metric: accuracy\n",
            "Ideal score for the accuracy metric = 1.0000 \n",
            "\n",
            "Scores with BaselineModel\n",
            "Training score for the accuracy metric = 1.0000\n",
            "Validation score for the accuracy metric = 0.6300\n",
            "Test score for the accuracy metric = 0.5000\n",
            "sample_result_submission/Areal_test.predict\n",
            "sample_result_submission/Areal_train.predict\n",
            "sample_result_submission/Areal_valid.predict\n",
            "Using scoring metric: accuracy\n",
            "Ideal score for the accuracy metric = 1.0000 \n",
            "\n",
            "Scores with BaselineModel\n",
            "Training score for the accuracy metric = 1.0000\n",
            "Validation score for the accuracy metric = 0.6000\n",
            "Test score for the accuracy metric = 0.5400\n",
            "sample_result_submission/Areal_test.predict\n",
            "sample_result_submission/Areal_train.predict\n",
            "sample_result_submission/Areal_valid.predict\n",
            "Using scoring metric: accuracy\n",
            "Ideal score for the accuracy metric = 1.0000 \n",
            "\n",
            "Scores with BaselineModel\n",
            "Training score for the accuracy metric = 1.0000\n",
            "Validation score for the accuracy metric = 0.6400\n",
            "Test score for the accuracy metric = 0.4800\n",
            "sample_result_submission/Areal_test.predict\n",
            "sample_result_submission/Areal_train.predict\n",
            "sample_result_submission/Areal_valid.predict\n",
            "Using scoring metric: accuracy\n",
            "Ideal score for the accuracy metric = 1.0000 \n",
            "\n",
            "Scores with BaselineModel\n",
            "Training score for the accuracy metric = 1.0000\n",
            "Validation score for the accuracy metric = 0.7000\n",
            "Test score for the accuracy metric = 0.5200\n"
          ],
          "name": "stdout"
        }
      ]
    },
    {
      "metadata": {
        "id": "6OGEwd8kh5Na",
        "colab_type": "code",
        "colab": {}
      },
      "cell_type": "code",
      "source": [
        ""
      ],
      "execution_count": 0,
      "outputs": []
    },
    {
      "metadata": {
        "id": "NFu4qZqDh5Th",
        "colab_type": "code",
        "colab": {}
      },
      "cell_type": "code",
      "source": [
        ""
      ],
      "execution_count": 0,
      "outputs": []
    },
    {
      "metadata": {
        "id": "KifLOZQFlPlu",
        "colab_type": "code",
        "colab": {}
      },
      "cell_type": "code",
      "source": [
        ""
      ],
      "execution_count": 0,
      "outputs": []
    },
    {
      "metadata": {
        "id": "4kRLu5ssh5Y0",
        "colab_type": "code",
        "outputId": "e8d1033e-81a1-49e9-a609-b5c5b8ffb981",
        "colab": {
          "base_uri": "https://localhost:8080/",
          "height": 512
        }
      },
      "cell_type": "code",
      "source": [
        "%matplotlib inline\n",
        "#import matplotlib.pyplot as plt\n",
        "plt.rc('figure', figsize=(10,8))\n",
        "plt.plot(k_list, valids, label='Valid')\n",
        "plt.plot(k_list, tests, label='Test')\n",
        "plt.xlabel('number of feature')\n",
        "plt.ylabel('accuracy')\n",
        "plt.title('Accuracy over feature number') #fontsize=19)\n",
        "plt.show()"
      ],
      "execution_count": 0,
      "outputs": [
        {
          "output_type": "display_data",
          "data": {
            "image/png": "[encoded data removed]",
            "text/plain": [
              "<matplotlib.figure.Figure at 0x7f1da8ccf908>"
            ]
          },
          "metadata": {
            "tags": []
          }
        }
      ]
    },
    {
      "metadata": {
        "id": "J6KL2lvrkjoj",
        "colab_type": "code",
        "colab": {}
      },
      "cell_type": "code",
      "source": [
        ""
      ],
      "execution_count": 0,
      "outputs": []
    },
    {
      "metadata": {
        "id": "wxN1tBs_kjus",
        "colab_type": "code",
        "colab": {}
      },
      "cell_type": "code",
      "source": [
        ""
      ],
      "execution_count": 0,
      "outputs": []
    },
    {
      "metadata": {
        "id": "psNTWbdMkj0e",
        "colab_type": "code",
        "colab": {}
      },
      "cell_type": "code",
      "source": [
        ""
      ],
      "execution_count": 0,
      "outputs": []
    },
    {
      "metadata": {
        "id": "Dfcq9cBEebBC",
        "colab_type": "code",
        "colab": {}
      },
      "cell_type": "code",
      "source": [
        ""
      ],
      "execution_count": 0,
      "outputs": []
    },
    {
      "metadata": {
        "id": "ZoCUjldSebBF",
        "colab_type": "code",
        "colab": {}
      },
      "cell_type": "code",
      "source": [
        ""
      ],
      "execution_count": 0,
      "outputs": []
    },
    {
      "metadata": {
        "id": "1SI5XNY6ebBL",
        "colab_type": "code",
        "colab": {}
      },
      "cell_type": "code",
      "source": [
        ""
      ],
      "execution_count": 0,
      "outputs": []
    },
    {
      "metadata": {
        "id": "GbHlJMWWebBX",
        "colab_type": "code",
        "colab": {}
      },
      "cell_type": "code",
      "source": [
        ""
      ],
      "execution_count": 0,
      "outputs": []
    },
    {
      "metadata": {
        "id": "HUQzJcfxebBf",
        "colab_type": "code",
        "colab": {}
      },
      "cell_type": "code",
      "source": [
        ""
      ],
      "execution_count": 0,
      "outputs": []
    },
    {
      "metadata": {
        "id": "WZlhFyIPebBk",
        "colab_type": "text"
      },
      "cell_type": "markdown",
      "source": [
        "#### Fit the model\n",
        "\n",
        "Data as first argument, Labels as second, with .reshape(-1) to make sure that the array containing labels is flat and don't have multiple dimensions."
      ]
    },
    {
      "metadata": {
        "id": "-L-A3-2VebBl",
        "colab_type": "code",
        "outputId": "821414d7-b92d-4b6d-a090-c9d168123144",
        "colab": {}
      },
      "cell_type": "code",
      "source": [
        "M.fit(X_train, Y_train.reshape(-1))"
      ],
      "execution_count": 0,
      "outputs": [
        {
          "output_type": "execute_result",
          "data": {
            "text/plain": [
              "RandomForestClassifier(bootstrap=True, class_weight=None, criterion='gini',\n",
              "            max_depth=None, max_features='auto', max_leaf_nodes=None,\n",
              "            min_impurity_decrease=0.0, min_impurity_split=None,\n",
              "            min_samples_leaf=1, min_samples_split=2,\n",
              "            min_weight_fraction_leaf=0.0, n_estimators=100, n_jobs=None,\n",
              "            oob_score=False, random_state=0, verbose=0, warm_start=False)"
            ]
          },
          "metadata": {
            "tags": []
          },
          "execution_count": 26
        }
      ]
    },
    {
      "metadata": {
        "id": "AK-79B8QebBr",
        "colab_type": "code",
        "colab": {}
      },
      "cell_type": "code",
      "source": [
        "Y_hat_train = M.predict(D.data['X_train'])\n",
        "Y_hat_valid = M.predict(D.data['X_valid'])\n",
        "Y_hat_test = M.predict(D.data['X_test'])"
      ],
      "execution_count": 0,
      "outputs": []
    },
    {
      "metadata": {
        "id": "b4Ze3UsNebBv",
        "colab_type": "code",
        "outputId": "46dba971-647b-4f23-a97c-7565ec372070",
        "colab": {}
      },
      "cell_type": "code",
      "source": [
        "# m.save(trained_model_name)                 \n",
        "result_name = result_dir + data_name\n",
        "from data_io import write\n",
        "from data_io import mkdir\n",
        "mkdir(result_dir)\n",
        "\n",
        "write(result_name + '_train.predict', Y_hat_train)\n",
        "write(result_name + '_valid.predict', Y_hat_valid)\n",
        "write(result_name + '_test.predict', Y_hat_test)\n",
        "!ls $result_name*"
      ],
      "execution_count": 0,
      "outputs": [
        {
          "output_type": "stream",
          "text": [
            "sample_result_submission/Areal_test.predict\r\n",
            "sample_result_submission/Areal_train.predict\r\n",
            "sample_result_submission/Areal_valid.predict\r\n"
          ],
          "name": "stdout"
        }
      ]
    },
    {
      "metadata": {
        "id": "uzYVRW-pebBx",
        "colab_type": "text"
      },
      "cell_type": "markdown",
      "source": [
        "# Scoring predictions"
      ]
    },
    {
      "metadata": {
        "id": "5KXoJ2PRebBy",
        "colab_type": "code",
        "outputId": "9573e8e2-e178-441c-c6e3-d6620929d6ab",
        "colab": {}
      },
      "cell_type": "code",
      "source": [
        "from libscores import get_metric\n",
        "metric_name, scoring_function = get_metric()\n",
        "print('Using scoring metric:', metric_name)"
      ],
      "execution_count": 0,
      "outputs": [
        {
          "output_type": "stream",
          "text": [
            "Using scoring metric: accuracy\n"
          ],
          "name": "stdout"
        }
      ]
    },
    {
      "metadata": {
        "id": "0kKckdBFebB4",
        "colab_type": "code",
        "outputId": "814c380d-a3b1-4818-d029-b93e6aafa694",
        "colab": {}
      },
      "cell_type": "code",
      "source": [
        "print('Ideal score for the', metric_name, 'metric = %5.4f' % scoring_function(Y_train, Y_train), \"\\n\")\n",
        "\n",
        "print(\"Scores with BaselineModel\")\n",
        "print('Training score for the', metric_name, 'metric = %5.4f' % scoring_function(Y_train, Y_hat_train))\n",
        "print('Validation score for the', metric_name, 'metric = %5.4f' % scoring_function(D.data['Y_valid'], Y_hat_valid))\n",
        "print('Test score for the', metric_name, 'metric = %5.4f' % scoring_function(D.data['Y_test'], Y_hat_test))"
      ],
      "execution_count": 0,
      "outputs": [
        {
          "output_type": "stream",
          "text": [
            "Ideal score for the accuracy metric = 1.0000 \n",
            "\n",
            "Scores with BaselineModel\n",
            "Training score for the accuracy metric = 1.0000\n",
            "Validation score for the accuracy metric = 0.5600\n",
            "Test score for the accuracy metric = 0.4400\n"
          ],
          "name": "stdout"
        }
      ]
    },
    {
      "metadata": {
        "id": "4Qdyg8C7ebCA",
        "colab_type": "code",
        "outputId": "0c189fea-e258-4f98-97b8-c7cc5ac2d16b",
        "colab": {}
      },
      "cell_type": "code",
      "source": [
        "print('Ideal score for the', metric_name, 'metric = %5.4f' % scoring_function(Y_train, Y_train), \"\\n\")\n",
        "\n",
        "print(\"Scores with BaselineModel\")\n",
        "print('Training score for the', metric_name, 'metric = %5.4f' % scoring_function(Y_train, Y_hat_train))\n",
        "print('Validation score for the', metric_name, 'metric = %5.4f' % scoring_function(D.data['Y_valid'], Y_hat_valid))\n",
        "print('Test score for the', metric_name, 'metric = %5.4f' % scoring_function(D.data['Y_test'], Y_hat_test))"
      ],
      "execution_count": 0,
      "outputs": [
        {
          "output_type": "stream",
          "text": [
            "Ideal score for the accuracy metric = 1.0000 \n",
            "\n",
            "Scores with BaselineModel\n",
            "Training score for the accuracy metric = 1.0000\n",
            "Validation score for the accuracy metric = 0.2900\n",
            "Test score for the accuracy metric = 0.2900\n"
          ],
          "name": "stdout"
        }
      ]
    },
    {
      "metadata": {
        "id": "nLwegGHpebCD",
        "colab_type": "text"
      },
      "cell_type": "markdown",
      "source": [
        "## Confusion matrix\n",
        "\n",
        "Doesn't have much value on train with a 100% accuracy, so it is for validation"
      ]
    },
    {
      "metadata": {
        "id": "vh42Za-nebCD",
        "colab_type": "code",
        "outputId": "6f4f5bc6-51d2-421a-f660-25726b29193e",
        "colab": {}
      },
      "cell_type": "code",
      "source": [
        "from sklearn.metrics import confusion_matrix\n",
        "confusion_matrix(D.data['Y_valid'], Y_hat_valid)"
      ],
      "execution_count": 0,
      "outputs": [
        {
          "output_type": "execute_result",
          "data": {
            "text/plain": [
              "array([[1, 0, 1, 0, 0, 0, 0, 1, 0, 1, 0, 0, 0],\n",
              "       [1, 2, 0, 1, 0, 0, 0, 3, 0, 0, 0, 0, 0],\n",
              "       [1, 0, 2, 1, 0, 0, 0, 0, 1, 0, 0, 1, 0],\n",
              "       [0, 1, 2, 5, 1, 0, 1, 0, 1, 0, 1, 1, 0],\n",
              "       [0, 1, 1, 0, 1, 0, 0, 3, 0, 0, 0, 0, 2],\n",
              "       [0, 1, 1, 1, 0, 1, 1, 0, 0, 1, 0, 0, 0],\n",
              "       [0, 0, 0, 0, 0, 0, 0, 1, 2, 3, 0, 0, 0],\n",
              "       [0, 0, 0, 1, 2, 0, 0, 5, 0, 3, 2, 0, 3],\n",
              "       [0, 0, 0, 1, 1, 0, 1, 1, 3, 0, 0, 0, 0],\n",
              "       [0, 0, 2, 0, 0, 0, 1, 0, 0, 2, 1, 0, 0],\n",
              "       [0, 0, 1, 0, 0, 0, 0, 0, 0, 0, 3, 1, 0],\n",
              "       [0, 2, 0, 1, 0, 0, 0, 0, 0, 2, 2, 1, 0],\n",
              "       [0, 0, 0, 1, 1, 0, 0, 3, 0, 0, 0, 0, 3]])"
            ]
          },
          "metadata": {
            "tags": []
          },
          "execution_count": 29
        }
      ]
    },
    {
      "metadata": {
        "id": "8m-Hi8JhebCH",
        "colab_type": "text"
      },
      "cell_type": "markdown",
      "source": [
        "# Cross-validation\n",
        "\n",
        "Because validation and test labels should first not be available, we do cross validation to see our models quality"
      ]
    },
    {
      "metadata": {
        "id": "_UVCjI1YebCI",
        "colab_type": "code",
        "outputId": "f2debce4-0a7c-415b-f122-9554ebe13808",
        "colab": {}
      },
      "cell_type": "code",
      "source": [
        "from sklearn.metrics import make_scorer\n",
        "from sklearn.model_selection import cross_val_score\n",
        "\n",
        "scores = cross_val_score(RandomForestClassifier(n_estimators=100, random_state=0), X_train, Y_train, cv=5, scoring=make_scorer(scoring_function))\n",
        "print('\\nCV score (95 perc. CI): %0.2f (+/- %0.2f)' % (scores.mean(), scores.std() * 2))"
      ],
      "execution_count": 0,
      "outputs": [
        {
          "output_type": "stream",
          "text": [
            "/Users/vuthanhtrung/.local/lib/python3.6/site-packages/sklearn/model_selection/_validation.py:528: DataConversionWarning: A column-vector y was passed when a 1d array was expected. Please change the shape of y to (n_samples,), for example using ravel().\n",
            "  estimator.fit(X_train, y_train, **fit_params)\n",
            "/Users/vuthanhtrung/.local/lib/python3.6/site-packages/sklearn/model_selection/_validation.py:528: DataConversionWarning: A column-vector y was passed when a 1d array was expected. Please change the shape of y to (n_samples,), for example using ravel().\n",
            "  estimator.fit(X_train, y_train, **fit_params)\n",
            "/Users/vuthanhtrung/.local/lib/python3.6/site-packages/sklearn/model_selection/_validation.py:528: DataConversionWarning: A column-vector y was passed when a 1d array was expected. Please change the shape of y to (n_samples,), for example using ravel().\n",
            "  estimator.fit(X_train, y_train, **fit_params)\n",
            "/Users/vuthanhtrung/.local/lib/python3.6/site-packages/sklearn/model_selection/_validation.py:528: DataConversionWarning: A column-vector y was passed when a 1d array was expected. Please change the shape of y to (n_samples,), for example using ravel().\n",
            "  estimator.fit(X_train, y_train, **fit_params)\n",
            "/Users/vuthanhtrung/.local/lib/python3.6/site-packages/sklearn/model_selection/_validation.py:528: DataConversionWarning: A column-vector y was passed when a 1d array was expected. Please change the shape of y to (n_samples,), for example using ravel().\n",
            "  estimator.fit(X_train, y_train, **fit_params)\n"
          ],
          "name": "stderr"
        },
        {
          "output_type": "stream",
          "text": [
            "\n",
            "CV score (95 perc. CI): 0.53 (+/- 0.09)\n"
          ],
          "name": "stdout"
        }
      ]
    },
    {
      "metadata": {
        "id": "y_wUur-_ebCL",
        "colab_type": "code",
        "outputId": "cbcfaf39-cff2-4bf8-ed56-b8b945c7e0b2",
        "colab": {}
      },
      "cell_type": "code",
      "source": [
        "from sklearn.metrics import make_scorer\n",
        "from sklearn.model_selection import cross_val_score\n",
        "\n",
        "scores = cross_val_score(SimpleDecisionTree(), X_train, Y_train, cv=5, scoring=make_scorer(scoring_function))\n",
        "print('\\nCV score (95 perc. CI): %0.2f (+/- %0.2f)' % (scores.mean(), scores.std() * 2))"
      ],
      "execution_count": 0,
      "outputs": [
        {
          "output_type": "stream",
          "text": [
            "FIT: dim(X)= [240, 4096]\n",
            "FIT: dim(y)= [240, 1]\n",
            "PREDICT: dim(X)= [60, 4096]\n",
            "PREDICT: dim(y)= [60, 1]\n",
            "FIT: dim(X)= [240, 4096]\n",
            "FIT: dim(y)= [240, 1]\n",
            "PREDICT: dim(X)= [60, 4096]\n",
            "PREDICT: dim(y)= [60, 1]\n",
            "FIT: dim(X)= [240, 4096]\n",
            "FIT: dim(y)= [240, 1]\n",
            "PREDICT: dim(X)= [60, 4096]\n",
            "PREDICT: dim(y)= [60, 1]\n",
            "FIT: dim(X)= [240, 4096]\n",
            "FIT: dim(y)= [240, 1]\n",
            "PREDICT: dim(X)= [60, 4096]\n",
            "PREDICT: dim(y)= [60, 1]\n",
            "FIT: dim(X)= [240, 4096]\n",
            "FIT: dim(y)= [240, 1]\n",
            "PREDICT: dim(X)= [60, 4096]\n",
            "PREDICT: dim(y)= [60, 1]\n",
            "\n",
            "CV score (95 perc. CI): 0.26 (+/- 0.03)\n"
          ],
          "name": "stdout"
        }
      ]
    },
    {
      "metadata": {
        "id": "G4gd75GJebCS",
        "colab_type": "text"
      },
      "cell_type": "markdown",
      "source": [
        "# Submission\n",
        "\n",
        "## Example\n",
        "\n",
        "Example needs to have python3 installed\n",
        "\n",
        "Test to see whether submission with ingestion program is working"
      ]
    },
    {
      "metadata": {
        "scrolled": false,
        "id": "cexdGo04ebCT",
        "colab_type": "code",
        "outputId": "7a9d4a9d-5a7f-4553-b15d-9b434c7792f7",
        "colab": {}
      },
      "cell_type": "code",
      "source": [
        "!python3 $problem_dir/ingestion.py $data_dir $result_dir $problem_dir $model_dir"
      ],
      "execution_count": 0,
      "outputs": [
        {
          "output_type": "stream",
          "text": [
            "Using input_dir: /home/keanu/Documents/CoursMPI/M2/Projet/Remote-Sensing-Image/starting_kit_preprocessed/sample_data\n",
            "Using output_dir: /home/keanu/Documents/CoursMPI/M2/Projet/Remote-Sensing-Image/starting_kit_preprocessed/sample_result_submission\n",
            "Using program_dir: /home/keanu/Documents/CoursMPI/M2/Projet/Remote-Sensing-Image/starting_kit_preprocessed/ingestion_program\n",
            "Using submission_dir: /home/keanu/Documents/CoursMPI/M2/Projet/Remote-Sensing-Image/starting_kit_preprocessed/sample_code_submission\n",
            "\n",
            "========== Ingestion program version 6 ==========\n",
            "\n",
            "************************************************\n",
            "******** Processing dataset Areal ********\n",
            "************************************************\n",
            "========= Reading and converting data ==========\n",
            "Info file found : /home/keanu/Documents/CoursMPI/M2/Projet/Remote-Sensing-Image/starting_kit_preprocessed/sample_data/Areal_public.info\n",
            "========= Reading /home/keanu/Documents/CoursMPI/M2/Projet/Remote-Sensing-Image/starting_kit_preprocessed/sample_data/Areal_feat.type\n",
            "[+] Success in  0.00 sec\n",
            "========= Reading /home/keanu/Documents/CoursMPI/M2/Projet/Remote-Sensing-Image/starting_kit_preprocessed/sample_data/Areal_train.data\n",
            "Replace missing values by 0 (slow, sorry)\n",
            "[+] Success in  0.26 sec\n",
            "========= Reading /home/keanu/Documents/CoursMPI/M2/Projet/Remote-Sensing-Image/starting_kit_preprocessed/sample_data/Areal_train.solution\n",
            "[+] Success in  0.00 sec\n",
            "========= Reading /home/keanu/Documents/CoursMPI/M2/Projet/Remote-Sensing-Image/starting_kit_preprocessed/sample_data/Areal_valid.data\n",
            "Replace missing values by 0 (slow, sorry)\n",
            "[+] Success in  0.09 sec\n",
            "========= Reading /home/keanu/Documents/CoursMPI/M2/Projet/Remote-Sensing-Image/starting_kit_preprocessed/sample_data/Areal_valid.solution\n",
            "[+] Success in  0.00 sec\n",
            "========= Reading /home/keanu/Documents/CoursMPI/M2/Projet/Remote-Sensing-Image/starting_kit_preprocessed/sample_data/Areal_test.data\n",
            "Replace missing values by 0 (slow, sorry)\n",
            "[+] Success in  0.09 sec\n",
            "========= Reading /home/keanu/Documents/CoursMPI/M2/Projet/Remote-Sensing-Image/starting_kit_preprocessed/sample_data/Areal_test.solution\n",
            "[+] Success in  0.00 sec\n",
            "DataManager : Areal\n",
            "info:\n",
            "\tusage = Sample dataset Areal preprocessed data\n",
            "\tname = areal\n",
            "\ttask = multiclass.classification\n",
            "\ttarget_type = Categorical\n",
            "\tfeat_type = Numerical\n",
            "\tmetric = accuracy\n",
            "\ttime_budget = 12000\n",
            "\tfeat_num = 4096\n",
            "\ttarget_num = 13\n",
            "\tlabel_num = 13\n",
            "\ttrain_num = 300\n",
            "\tvalid_num = 100\n",
            "\ttest_num = 100\n",
            "\thas_categorical = 0\n",
            "\thas_missing = 0\n",
            "\tis_sparse = 0\n",
            "\tformat = dense\n",
            "data:\n",
            "\tX_train = array(300, 4096)\n",
            "\tY_train = array(300, 1)\n",
            "\tX_valid = array(100, 4096)\n",
            "\tY_valid = array(100, 1)\n",
            "\tX_test = array(100, 4096)\n",
            "\tY_test = array(100, 1)\n",
            "feat_type:\tarray(4096,)\n",
            "feat_idx:\tarray(4096,)\n",
            "\n",
            "[+] Size of uploaded data  56.00 bytes\n",
            "[+] Cumulated time budget (all tasks so far)  12000.00 sec\n",
            "[+] Time budget for this task 12000.00 sec\n",
            "[+] Remaining time after reading data 11999.54 sec\n",
            "======== Creating model ==========\n",
            "**********************************************************\n",
            "****** Attempting to reload model to avoid training ******\n",
            "**********************************************************\n",
            "Model reloaded from: /home/keanu/Documents/CoursMPI/M2/Projet/Remote-Sensing-Image/starting_kit_preprocessed/sample_code_submission/Areal_model.pickle\n",
            "[+] Model reloaded, no need to train!\n",
            "PREDICT: dim(X)= [300, 4096]\n",
            "PREDICT: dim(y)= [300, 1]\n",
            "PREDICT: dim(X)= [100, 4096]\n",
            "PREDICT: dim(y)= [100, 1]\n",
            "PREDICT: dim(X)= [100, 4096]\n",
            "PREDICT: dim(y)= [100, 1]\n",
            "[+] Prediction success, time spent so far  0.46 sec\n",
            "======== Saving results to: /home/keanu/Documents/CoursMPI/M2/Projet/Remote-Sensing-Image/starting_kit_preprocessed/sample_result_submission\n",
            "[+] Results saved, time spent so far  0.46 sec\n",
            "[+] End cycle, time left 11999.54 sec\n",
            "[+] Done\n",
            "[+] Overall time spent  1.01 sec ::  Overall time budget 12000.00 sec\n"
          ],
          "name": "stdout"
        }
      ]
    },
    {
      "metadata": {
        "id": "G55ag9i2ebCY",
        "colab_type": "text"
      },
      "cell_type": "markdown",
      "source": [
        "### Test scoring program"
      ]
    },
    {
      "metadata": {
        "id": "_QbaVwywebCY",
        "colab_type": "code",
        "outputId": "f01abb7b-6284-4c7c-9008-412a8e4a3c7c",
        "colab": {}
      },
      "cell_type": "code",
      "source": [
        "scoring_output_dir = 'scoring_output'\n",
        "!python3 $score_dir/score.py $data_dir $result_dir $scoring_output_dir"
      ],
      "execution_count": 0,
      "outputs": [
        {
          "output_type": "stream",
          "text": [
            "======= Set 1 (Areal_test): accuracy(set1_score)=0.330000000000 =======\r\n",
            "======= Set 2 (Areal_train): accuracy(set2_score)=1.000000000000 =======\r\n",
            "======= Set 3 (Areal_valid): accuracy(set3_score)=0.370000000000 =======\r\n"
          ],
          "name": "stdout"
        }
      ]
    },
    {
      "metadata": {
        "id": "ZFCyBWdiebCd",
        "colab_type": "text"
      },
      "cell_type": "markdown",
      "source": [
        "# Prepare the submission"
      ]
    },
    {
      "metadata": {
        "id": "P6v81B8KebCf",
        "colab_type": "code",
        "outputId": "170e1de3-5556-4c07-e66d-c1b811303da1",
        "colab": {}
      },
      "cell_type": "code",
      "source": [
        "import datetime \n",
        "from data_io import zipdir\n",
        "the_date = datetime.datetime.now().strftime(\"%y-%m-%d-%H-%M\")\n",
        "sample_code_submission = './sample_code_submission_prep_' + the_date + '.zip'\n",
        "sample_result_submission = './sample_result_submission_prep_' + the_date + '.zip'\n",
        "zipdir(sample_code_submission, model_dir)\n",
        "zipdir(sample_result_submission, result_dir)\n",
        "print(\"Submit one of these files:\\n\" + sample_code_submission + \"\\n\" + sample_result_submission)"
      ],
      "execution_count": 0,
      "outputs": [
        {
          "output_type": "stream",
          "text": [
            "Submit one of these files:\n",
            "./sample_code_submission_prep_18-12-10-15-08.zip\n",
            "./sample_result_submission_prep_18-12-10-15-08.zip\n"
          ],
          "name": "stdout"
        }
      ]
    },
    {
      "metadata": {
        "id": "3q1o-Io5ebCi",
        "colab_type": "code",
        "colab": {}
      },
      "cell_type": "code",
      "source": [
        ""
      ],
      "execution_count": 0,
      "outputs": []
    }
  ]
}
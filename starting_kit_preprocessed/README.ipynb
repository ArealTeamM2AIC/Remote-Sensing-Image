{
 "cells": [
  {
   "cell_type": "markdown",
   "metadata": {},
   "source": [
    "# Areal Project"
   ]
  },
  {
   "cell_type": "markdown",
   "metadata": {},
   "source": [
    "<div>\n",
    "<img src=\"logo.jpg\" width=150 ALIGN=\"left\" border=\"20\">\n",
    "<h1> Starting Kit for original data</h1>\n",
    "<br>This code was tested with <br>\n",
    "Python 3.6.7 <br>\n",
    "Created by Areal Team <br><br>\n",
    "ALL INFORMATION, SOFTWARE, DOCUMENTATION, AND DATA ARE PROVIDED \"AS-IS\". The CDS, CHALEARN, AND/OR OTHER ORGANIZERS OR CODE AUTHORS DISCLAIM ANY EXPRESSED OR IMPLIED WARRANTIES, INCLUDING, BUT NOT LIMITED TO, THE IMPLIED WARRANTIES OF MERCHANTABILITY AND FITNESS FOR ANY PARTICULAR PURPOSE, AND THE WARRANTY OF NON-INFRIGEMENT OF ANY THIRD PARTY'S INTELLECTUAL PROPERTY RIGHTS. IN NO EVENT SHALL AUTHORS AND ORGANIZERS BE LIABLE FOR ANY SPECIAL, \n",
    "INDIRECT OR CONSEQUENTIAL DAMAGES OR ANY DAMAGES WHATSOEVER ARISING OUT OF OR IN CONNECTION WITH THE USE OR PERFORMANCE OF SOFTWARE, DOCUMENTS, MATERIALS, PUBLICATIONS, OR INFORMATION MADE AVAILABLE FOR THE CHALLENGE. \n",
    "</div>"
   ]
  },
  {
   "cell_type": "markdown",
   "metadata": {},
   "source": [
    "<div>\n",
    "    <h2>Introduction </h2>\n",
    "     <br>\n",
    "Aerial imagery has been a primary source of geographic data for quite a long time. With technology progress, aerial imagery became really practical for remote sensing : the science of obtaining information about an object, area or phenomenon.\n",
    "Nowadays, there are many uses of image recognition spanning from robotics/drone vision to autonomous driving vehicules or face detection.\n",
    "<br>\n",
    "In this challenge, we will use pre-processed data, coming from landscape images. The goal is to learn to differentiate common and uncommon landscapes such as a beach, a lake or a meadow.\n",
    "    Data comes from part of the data set (NWPU-RESISC45) originally used in <a href=\"https://arxiv.org/pdf/1703.00121.pdf?fbclid=IwAR16qo-EX_Z05ZpxvWG8F-oBU0SlnY-3BPCWBVVOGPyJcVy7BBqCKjnsvJo\">Remote Sensing Image Scene Classification</a>. This data set contains 45 categories while we only kept 13 out of them.\n",
    "\n",
    "References and credits: \n",
    "Yuliya Tarabalka, Guillaume Charpiat, Nicolas Girard for the data sets presentation.<br>\n",
    "Gong Cheng, Junwei Han, and Xiaoqiang Lu, for the original article on the chosen data set.\n",
    "</div>"
   ]
  },
  {
   "cell_type": "markdown",
   "metadata": {},
   "source": [
    "### Requirements \n",
    "\n",
    "Our code uses multiple libraries, so if you encounter an error, you probably lack one of them.\n",
    "In that case, uncomment and run the next cell."
   ]
  },
  {
   "cell_type": "code",
   "execution_count": 3,
   "metadata": {},
   "outputs": [],
   "source": [
    "#!pip install --user -r requirements.txt"
   ]
  },
  {
   "cell_type": "code",
   "execution_count": 1,
   "metadata": {},
   "outputs": [],
   "source": [
    "import numpy as np\n",
    "import random\n",
    "import re"
   ]
  },
  {
   "cell_type": "code",
   "execution_count": 2,
   "metadata": {},
   "outputs": [],
   "source": [
    "model_dir = \"sample_code_submission/\"\n",
    "result_dir = 'sample_result_submission/' \n",
    "problem_dir = 'ingestion_program/'  \n",
    "score_dir = 'scoring_program/'"
   ]
  },
  {
   "cell_type": "code",
   "execution_count": 3,
   "metadata": {},
   "outputs": [],
   "source": [
    "from sys import path; path.append(model_dir); path.append(problem_dir); path.append(score_dir);"
   ]
  },
  {
   "cell_type": "markdown",
   "metadata": {},
   "source": [
    "<div>\n",
    "    <h1> Step 1: Exploratory data analysis </h1>\n",
    "<p>\n",
    "We provide sample_data with the starting kit, but to prepare your submission, you must fetch the public_data from the challenge website and point to it.\n",
    "</div>"
   ]
  },
  {
   "cell_type": "markdown",
   "metadata": {},
   "source": [
    "<div>\n",
    "<img src=\"CNN.png\" width=800 align=\"center\" border=\"20\">\n",
    "We used a special Convolutional Neural Network (CNN) already trained to recognize images in order to create the new data. To create it, we just kept the last form of the data, just before classification. <br>\n",
    "This new form is highly similar to weights we can see in a classic neural network.\n",
    "</div>"
   ]
  },
  {
   "cell_type": "code",
   "execution_count": 4,
   "metadata": {},
   "outputs": [],
   "source": [
    "data_dir = 'sample_data'\n",
    "data_name = 'Areal'"
   ]
  },
  {
   "cell_type": "code",
   "execution_count": 5,
   "metadata": {},
   "outputs": [
    {
     "name": "stdout",
     "output_type": "stream",
     "text": [
      "Reading sample_data/Areal_train from AutoML format\n",
      "Number of examples = 300\n",
      "Number of features = 4096\n",
      "        Class\n",
      "0       beach\n",
      "1   chaparral\n",
      "2       cloud\n",
      "3      desert\n",
      "4      forest\n",
      "5      island\n",
      "6        lake\n",
      "7      meadow\n",
      "8    mountain\n",
      "9       river\n",
      "10    sea_ice\n",
      "11   snowberg\n",
      "12    wetland\n",
      "Number of classes = 13\n"
     ]
    }
   ],
   "source": [
    "from ingestion_program.data_io import read_as_df\n",
    "data = read_as_df(data_dir  + '/' + data_name)"
   ]
  },
  {
   "cell_type": "code",
   "execution_count": 6,
   "metadata": {
    "scrolled": true
   },
   "outputs": [
    {
     "data": {
      "text/html": [
       "<div>\n",
       "<style scoped>\n",
       "    .dataframe tbody tr th:only-of-type {\n",
       "        vertical-align: middle;\n",
       "    }\n",
       "\n",
       "    .dataframe tbody tr th {\n",
       "        vertical-align: top;\n",
       "    }\n",
       "\n",
       "    .dataframe thead th {\n",
       "        text-align: right;\n",
       "    }\n",
       "</style>\n",
       "<table border=\"1\" class=\"dataframe\">\n",
       "  <thead>\n",
       "    <tr style=\"text-align: right;\">\n",
       "      <th></th>\n",
       "      <th>feature_1</th>\n",
       "      <th>feature_2</th>\n",
       "      <th>feature_3</th>\n",
       "      <th>feature_4</th>\n",
       "      <th>feature_5</th>\n",
       "      <th>feature_6</th>\n",
       "      <th>feature_7</th>\n",
       "      <th>feature_8</th>\n",
       "      <th>feature_9</th>\n",
       "      <th>feature_10</th>\n",
       "      <th>...</th>\n",
       "      <th>feature_4088</th>\n",
       "      <th>feature_4089</th>\n",
       "      <th>feature_4090</th>\n",
       "      <th>feature_4091</th>\n",
       "      <th>feature_4092</th>\n",
       "      <th>feature_4093</th>\n",
       "      <th>feature_4094</th>\n",
       "      <th>feature_4095</th>\n",
       "      <th>feature_4096</th>\n",
       "      <th>target</th>\n",
       "    </tr>\n",
       "  </thead>\n",
       "  <tbody>\n",
       "    <tr>\n",
       "      <th>0</th>\n",
       "      <td>0.0</td>\n",
       "      <td>0.0</td>\n",
       "      <td>0.0</td>\n",
       "      <td>0.000000</td>\n",
       "      <td>0.086625</td>\n",
       "      <td>0.0</td>\n",
       "      <td>0.000000</td>\n",
       "      <td>0.000000</td>\n",
       "      <td>0.0</td>\n",
       "      <td>0.0</td>\n",
       "      <td>...</td>\n",
       "      <td>0.000000</td>\n",
       "      <td>0.000000</td>\n",
       "      <td>0.0</td>\n",
       "      <td>2.014147</td>\n",
       "      <td>0.0</td>\n",
       "      <td>0.955390</td>\n",
       "      <td>0.0</td>\n",
       "      <td>0.0</td>\n",
       "      <td>0.000000</td>\n",
       "      <td>forest</td>\n",
       "    </tr>\n",
       "    <tr>\n",
       "      <th>1</th>\n",
       "      <td>0.0</td>\n",
       "      <td>0.0</td>\n",
       "      <td>0.0</td>\n",
       "      <td>0.000000</td>\n",
       "      <td>0.000000</td>\n",
       "      <td>0.0</td>\n",
       "      <td>0.000000</td>\n",
       "      <td>0.000000</td>\n",
       "      <td>0.0</td>\n",
       "      <td>0.0</td>\n",
       "      <td>...</td>\n",
       "      <td>0.000000</td>\n",
       "      <td>0.312153</td>\n",
       "      <td>0.0</td>\n",
       "      <td>0.000000</td>\n",
       "      <td>0.0</td>\n",
       "      <td>2.953564</td>\n",
       "      <td>0.0</td>\n",
       "      <td>0.0</td>\n",
       "      <td>1.072329</td>\n",
       "      <td>chaparral</td>\n",
       "    </tr>\n",
       "    <tr>\n",
       "      <th>2</th>\n",
       "      <td>0.0</td>\n",
       "      <td>0.0</td>\n",
       "      <td>0.0</td>\n",
       "      <td>2.515129</td>\n",
       "      <td>0.095439</td>\n",
       "      <td>0.0</td>\n",
       "      <td>0.045738</td>\n",
       "      <td>0.148969</td>\n",
       "      <td>0.0</td>\n",
       "      <td>0.0</td>\n",
       "      <td>...</td>\n",
       "      <td>0.000000</td>\n",
       "      <td>0.000000</td>\n",
       "      <td>0.0</td>\n",
       "      <td>0.000000</td>\n",
       "      <td>0.0</td>\n",
       "      <td>0.000000</td>\n",
       "      <td>0.0</td>\n",
       "      <td>0.0</td>\n",
       "      <td>0.000000</td>\n",
       "      <td>chaparral</td>\n",
       "    </tr>\n",
       "    <tr>\n",
       "      <th>3</th>\n",
       "      <td>0.0</td>\n",
       "      <td>0.0</td>\n",
       "      <td>0.0</td>\n",
       "      <td>0.000000</td>\n",
       "      <td>1.188573</td>\n",
       "      <td>0.0</td>\n",
       "      <td>0.000000</td>\n",
       "      <td>0.000000</td>\n",
       "      <td>0.0</td>\n",
       "      <td>0.0</td>\n",
       "      <td>...</td>\n",
       "      <td>2.228957</td>\n",
       "      <td>1.464646</td>\n",
       "      <td>0.0</td>\n",
       "      <td>0.000000</td>\n",
       "      <td>0.0</td>\n",
       "      <td>1.624980</td>\n",
       "      <td>0.0</td>\n",
       "      <td>0.0</td>\n",
       "      <td>0.000000</td>\n",
       "      <td>beach</td>\n",
       "    </tr>\n",
       "    <tr>\n",
       "      <th>4</th>\n",
       "      <td>0.0</td>\n",
       "      <td>0.0</td>\n",
       "      <td>0.0</td>\n",
       "      <td>0.000000</td>\n",
       "      <td>0.000000</td>\n",
       "      <td>0.0</td>\n",
       "      <td>0.000000</td>\n",
       "      <td>0.000000</td>\n",
       "      <td>0.0</td>\n",
       "      <td>0.0</td>\n",
       "      <td>...</td>\n",
       "      <td>0.000000</td>\n",
       "      <td>2.063259</td>\n",
       "      <td>0.0</td>\n",
       "      <td>0.000000</td>\n",
       "      <td>0.0</td>\n",
       "      <td>1.344442</td>\n",
       "      <td>0.0</td>\n",
       "      <td>0.0</td>\n",
       "      <td>0.552447</td>\n",
       "      <td>river</td>\n",
       "    </tr>\n",
       "  </tbody>\n",
       "</table>\n",
       "<p>5 rows × 4097 columns</p>\n",
       "</div>"
      ],
      "text/plain": [
       "   feature_1  feature_2  feature_3  feature_4  feature_5  feature_6  \\\n",
       "0        0.0        0.0        0.0   0.000000   0.086625        0.0   \n",
       "1        0.0        0.0        0.0   0.000000   0.000000        0.0   \n",
       "2        0.0        0.0        0.0   2.515129   0.095439        0.0   \n",
       "3        0.0        0.0        0.0   0.000000   1.188573        0.0   \n",
       "4        0.0        0.0        0.0   0.000000   0.000000        0.0   \n",
       "\n",
       "   feature_7  feature_8  feature_9  feature_10    ...      feature_4088  \\\n",
       "0   0.000000   0.000000        0.0         0.0    ...          0.000000   \n",
       "1   0.000000   0.000000        0.0         0.0    ...          0.000000   \n",
       "2   0.045738   0.148969        0.0         0.0    ...          0.000000   \n",
       "3   0.000000   0.000000        0.0         0.0    ...          2.228957   \n",
       "4   0.000000   0.000000        0.0         0.0    ...          0.000000   \n",
       "\n",
       "   feature_4089  feature_4090  feature_4091  feature_4092  feature_4093  \\\n",
       "0      0.000000           0.0      2.014147           0.0      0.955390   \n",
       "1      0.312153           0.0      0.000000           0.0      2.953564   \n",
       "2      0.000000           0.0      0.000000           0.0      0.000000   \n",
       "3      1.464646           0.0      0.000000           0.0      1.624980   \n",
       "4      2.063259           0.0      0.000000           0.0      1.344442   \n",
       "\n",
       "   feature_4094  feature_4095  feature_4096     target  \n",
       "0           0.0           0.0      0.000000     forest  \n",
       "1           0.0           0.0      1.072329  chaparral  \n",
       "2           0.0           0.0      0.000000  chaparral  \n",
       "3           0.0           0.0      0.000000      beach  \n",
       "4           0.0           0.0      0.552447      river  \n",
       "\n",
       "[5 rows x 4097 columns]"
      ]
     },
     "execution_count": 6,
     "metadata": {},
     "output_type": "execute_result"
    }
   ],
   "source": [
    "data.head()"
   ]
  },
  {
   "cell_type": "code",
   "execution_count": 7,
   "metadata": {},
   "outputs": [
    {
     "data": {
      "text/html": [
       "<div>\n",
       "<style scoped>\n",
       "    .dataframe tbody tr th:only-of-type {\n",
       "        vertical-align: middle;\n",
       "    }\n",
       "\n",
       "    .dataframe tbody tr th {\n",
       "        vertical-align: top;\n",
       "    }\n",
       "\n",
       "    .dataframe thead th {\n",
       "        text-align: right;\n",
       "    }\n",
       "</style>\n",
       "<table border=\"1\" class=\"dataframe\">\n",
       "  <thead>\n",
       "    <tr style=\"text-align: right;\">\n",
       "      <th></th>\n",
       "      <th>feature_1</th>\n",
       "      <th>feature_2</th>\n",
       "      <th>feature_3</th>\n",
       "      <th>feature_4</th>\n",
       "      <th>feature_5</th>\n",
       "      <th>feature_6</th>\n",
       "      <th>feature_7</th>\n",
       "      <th>feature_8</th>\n",
       "      <th>feature_9</th>\n",
       "      <th>feature_10</th>\n",
       "      <th>...</th>\n",
       "      <th>feature_4087</th>\n",
       "      <th>feature_4088</th>\n",
       "      <th>feature_4089</th>\n",
       "      <th>feature_4090</th>\n",
       "      <th>feature_4091</th>\n",
       "      <th>feature_4092</th>\n",
       "      <th>feature_4093</th>\n",
       "      <th>feature_4094</th>\n",
       "      <th>feature_4095</th>\n",
       "      <th>feature_4096</th>\n",
       "    </tr>\n",
       "  </thead>\n",
       "  <tbody>\n",
       "    <tr>\n",
       "      <th>count</th>\n",
       "      <td>300.000000</td>\n",
       "      <td>300.000000</td>\n",
       "      <td>300.000000</td>\n",
       "      <td>300.000000</td>\n",
       "      <td>300.000000</td>\n",
       "      <td>300.000000</td>\n",
       "      <td>300.000000</td>\n",
       "      <td>300.000000</td>\n",
       "      <td>300.000000</td>\n",
       "      <td>300.000000</td>\n",
       "      <td>...</td>\n",
       "      <td>300.000000</td>\n",
       "      <td>300.000000</td>\n",
       "      <td>300.000000</td>\n",
       "      <td>300.000000</td>\n",
       "      <td>300.000000</td>\n",
       "      <td>300.000000</td>\n",
       "      <td>300.000000</td>\n",
       "      <td>300.0</td>\n",
       "      <td>300.000000</td>\n",
       "      <td>300.000000</td>\n",
       "    </tr>\n",
       "    <tr>\n",
       "      <th>mean</th>\n",
       "      <td>0.006075</td>\n",
       "      <td>0.000996</td>\n",
       "      <td>0.035626</td>\n",
       "      <td>0.198109</td>\n",
       "      <td>0.306302</td>\n",
       "      <td>0.145392</td>\n",
       "      <td>0.029904</td>\n",
       "      <td>0.015574</td>\n",
       "      <td>0.017993</td>\n",
       "      <td>0.288413</td>\n",
       "      <td>...</td>\n",
       "      <td>0.004769</td>\n",
       "      <td>0.609520</td>\n",
       "      <td>0.597160</td>\n",
       "      <td>0.323590</td>\n",
       "      <td>0.020528</td>\n",
       "      <td>0.031902</td>\n",
       "      <td>1.481293</td>\n",
       "      <td>0.0</td>\n",
       "      <td>0.004534</td>\n",
       "      <td>1.239524</td>\n",
       "    </tr>\n",
       "    <tr>\n",
       "      <th>std</th>\n",
       "      <td>0.105224</td>\n",
       "      <td>0.014681</td>\n",
       "      <td>0.236130</td>\n",
       "      <td>0.668374</td>\n",
       "      <td>0.436969</td>\n",
       "      <td>0.522102</td>\n",
       "      <td>0.198194</td>\n",
       "      <td>0.179693</td>\n",
       "      <td>0.155665</td>\n",
       "      <td>0.591321</td>\n",
       "      <td>...</td>\n",
       "      <td>0.082608</td>\n",
       "      <td>1.323339</td>\n",
       "      <td>0.917379</td>\n",
       "      <td>1.019010</td>\n",
       "      <td>0.174347</td>\n",
       "      <td>0.250427</td>\n",
       "      <td>1.776533</td>\n",
       "      <td>0.0</td>\n",
       "      <td>0.078524</td>\n",
       "      <td>1.317253</td>\n",
       "    </tr>\n",
       "    <tr>\n",
       "      <th>min</th>\n",
       "      <td>0.000000</td>\n",
       "      <td>0.000000</td>\n",
       "      <td>0.000000</td>\n",
       "      <td>0.000000</td>\n",
       "      <td>0.000000</td>\n",
       "      <td>0.000000</td>\n",
       "      <td>0.000000</td>\n",
       "      <td>0.000000</td>\n",
       "      <td>0.000000</td>\n",
       "      <td>0.000000</td>\n",
       "      <td>...</td>\n",
       "      <td>0.000000</td>\n",
       "      <td>0.000000</td>\n",
       "      <td>0.000000</td>\n",
       "      <td>0.000000</td>\n",
       "      <td>0.000000</td>\n",
       "      <td>0.000000</td>\n",
       "      <td>0.000000</td>\n",
       "      <td>0.0</td>\n",
       "      <td>0.000000</td>\n",
       "      <td>0.000000</td>\n",
       "    </tr>\n",
       "    <tr>\n",
       "      <th>25%</th>\n",
       "      <td>0.000000</td>\n",
       "      <td>0.000000</td>\n",
       "      <td>0.000000</td>\n",
       "      <td>0.000000</td>\n",
       "      <td>0.000000</td>\n",
       "      <td>0.000000</td>\n",
       "      <td>0.000000</td>\n",
       "      <td>0.000000</td>\n",
       "      <td>0.000000</td>\n",
       "      <td>0.000000</td>\n",
       "      <td>...</td>\n",
       "      <td>0.000000</td>\n",
       "      <td>0.000000</td>\n",
       "      <td>0.000000</td>\n",
       "      <td>0.000000</td>\n",
       "      <td>0.000000</td>\n",
       "      <td>0.000000</td>\n",
       "      <td>0.000000</td>\n",
       "      <td>0.0</td>\n",
       "      <td>0.000000</td>\n",
       "      <td>0.000000</td>\n",
       "    </tr>\n",
       "    <tr>\n",
       "      <th>50%</th>\n",
       "      <td>0.000000</td>\n",
       "      <td>0.000000</td>\n",
       "      <td>0.000000</td>\n",
       "      <td>0.000000</td>\n",
       "      <td>0.063618</td>\n",
       "      <td>0.000000</td>\n",
       "      <td>0.000000</td>\n",
       "      <td>0.000000</td>\n",
       "      <td>0.000000</td>\n",
       "      <td>0.000000</td>\n",
       "      <td>...</td>\n",
       "      <td>0.000000</td>\n",
       "      <td>0.000000</td>\n",
       "      <td>0.000000</td>\n",
       "      <td>0.000000</td>\n",
       "      <td>0.000000</td>\n",
       "      <td>0.000000</td>\n",
       "      <td>0.872153</td>\n",
       "      <td>0.0</td>\n",
       "      <td>0.000000</td>\n",
       "      <td>0.898127</td>\n",
       "    </tr>\n",
       "    <tr>\n",
       "      <th>75%</th>\n",
       "      <td>0.000000</td>\n",
       "      <td>0.000000</td>\n",
       "      <td>0.000000</td>\n",
       "      <td>0.000000</td>\n",
       "      <td>0.523254</td>\n",
       "      <td>0.000000</td>\n",
       "      <td>0.000000</td>\n",
       "      <td>0.000000</td>\n",
       "      <td>0.000000</td>\n",
       "      <td>0.366293</td>\n",
       "      <td>...</td>\n",
       "      <td>0.000000</td>\n",
       "      <td>0.559731</td>\n",
       "      <td>0.934315</td>\n",
       "      <td>0.000000</td>\n",
       "      <td>0.000000</td>\n",
       "      <td>0.000000</td>\n",
       "      <td>2.437103</td>\n",
       "      <td>0.0</td>\n",
       "      <td>0.000000</td>\n",
       "      <td>2.187367</td>\n",
       "    </tr>\n",
       "    <tr>\n",
       "      <th>max</th>\n",
       "      <td>1.822537</td>\n",
       "      <td>0.249662</td>\n",
       "      <td>2.510623</td>\n",
       "      <td>4.527941</td>\n",
       "      <td>2.389151</td>\n",
       "      <td>3.870526</td>\n",
       "      <td>1.803066</td>\n",
       "      <td>2.875917</td>\n",
       "      <td>2.048211</td>\n",
       "      <td>4.265208</td>\n",
       "      <td>...</td>\n",
       "      <td>1.430818</td>\n",
       "      <td>9.752917</td>\n",
       "      <td>4.911635</td>\n",
       "      <td>7.399162</td>\n",
       "      <td>2.014147</td>\n",
       "      <td>3.326735</td>\n",
       "      <td>9.211884</td>\n",
       "      <td>0.0</td>\n",
       "      <td>1.360076</td>\n",
       "      <td>5.854851</td>\n",
       "    </tr>\n",
       "  </tbody>\n",
       "</table>\n",
       "<p>8 rows × 4096 columns</p>\n",
       "</div>"
      ],
      "text/plain": [
       "        feature_1   feature_2   feature_3   feature_4   feature_5   feature_6  \\\n",
       "count  300.000000  300.000000  300.000000  300.000000  300.000000  300.000000   \n",
       "mean     0.006075    0.000996    0.035626    0.198109    0.306302    0.145392   \n",
       "std      0.105224    0.014681    0.236130    0.668374    0.436969    0.522102   \n",
       "min      0.000000    0.000000    0.000000    0.000000    0.000000    0.000000   \n",
       "25%      0.000000    0.000000    0.000000    0.000000    0.000000    0.000000   \n",
       "50%      0.000000    0.000000    0.000000    0.000000    0.063618    0.000000   \n",
       "75%      0.000000    0.000000    0.000000    0.000000    0.523254    0.000000   \n",
       "max      1.822537    0.249662    2.510623    4.527941    2.389151    3.870526   \n",
       "\n",
       "        feature_7   feature_8   feature_9  feature_10      ...       \\\n",
       "count  300.000000  300.000000  300.000000  300.000000      ...        \n",
       "mean     0.029904    0.015574    0.017993    0.288413      ...        \n",
       "std      0.198194    0.179693    0.155665    0.591321      ...        \n",
       "min      0.000000    0.000000    0.000000    0.000000      ...        \n",
       "25%      0.000000    0.000000    0.000000    0.000000      ...        \n",
       "50%      0.000000    0.000000    0.000000    0.000000      ...        \n",
       "75%      0.000000    0.000000    0.000000    0.366293      ...        \n",
       "max      1.803066    2.875917    2.048211    4.265208      ...        \n",
       "\n",
       "       feature_4087  feature_4088  feature_4089  feature_4090  feature_4091  \\\n",
       "count    300.000000    300.000000    300.000000    300.000000    300.000000   \n",
       "mean       0.004769      0.609520      0.597160      0.323590      0.020528   \n",
       "std        0.082608      1.323339      0.917379      1.019010      0.174347   \n",
       "min        0.000000      0.000000      0.000000      0.000000      0.000000   \n",
       "25%        0.000000      0.000000      0.000000      0.000000      0.000000   \n",
       "50%        0.000000      0.000000      0.000000      0.000000      0.000000   \n",
       "75%        0.000000      0.559731      0.934315      0.000000      0.000000   \n",
       "max        1.430818      9.752917      4.911635      7.399162      2.014147   \n",
       "\n",
       "       feature_4092  feature_4093  feature_4094  feature_4095  feature_4096  \n",
       "count    300.000000    300.000000         300.0    300.000000    300.000000  \n",
       "mean       0.031902      1.481293           0.0      0.004534      1.239524  \n",
       "std        0.250427      1.776533           0.0      0.078524      1.317253  \n",
       "min        0.000000      0.000000           0.0      0.000000      0.000000  \n",
       "25%        0.000000      0.000000           0.0      0.000000      0.000000  \n",
       "50%        0.000000      0.872153           0.0      0.000000      0.898127  \n",
       "75%        0.000000      2.437103           0.0      0.000000      2.187367  \n",
       "max        3.326735      9.211884           0.0      1.360076      5.854851  \n",
       "\n",
       "[8 rows x 4096 columns]"
      ]
     },
     "execution_count": 7,
     "metadata": {},
     "output_type": "execute_result"
    }
   ],
   "source": [
    "data.describe()"
   ]
  },
  {
   "cell_type": "code",
   "execution_count": 8,
   "metadata": {
    "scrolled": true
   },
   "outputs": [
    {
     "name": "stdout",
     "output_type": "stream",
     "text": [
      "        target\n",
      "0       forest\n",
      "1    chaparral\n",
      "2    chaparral\n",
      "3        beach\n",
      "4        river\n",
      "5        beach\n",
      "6    chaparral\n",
      "7        cloud\n",
      "8       forest\n",
      "9    chaparral\n",
      "10      island\n",
      "11     sea_ice\n",
      "12      meadow\n",
      "13       river\n",
      "14      forest\n",
      "15      desert\n",
      "16       cloud\n",
      "17       river\n",
      "18      island\n",
      "19      meadow\n",
      "20       river\n",
      "21       beach\n",
      "22       beach\n",
      "23       beach\n",
      "24    mountain\n",
      "25       river\n",
      "26     wetland\n",
      "27       cloud\n",
      "28       cloud\n",
      "29        lake\n",
      "..         ...\n",
      "270    wetland\n",
      "271  chaparral\n",
      "272     meadow\n",
      "273   mountain\n",
      "274    wetland\n",
      "275   mountain\n",
      "276    sea_ice\n",
      "277  chaparral\n",
      "278   snowberg\n",
      "279    sea_ice\n",
      "280      cloud\n",
      "281    wetland\n",
      "282   mountain\n",
      "283     desert\n",
      "284      river\n",
      "285     island\n",
      "286    sea_ice\n",
      "287      cloud\n",
      "288     forest\n",
      "289   snowberg\n",
      "290   mountain\n",
      "291      river\n",
      "292    sea_ice\n",
      "293      cloud\n",
      "294   snowberg\n",
      "295      cloud\n",
      "296      cloud\n",
      "297     island\n",
      "298       lake\n",
      "299     forest\n",
      "\n",
      "[300 rows x 1 columns]\n"
     ]
    }
   ],
   "source": [
    "print(data.iloc[:, -1:])\n",
    "X = data.iloc[:, :-1]\n",
    "y = data.iloc[:, -1:]"
   ]
  },
  {
   "cell_type": "markdown",
   "metadata": {},
   "source": [
    "### Visualization of values\n",
    "\n",
    "Most values are in the range (0, 5), with many really close to 0, and more than half are zero."
   ]
  },
  {
   "cell_type": "code",
   "execution_count": 35,
   "metadata": {},
   "outputs": [
    {
     "name": "stdout",
     "output_type": "stream",
     "text": [
      "Proportion of zeros : 86.19%\n",
      "Proportion of values inferior to 5 : 99.26%\n"
     ]
    }
   ],
   "source": [
    "number_0 = (data.iloc[:,:-1] == 0).sum().sum()\n",
    "total_number = (data.iloc[:,:-1] == 0).sum().sum() + (data.iloc[:,:-1] != 0).sum().sum()\n",
    "print(\"Proportion of zeros : {:.2%}\".format(number_0 / total_number))\n",
    "print(\"Proportion of values inferior to 5 : {:.2%}\".format((data.iloc[:,:-1] < 5).sum().sum() / total_number))"
   ]
  },
  {
   "cell_type": "code",
   "execution_count": 11,
   "metadata": {},
   "outputs": [
    {
     "data": {
      "image/png": "[encoded data removed]",
      "text/plain": [
       "<Figure size 2160x1080 with 1 Axes>"
      ]
     },
     "metadata": {
      "needs_background": "light"
     },
     "output_type": "display_data"
    }
   ],
   "source": [
    "import matplotlib.pyplot as plt\n",
    "plt.figure(figsize=(30,15))\n",
    "# Plot values of first 10 features\n",
    "data_plot=data.iloc[:,:10]\n",
    "data_plot.boxplot()\n",
    "plt.show()"
   ]
  },
  {
   "cell_type": "markdown",
   "metadata": {},
   "source": [
    "### Visualisation as images\n",
    "\n",
    "Although any human won't be able to make sense of those images, it is by far simpler and faster for computers to correctly recognize those \"images\" and assign them their correct classes."
   ]
  },
  {
   "cell_type": "code",
   "execution_count": 39,
   "metadata": {},
   "outputs": [
    {
     "data": {
      "image/png": "[encoded data removed]",
      "text/plain": [
       "<Figure size 720x720 with 6 Axes>"
      ]
     },
     "metadata": {
      "needs_background": "light"
     },
     "output_type": "display_data"
    }
   ],
   "source": [
    "import matplotlib.pyplot as plt\n",
    "import matplotlib.image as mpimg\n",
    "%matplotlib inline\n",
    "\n",
    "num_toshow = 6\n",
    "fig, _axs = plt.subplots(nrows=2, ncols=3, figsize=(10,10))\n",
    "fig.subplots_adjust(hspace=0.3)\n",
    "axs = _axs.flatten()\n",
    "\n",
    "for i in range(num_toshow):\n",
    "    img = data.values[i][:-1].reshape(64, 64)\n",
    "    label = data.values[i][-1:]\n",
    "    axs[i].set_title('Example of {}'.format(label))\n",
    "    axs[i].imshow(img.astype(float))\n",
    "\n",
    "plt.show()"
   ]
  },
  {
   "cell_type": "markdown",
   "metadata": {},
   "source": [
    "# Step 2: Building a predictive model"
   ]
  },
  {
   "cell_type": "markdown",
   "metadata": {},
   "source": [
    "Use DataManager to separate data for train, validation and test"
   ]
  },
  {
   "cell_type": "code",
   "execution_count": 9,
   "metadata": {},
   "outputs": [
    {
     "name": "stdout",
     "output_type": "stream",
     "text": [
      "Info file found : /home/keanu/Documents/CoursMPI/M2/Projet/Remote-Sensing-Image/starting_kit_preprocessed/sample_data/Areal_public.info\n",
      "DataManager : Areal\n",
      "info:\n",
      "\tusage = Sample dataset Areal preprocessed data\n",
      "\tname = areal\n",
      "\ttask = multiclass.classification\n",
      "\ttarget_type = Categorical\n",
      "\tfeat_type = Numerical\n",
      "\tmetric = accuracy\n",
      "\ttime_budget = 12000\n",
      "\tfeat_num = 4096\n",
      "\ttarget_num = 13\n",
      "\tlabel_num = 13\n",
      "\ttrain_num = 300\n",
      "\tvalid_num = 100\n",
      "\ttest_num = 0\n",
      "\thas_categorical = 0\n",
      "\thas_missing = 0\n",
      "\tis_sparse = 0\n",
      "\tformat = dense\n",
      "data:\n",
      "\tX_train = array(300, 4096)\n",
      "\tY_train = array(300, 1)\n",
      "\tX_valid = array(100, 4096)\n",
      "\tY_valid = array(100, 1)\n",
      "\tX_test = array(100, 4096)\n",
      "\tY_test = array(100, 1)\n",
      "feat_type:\tarray(4096,)\n",
      "feat_idx:\tarray(0,)\n",
      "\n"
     ]
    }
   ],
   "source": [
    "from data_manager import DataManager\n",
    "D = DataManager(data_name, data_dir)\n",
    "print(D)"
   ]
  },
  {
   "cell_type": "markdown",
   "metadata": {},
   "source": [
    "Get data and labels by calling D.data (DataManager.data)"
   ]
  },
  {
   "cell_type": "code",
   "execution_count": 10,
   "metadata": {},
   "outputs": [],
   "source": [
    "X_train = D.data['X_train']\n",
    "Y_train = D.data['Y_train']"
   ]
  },
  {
   "cell_type": "code",
   "execution_count": 11,
   "metadata": {},
   "outputs": [],
   "source": [
    "from model import SimpleDecisionTree"
   ]
  },
  {
   "cell_type": "code",
   "execution_count": 12,
   "metadata": {},
   "outputs": [],
   "source": [
    "M = SimpleDecisionTree()"
   ]
  },
  {
   "cell_type": "markdown",
   "metadata": {},
   "source": [
    "#### Fit the model\n",
    "\n",
    "Data as first argument, Labels as second, with .reshape(-1) to make sure that the array containing labels is flat and don't have multiple dimensions."
   ]
  },
  {
   "cell_type": "code",
   "execution_count": 13,
   "metadata": {},
   "outputs": [
    {
     "name": "stdout",
     "output_type": "stream",
     "text": [
      "FIT: dim(X)= [300, 4096]\n",
      "FIT: dim(y)= [300, 1]\n"
     ]
    }
   ],
   "source": [
    "M.fit(X_train, Y_train.reshape(-1))"
   ]
  },
  {
   "cell_type": "code",
   "execution_count": 14,
   "metadata": {},
   "outputs": [
    {
     "name": "stdout",
     "output_type": "stream",
     "text": [
      "PREDICT: dim(X)= [300, 4096]\n",
      "PREDICT: dim(y)= [300, 1]\n",
      "PREDICT: dim(X)= [100, 4096]\n",
      "PREDICT: dim(y)= [100, 1]\n",
      "PREDICT: dim(X)= [100, 4096]\n",
      "PREDICT: dim(y)= [100, 1]\n"
     ]
    }
   ],
   "source": [
    "Y_hat_train = M.predict(D.data['X_train'])\n",
    "Y_hat_valid = M.predict(D.data['X_valid'])\n",
    "Y_hat_test = M.predict(D.data['X_test'])"
   ]
  },
  {
   "cell_type": "code",
   "execution_count": 15,
   "metadata": {},
   "outputs": [
    {
     "name": "stdout",
     "output_type": "stream",
     "text": [
      "sample_result_submission/Areal_test.predict\r\n",
      "sample_result_submission/Areal_train.predict\r\n",
      "sample_result_submission/Areal_valid.predict\r\n"
     ]
    }
   ],
   "source": [
    "# m.save(trained_model_name)                 \n",
    "result_name = result_dir + data_name\n",
    "from data_io import write\n",
    "from data_io import mkdir\n",
    "mkdir(result_dir)\n",
    "\n",
    "write(result_name + '_train.predict', Y_hat_train)\n",
    "write(result_name + '_valid.predict', Y_hat_valid)\n",
    "write(result_name + '_test.predict', Y_hat_test)\n",
    "!ls $result_name*"
   ]
  },
  {
   "cell_type": "markdown",
   "metadata": {},
   "source": [
    "# Scoring predictions"
   ]
  },
  {
   "cell_type": "code",
   "execution_count": 16,
   "metadata": {},
   "outputs": [
    {
     "name": "stdout",
     "output_type": "stream",
     "text": [
      "Using scoring metric: accuracy\n"
     ]
    }
   ],
   "source": [
    "from libscores import get_metric\n",
    "metric_name, scoring_function = get_metric()\n",
    "print('Using scoring metric:', metric_name)"
   ]
  },
  {
   "cell_type": "code",
   "execution_count": 17,
   "metadata": {},
   "outputs": [
    {
     "name": "stdout",
     "output_type": "stream",
     "text": [
      "Ideal score for the accuracy metric = 1.0000 \n",
      "\n",
      "Scores with BaselineModel\n",
      "Training score for the accuracy metric = 1.0000\n",
      "Validation score for the accuracy metric = 0.3300\n",
      "Test score for the accuracy metric = 0.2900\n"
     ]
    }
   ],
   "source": [
    "print('Ideal score for the', metric_name, 'metric = %5.4f' % scoring_function(Y_train, Y_train), \"\\n\")\n",
    "\n",
    "print(\"Scores with BaselineModel\")\n",
    "print('Training score for the', metric_name, 'metric = %5.4f' % scoring_function(Y_train, Y_hat_train))\n",
    "print('Validation score for the', metric_name, 'metric = %5.4f' % scoring_function(D.data['Y_valid'], Y_hat_valid))\n",
    "print('Test score for the', metric_name, 'metric = %5.4f' % scoring_function(D.data['Y_test'], Y_hat_test))"
   ]
  },
  {
   "cell_type": "markdown",
   "metadata": {},
   "source": [
    "## Confusion matrix\n",
    "\n",
    "Doesn't have much value on train with a 100% accuracy, so it is for validation"
   ]
  },
  {
   "cell_type": "code",
   "execution_count": 18,
   "metadata": {},
   "outputs": [
    {
     "data": {
      "text/plain": [
       "array([[1, 0, 1, 0, 0, 0, 0, 1, 0, 1, 0, 0, 0],\n",
       "       [0, 2, 0, 1, 0, 0, 1, 1, 0, 1, 0, 1, 0],\n",
       "       [1, 0, 2, 1, 0, 0, 0, 0, 1, 0, 0, 1, 0],\n",
       "       [1, 0, 2, 7, 0, 0, 1, 0, 1, 0, 1, 0, 0],\n",
       "       [0, 0, 1, 0, 1, 0, 0, 2, 3, 0, 0, 0, 1],\n",
       "       [0, 0, 1, 1, 0, 3, 0, 0, 0, 1, 0, 0, 0],\n",
       "       [0, 0, 0, 0, 0, 0, 0, 1, 2, 3, 0, 0, 0],\n",
       "       [0, 0, 0, 1, 1, 0, 0, 6, 0, 3, 2, 1, 2],\n",
       "       [1, 0, 0, 1, 0, 0, 1, 0, 1, 1, 1, 0, 1],\n",
       "       [0, 0, 2, 0, 0, 0, 1, 0, 0, 2, 1, 0, 0],\n",
       "       [0, 0, 1, 0, 0, 0, 0, 0, 0, 0, 3, 1, 0],\n",
       "       [0, 2, 0, 0, 0, 0, 0, 0, 1, 2, 1, 2, 0],\n",
       "       [0, 0, 0, 0, 2, 1, 0, 1, 0, 1, 0, 0, 3]])"
      ]
     },
     "execution_count": 18,
     "metadata": {},
     "output_type": "execute_result"
    }
   ],
   "source": [
    "from sklearn.metrics import confusion_matrix\n",
    "confusion_matrix(D.data['Y_valid'], Y_hat_valid)"
   ]
  },
  {
   "cell_type": "markdown",
   "metadata": {},
   "source": [
    "# Cross-validation\n",
    "\n",
    "Because validation and test labels should first not be available, we do cross validation to see our models quality"
   ]
  },
  {
   "cell_type": "code",
   "execution_count": 19,
   "metadata": {},
   "outputs": [
    {
     "name": "stdout",
     "output_type": "stream",
     "text": [
      "FIT: dim(X)= [240, 4096]\n",
      "FIT: dim(y)= [240, 1]\n",
      "PREDICT: dim(X)= [60, 4096]\n",
      "PREDICT: dim(y)= [60, 1]\n",
      "FIT: dim(X)= [240, 4096]\n",
      "FIT: dim(y)= [240, 1]\n",
      "PREDICT: dim(X)= [60, 4096]\n",
      "PREDICT: dim(y)= [60, 1]\n",
      "FIT: dim(X)= [240, 4096]\n",
      "FIT: dim(y)= [240, 1]\n",
      "PREDICT: dim(X)= [60, 4096]\n",
      "PREDICT: dim(y)= [60, 1]\n",
      "FIT: dim(X)= [240, 4096]\n",
      "FIT: dim(y)= [240, 1]\n",
      "PREDICT: dim(X)= [60, 4096]\n",
      "PREDICT: dim(y)= [60, 1]\n",
      "FIT: dim(X)= [240, 4096]\n",
      "FIT: dim(y)= [240, 1]\n",
      "PREDICT: dim(X)= [60, 4096]\n",
      "PREDICT: dim(y)= [60, 1]\n",
      "\n",
      "CV score (95 perc. CI): 0.26 (+/- 0.06)\n"
     ]
    }
   ],
   "source": [
    "from sklearn.metrics import make_scorer\n",
    "from sklearn.model_selection import cross_val_score\n",
    "\n",
    "scores = cross_val_score(SimpleDecisionTree(), X_train, Y_train, cv=5, scoring=make_scorer(scoring_function))\n",
    "print('\\nCV score (95 perc. CI): %0.2f (+/- %0.2f)' % (scores.mean(), scores.std() * 2))"
   ]
  },
  {
   "cell_type": "markdown",
   "metadata": {},
   "source": [
    "# Submission\n",
    "\n",
    "## Example\n",
    "\n",
    "Example needs to have python3 installed\n",
    "\n",
    "Test to see whether submission with ingestion program is working"
   ]
  },
  {
   "cell_type": "code",
   "execution_count": 20,
   "metadata": {
    "scrolled": false
   },
   "outputs": [
    {
     "name": "stdout",
     "output_type": "stream",
     "text": [
      "Using input_dir: /home/keanu/Documents/CoursMPI/M2/Projet/Remote-Sensing-Image/starting_kit_preprocessed/sample_data\n",
      "Using output_dir: /home/keanu/Documents/CoursMPI/M2/Projet/Remote-Sensing-Image/starting_kit_preprocessed/sample_result_submission\n",
      "Using program_dir: /home/keanu/Documents/CoursMPI/M2/Projet/Remote-Sensing-Image/starting_kit_preprocessed/ingestion_program\n",
      "Using submission_dir: /home/keanu/Documents/CoursMPI/M2/Projet/Remote-Sensing-Image/starting_kit_preprocessed/sample_code_submission\n",
      "\n",
      "========== Ingestion program version 6 ==========\n",
      "\n",
      "************************************************\n",
      "******** Processing dataset Areal ********\n",
      "************************************************\n",
      "========= Reading and converting data ==========\n",
      "Info file found : /home/keanu/Documents/CoursMPI/M2/Projet/Remote-Sensing-Image/starting_kit_preprocessed/sample_data/Areal_public.info\n",
      "========= Reading /home/keanu/Documents/CoursMPI/M2/Projet/Remote-Sensing-Image/starting_kit_preprocessed/sample_data/Areal_feat.type\n",
      "[+] Success in  0.00 sec\n",
      "========= Reading /home/keanu/Documents/CoursMPI/M2/Projet/Remote-Sensing-Image/starting_kit_preprocessed/sample_data/Areal_train.data\n",
      "Replace missing values by 0 (slow, sorry)\n",
      "[+] Success in  0.25 sec\n",
      "========= Reading /home/keanu/Documents/CoursMPI/M2/Projet/Remote-Sensing-Image/starting_kit_preprocessed/sample_data/Areal_train.solution\n",
      "[+] Success in  0.00 sec\n",
      "========= Reading /home/keanu/Documents/CoursMPI/M2/Projet/Remote-Sensing-Image/starting_kit_preprocessed/sample_data/Areal_valid.data\n",
      "Replace missing values by 0 (slow, sorry)\n",
      "[+] Success in  0.12 sec\n",
      "========= Reading /home/keanu/Documents/CoursMPI/M2/Projet/Remote-Sensing-Image/starting_kit_preprocessed/sample_data/Areal_valid.solution\n",
      "[+] Success in  0.00 sec\n",
      "========= Reading /home/keanu/Documents/CoursMPI/M2/Projet/Remote-Sensing-Image/starting_kit_preprocessed/sample_data/Areal_test.data\n",
      "Replace missing values by 0 (slow, sorry)\n",
      "[+] Success in  0.11 sec\n",
      "========= Reading /home/keanu/Documents/CoursMPI/M2/Projet/Remote-Sensing-Image/starting_kit_preprocessed/sample_data/Areal_test.solution\n",
      "[+] Success in  0.00 sec\n",
      "DataManager : Areal\n",
      "info:\n",
      "\tusage = Sample dataset Areal preprocessed data\n",
      "\tname = areal\n",
      "\ttask = multiclass.classification\n",
      "\ttarget_type = Categorical\n",
      "\tfeat_type = Numerical\n",
      "\tmetric = accuracy\n",
      "\ttime_budget = 12000\n",
      "\tfeat_num = 4096\n",
      "\ttarget_num = 13\n",
      "\tlabel_num = 13\n",
      "\ttrain_num = 300\n",
      "\tvalid_num = 100\n",
      "\ttest_num = 0\n",
      "\thas_categorical = 0\n",
      "\thas_missing = 0\n",
      "\tis_sparse = 0\n",
      "\tformat = dense\n",
      "data:\n",
      "\tX_train = array(300, 4096)\n",
      "\tY_train = array(300, 1)\n",
      "\tX_valid = array(100, 4096)\n",
      "\tY_valid = array(100, 1)\n",
      "\tX_test = array(100, 4096)\n",
      "\tY_test = array(100, 1)\n",
      "feat_type:\tarray(4096,)\n",
      "feat_idx:\tarray(4096,)\n",
      "\n",
      "[+] Size of uploaded data  56.00 bytes\n",
      "[+] Cumulated time budget (all tasks so far)  12000.00 sec\n",
      "[+] Time budget for this task 12000.00 sec\n",
      "[+] Remaining time after reading data 11999.50 sec\n",
      "======== Creating model ==========\n",
      "**********************************************************\n",
      "****** Attempting to reload model to avoid training ******\n",
      "**********************************************************\n",
      "Model reloaded from: /home/keanu/Documents/CoursMPI/M2/Projet/Remote-Sensing-Image/starting_kit_preprocessed/sample_code_submission/Areal_model.pickle\n",
      "[+] Model reloaded, no need to train!\n",
      "PREDICT: dim(X)= [300, 4096]\n",
      "PREDICT: dim(y)= [300, 1]\n",
      "PREDICT: dim(X)= [100, 4096]\n",
      "PREDICT: dim(y)= [100, 1]\n",
      "PREDICT: dim(X)= [100, 4096]\n",
      "PREDICT: dim(y)= [100, 1]\n",
      "[+] Prediction success, time spent so far  0.50 sec\n",
      "======== Saving results to: /home/keanu/Documents/CoursMPI/M2/Projet/Remote-Sensing-Image/starting_kit_preprocessed/sample_result_submission\n",
      "[+] Results saved, time spent so far  0.51 sec\n",
      "[+] End cycle, time left 11999.49 sec\n",
      "[+] Done\n",
      "[+] Overall time spent  1.33 sec ::  Overall time budget 12000.00 sec\n"
     ]
    }
   ],
   "source": [
    "!python3 $problem_dir/ingestion.py $data_dir $result_dir $problem_dir $model_dir"
   ]
  },
  {
   "cell_type": "markdown",
   "metadata": {},
   "source": [
    "### Test scoring program"
   ]
  },
  {
   "cell_type": "code",
   "execution_count": 21,
   "metadata": {},
   "outputs": [
    {
     "name": "stdout",
     "output_type": "stream",
     "text": [
      "======= Set 1 (Areal_test): accuracy(set1_score)=0.350000000000 =======\r\n",
      "======= Set 2 (Areal_train): accuracy(set2_score)=1.000000000000 =======\r\n",
      "======= Set 3 (Areal_valid): accuracy(set3_score)=0.330000000000 =======\r\n"
     ]
    }
   ],
   "source": [
    "scoring_output_dir = 'scoring_output'\n",
    "!python3 $score_dir/score.py $data_dir $result_dir $scoring_output_dir"
   ]
  },
  {
   "cell_type": "markdown",
   "metadata": {},
   "source": [
    "# Prepare the submission"
   ]
  },
  {
   "cell_type": "code",
   "execution_count": 22,
   "metadata": {},
   "outputs": [
    {
     "name": "stdout",
     "output_type": "stream",
     "text": [
      "Submit one of these files:\n",
      "../sample_code_submission_prep_18-12-03-18-22.zip\n",
      "../sample_result_submission_prep_18-12-03-18-22.zip\n"
     ]
    }
   ],
   "source": [
    "import datetime \n",
    "from data_io import zipdir\n",
    "the_date = datetime.datetime.now().strftime(\"%y-%m-%d-%H-%M\")\n",
    "sample_code_submission = '../sample_code_submission_prep_' + the_date + '.zip'\n",
    "sample_result_submission = '../sample_result_submission_prep_' + the_date + '.zip'\n",
    "zipdir(sample_code_submission, model_dir)\n",
    "zipdir(sample_result_submission, result_dir)\n",
    "print(\"Submit one of these files:\\n\" + sample_code_submission + \"\\n\" + sample_result_submission)"
   ]
  },
  {
   "cell_type": "code",
   "execution_count": null,
   "metadata": {},
   "outputs": [],
   "source": []
  }
 ],
 "metadata": {
  "kernelspec": {
   "display_name": "Python 3",
   "language": "python",
   "name": "python3"
  },
  "language_info": {
   "codemirror_mode": {
    "name": "ipython",
    "version": 3
   },
   "file_extension": ".py",
   "mimetype": "text/x-python",
   "name": "python",
   "nbconvert_exporter": "python",
   "pygments_lexer": "ipython3",
   "version": "3.6.7"
  }
 },
 "nbformat": 4,
 "nbformat_minor": 2
}

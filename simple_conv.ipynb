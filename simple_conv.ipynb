{
 "cells": [
  {
   "cell_type": "code",
   "execution_count": 1,
   "metadata": {},
   "outputs": [],
   "source": [
    "import torch as th\n",
    "import torch.nn as nn\n",
    "from torchvision import transforms\n",
    "import torchvision as thv\n",
    "import os"
   ]
  },
  {
   "cell_type": "markdown",
   "metadata": {},
   "source": [
    "## Modèle"
   ]
  },
  {
   "cell_type": "code",
   "execution_count": 2,
   "metadata": {},
   "outputs": [],
   "source": [
    "class SimpleConvModel(nn.Module):\n",
    "    def __init__(self, out_channel_conv=16, linear_hidden_size=256, out_class=13):\n",
    "        super(SimpleConvModel, self).__init__()\n",
    "        \n",
    "        self.out_channel_conv = out_channel_conv\n",
    "        self.linear_hidden_size = linear_hidden_size\n",
    "        self.out_class = out_class\n",
    "        \n",
    "        self.seq1 = nn.Sequential(nn.Conv2d(3, self.out_channel_conv, (10,10), stride=(3,3)),\n",
    "                                  nn.MaxPool2d((5,5)),\n",
    "                                  nn.ReLU())\n",
    "        \n",
    "        self.seq2 = nn.Sequential(nn.Linear(16 * 16 * 16, self.linear_hidden_size),\n",
    "                                  nn.ReLU(),\n",
    "                                  nn.Linear(self.linear_hidden_size, self.out_class),\n",
    "                                  nn.Softmax(dim = 1)) \n",
    "        \n",
    "    def forward(self, x):\n",
    "        out1 = self.seq1(x)\n",
    "        out2 = out1.view(-1, 16*16*16)\n",
    "        out3 = self.seq2(out2)\n",
    "        return out3"
   ]
  },
  {
   "cell_type": "markdown",
   "metadata": {},
   "source": [
    "## Chargement des données"
   ]
  },
  {
   "cell_type": "code",
   "execution_count": 3,
   "metadata": {},
   "outputs": [],
   "source": [
    "data_dir = \"RESISC13\"\n",
    "batch_size = 32\n",
    "mean = [0.5, 0.5, 0.5]\n",
    "std = [0.5, 0.5, 0.5]\n",
    "scale = 360\n",
    "use_parallel = True\n",
    "\n",
    "data_transforms = transforms.Compose([\n",
    "        transforms.ToTensor(),\n",
    "        transforms.Normalize(mean, std)])"
   ]
  },
  {
   "cell_type": "code",
   "execution_count": 4,
   "metadata": {},
   "outputs": [],
   "source": [
    "to_load = ['train', 'val', 'test']"
   ]
  },
  {
   "cell_type": "code",
   "execution_count": 5,
   "metadata": {},
   "outputs": [],
   "source": [
    "image_datasets = {x: thv.datasets.ImageFolder(os.path.join(data_dir, x),\n",
    "                                      data_transforms) for x in to_load}\n",
    "dataloaders = {x: th.utils.data.DataLoader(image_datasets[x], batch_size=batch_size,\n",
    "                                         shuffle=True, num_workers=4) for x in to_load}"
   ]
  },
  {
   "cell_type": "code",
   "execution_count": 6,
   "metadata": {},
   "outputs": [],
   "source": [
    "use_cuda = True"
   ]
  },
  {
   "cell_type": "code",
   "execution_count": 11,
   "metadata": {},
   "outputs": [
    {
     "name": "stdout",
     "output_type": "stream",
     "text": [
      "Epoch 0, loss = 2.456619, acc = 0.249624\n",
      "Epoch 1, loss = 2.388986, acc = 0.308777\n",
      "Epoch 2, loss = 2.353087, acc = 0.377493\n",
      "Epoch 3, loss = 2.314221, acc = 0.400478\n",
      "Epoch 4, loss = 2.288809, acc = 0.469262\n",
      "Epoch 5, loss = 2.266902, acc = 0.475854\n",
      "Epoch 6, loss = 2.251912, acc = 0.476332\n",
      "Epoch 7, loss = 2.239502, acc = 0.484085\n",
      "Epoch 8, loss = 2.227113, acc = 0.476264\n",
      "Epoch 9, loss = 2.215233, acc = 0.503176\n",
      "Epoch 10, loss = 2.204795, acc = 0.503518\n",
      "Epoch 11, loss = 2.195599, acc = 0.512022\n",
      "Epoch 12, loss = 2.188438, acc = 0.505294\n",
      "Epoch 13, loss = 2.181731, acc = 0.510383\n",
      "Epoch 14, loss = 2.176160, acc = 0.519126\n",
      "Epoch 15, loss = 2.170711, acc = 0.512807\n",
      "Epoch 16, loss = 2.166123, acc = 0.512432\n",
      "Epoch 17, loss = 2.161022, acc = 0.518033\n",
      "Epoch 18, loss = 2.156895, acc = 0.513866\n",
      "Epoch 19, loss = 2.152634, acc = 0.516803\n",
      "Epoch 20, loss = 2.149387, acc = 0.517896\n",
      "Epoch 21, loss = 2.146070, acc = 0.521414\n",
      "Epoch 22, loss = 2.142053, acc = 0.523975\n",
      "Epoch 23, loss = 2.139037, acc = 0.523600\n",
      "Epoch 24, loss = 2.136066, acc = 0.521995\n",
      "Epoch 25, loss = 2.133029, acc = 0.531318\n",
      "Epoch 26, loss = 2.129845, acc = 0.529406\n",
      "Epoch 27, loss = 2.127820, acc = 0.531967\n",
      "Epoch 28, loss = 2.125240, acc = 0.530772\n",
      "Epoch 29, loss = 2.122974, acc = 0.524966\n",
      "Epoch 30, loss = 2.119889, acc = 0.535075\n",
      "Epoch 31, loss = 2.117718, acc = 0.534973\n",
      "Epoch 32, loss = 2.115581, acc = 0.533846\n",
      "Epoch 33, loss = 2.112901, acc = 0.534392\n",
      "Epoch 34, loss = 2.111657, acc = 0.530772\n",
      "Epoch 35, loss = 2.109007, acc = 0.537056\n",
      "Epoch 36, loss = 2.107471, acc = 0.532001\n",
      "Epoch 37, loss = 2.105444, acc = 0.537602\n",
      "Epoch 38, loss = 2.102978, acc = 0.536407\n",
      "Epoch 39, loss = 2.101622, acc = 0.536475\n",
      "Epoch 40, loss = 2.098991, acc = 0.533743\n",
      "Epoch 41, loss = 2.097546, acc = 0.537432\n",
      "Epoch 42, loss = 2.095774, acc = 0.542486\n",
      "Epoch 43, loss = 2.094744, acc = 0.541018\n",
      "Epoch 44, loss = 2.092251, acc = 0.538149\n",
      "Epoch 45, loss = 2.091391, acc = 0.542077\n",
      "Epoch 46, loss = 2.089179, acc = 0.541086\n",
      "Epoch 47, loss = 2.087587, acc = 0.548327\n",
      "Epoch 48, loss = 2.086081, acc = 0.549351\n",
      "Epoch 49, loss = 2.084157, acc = 0.549727\n",
      "Epoch 50, loss = 2.082877, acc = 0.545663\n",
      "Epoch 51, loss = 2.080986, acc = 0.551264\n",
      "Epoch 52, loss = 2.079231, acc = 0.544228\n",
      "Epoch 53, loss = 2.078258, acc = 0.556318\n",
      "Epoch 54, loss = 2.076945, acc = 0.553313\n",
      "Epoch 55, loss = 2.075138, acc = 0.553859\n",
      "Epoch 56, loss = 2.073429, acc = 0.553245\n",
      "Epoch 57, loss = 2.071687, acc = 0.556455\n",
      "Epoch 58, loss = 2.070196, acc = 0.552493\n",
      "Epoch 59, loss = 2.069130, acc = 0.559460\n",
      "Epoch 60, loss = 2.067223, acc = 0.557104\n",
      "Epoch 61, loss = 2.065918, acc = 0.562910\n",
      "Epoch 62, loss = 2.064035, acc = 0.563456\n",
      "Epoch 63, loss = 2.062728, acc = 0.564105\n",
      "Epoch 64, loss = 2.060689, acc = 0.566052\n",
      "Epoch 65, loss = 2.060010, acc = 0.564617\n",
      "Epoch 66, loss = 2.058816, acc = 0.570253\n",
      "Epoch 67, loss = 2.057040, acc = 0.562705\n",
      "Epoch 68, loss = 2.055656, acc = 0.576503\n",
      "Epoch 69, loss = 2.054580, acc = 0.570731\n",
      "Epoch 70, loss = 2.052919, acc = 0.575854\n",
      "Epoch 71, loss = 2.051945, acc = 0.568750\n",
      "Epoch 72, loss = 2.050249, acc = 0.586202\n",
      "Epoch 73, loss = 2.048881, acc = 0.577766\n",
      "Epoch 74, loss = 2.048064, acc = 0.576913\n",
      "Epoch 75, loss = 2.046719, acc = 0.582684\n",
      "Epoch 76, loss = 2.045197, acc = 0.577357\n",
      "Epoch 77, loss = 2.043951, acc = 0.587227\n",
      "Epoch 78, loss = 2.043225, acc = 0.577527\n",
      "Epoch 79, loss = 2.041588, acc = 0.589276\n",
      "Epoch 80, loss = 2.039894, acc = 0.581489\n",
      "Epoch 81, loss = 2.038964, acc = 0.585178\n",
      "Epoch 82, loss = 2.038400, acc = 0.588115\n",
      "Epoch 83, loss = 2.037167, acc = 0.586510\n",
      "Epoch 84, loss = 2.035404, acc = 0.576093\n",
      "Epoch 85, loss = 2.034566, acc = 0.590232\n",
      "Epoch 86, loss = 2.032995, acc = 0.589105\n",
      "Epoch 87, loss = 2.032772, acc = 0.587739\n",
      "Epoch 88, loss = 2.031519, acc = 0.590198\n",
      "Epoch 89, loss = 2.030410, acc = 0.590847\n",
      "Epoch 90, loss = 2.029114, acc = 0.587671\n",
      "Epoch 91, loss = 2.028447, acc = 0.592042\n",
      "Epoch 92, loss = 2.027477, acc = 0.589447\n",
      "Epoch 93, loss = 2.026132, acc = 0.590915\n",
      "Epoch 94, loss = 2.024951, acc = 0.586578\n",
      "Epoch 95, loss = 2.024654, acc = 0.586578\n",
      "Epoch 96, loss = 2.023166, acc = 0.589139\n",
      "Epoch 97, loss = 2.022555, acc = 0.594399\n",
      "Epoch 98, loss = 2.021660, acc = 0.592316\n",
      "Epoch 99, loss = 2.020297, acc = 0.587705\n"
     ]
    }
   ],
   "source": [
    "nb_epoch = 100\n",
    "\n",
    "model = SimpleConvModel()\n",
    "loss_fn = nn.CrossEntropyLoss()\n",
    "\n",
    "if use_cuda:\n",
    "    model.cuda()\n",
    "    loss_fn.cuda()\n",
    "    \n",
    "optim = th.optim.Adagrad(model.parameters(), lr=5e-4)\n",
    "\n",
    "loss_values = []\n",
    "acc_values = []\n",
    "\n",
    "for e in range(nb_epoch):\n",
    "    model.train()\n",
    "    \n",
    "    sum_loss = 0\n",
    "    total = 0\n",
    "    for x, y in dataloaders['train']:\n",
    "        if use_cuda:\n",
    "            x = x.cuda()\n",
    "            y = y.cuda()\n",
    "        \n",
    "        optim.zero_grad()\n",
    "        \n",
    "        out = model(x)\n",
    "        loss = loss_fn(out, y)\n",
    "        \n",
    "        loss.backward()\n",
    "        optim.step()\n",
    "        \n",
    "        sum_loss += loss.item()\n",
    "        total += 1\n",
    "    sum_loss /= total\n",
    "    \n",
    "    model.eval()\n",
    "    sum_acc = 0\n",
    "    total = 0\n",
    "    for x, y in dataloaders['val']:\n",
    "        if use_cuda:\n",
    "            x = x.cuda()\n",
    "            y = y.cuda()\n",
    "        pred = model(x).argmax(dim=1)\n",
    "        sum_acc += th.sum(pred == y).item() / x.size(0)\n",
    "        total += 1\n",
    "    sum_acc /= total\n",
    "    \n",
    "    loss_values.append(sum_loss)\n",
    "    acc_values.append(sum_acc)\n",
    "    print(\"Epoch %d, loss = %f, acc = %f\" % (e, sum_loss, sum_acc))    "
   ]
  },
  {
   "cell_type": "code",
   "execution_count": 12,
   "metadata": {},
   "outputs": [],
   "source": [
    "import matplotlib.pyplot as plt"
   ]
  },
  {
   "cell_type": "code",
   "execution_count": 15,
   "metadata": {},
   "outputs": [
    {
     "name": "stderr",
     "output_type": "stream",
     "text": [
      "No handles with labels found to put in legend.\n"
     ]
    },
    {
     "data": {
      "image/png": "[encoded data removed]",
      "text/plain": [
       "<Figure size 432x288 with 1 Axes>"
      ]
     },
     "metadata": {
      "needs_background": "light"
     },
     "output_type": "display_data"
    }
   ],
   "source": [
    "plt.plot(range(nb_epoch), loss_values)\n",
    "plt.xlabel(\"#epoch\")\n",
    "plt.ylabel(\"loss value\")\n",
    "plt.title(\"Loss value per epoch\")\n",
    "plt.legend()\n",
    "plt.show()"
   ]
  },
  {
   "cell_type": "code",
   "execution_count": 16,
   "metadata": {},
   "outputs": [
    {
     "name": "stderr",
     "output_type": "stream",
     "text": [
      "No handles with labels found to put in legend.\n"
     ]
    },
    {
     "data": {
      "image/png": "[encoded data removed]",
      "text/plain": [
       "<Figure size 432x288 with 1 Axes>"
      ]
     },
     "metadata": {
      "needs_background": "light"
     },
     "output_type": "display_data"
    }
   ],
   "source": [
    "plt.plot(range(nb_epoch), acc_values)\n",
    "plt.xlabel(\"#epoch\")\n",
    "plt.ylabel(\"acc value\")\n",
    "plt.title(\"Accuracy value per epoch\")\n",
    "plt.legend()\n",
    "plt.show()"
   ]
  },
  {
   "cell_type": "code",
   "execution_count": null,
   "metadata": {},
   "outputs": [],
   "source": []
  }
 ],
 "metadata": {
  "kernelspec": {
   "display_name": "Python 3",
   "language": "python",
   "name": "python3"
  },
  "language_info": {
   "codemirror_mode": {
    "name": "ipython",
    "version": 3
   },
   "file_extension": ".py",
   "mimetype": "text/x-python",
   "name": "python",
   "nbconvert_exporter": "python",
   "pygments_lexer": "ipython3",
   "version": "3.6.7"
  }
 },
 "nbformat": 4,
 "nbformat_minor": 2
}
